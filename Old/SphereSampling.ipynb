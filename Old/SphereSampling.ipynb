{
 "cells": [
  {
   "cell_type": "code",
   "execution_count": 1,
   "metadata": {
    "collapsed": false
   },
   "outputs": [
    {
     "name": "stdout",
     "output_type": "stream",
     "text": [
      "<pyopencl.Device 'HD Graphics 4000' on 'Apple' at 0x1024400>\n"
     ]
    },
    {
     "name": "stderr",
     "output_type": "stream",
     "text": [
      "/Users/jug/Library/Enthought/Canopy_64bit/User/lib/python2.7/site-packages/pyopencl/__init__.py:207: CompilerWarning: Non-empty compiler output encountered. Set the environment variable PYOPENCL_COMPILER_OUTPUT=1 to see more.\n",
      "  \"to see more.\", CompilerWarning)\n"
     ]
    },
    {
     "name": "stdout",
     "output_type": "stream",
     "text": [
      "could not open /Users/jug/.spimagine\n",
      "<pyopencl.Device 'HD Graphics 4000' on 'Apple' at 0x1024400>\n"
     ]
    }
   ],
   "source": [
    "%matplotlib qt\n",
    "\n",
    "import numpy as np\n",
    "from mpl_toolkits.mplot3d import Axes3D\n",
    "import matplotlib.pyplot as plt\n",
    "import cPickle as pickle\n",
    "\n",
    "from spimagine import volshow\n",
    "from spimagine import EllipsoidMesh, Mesh\n",
    "from scipy.spatial import ConvexHull\n",
    "\n",
    "# %matplotlib inline\n",
    "# %pylab inline\n",
    "# %pylab.rcParams['figure.figsize'] = (10, 10)"
   ]
  },
  {
   "cell_type": "markdown",
   "metadata": {},
   "source": [
    "# Sample unit sphere\n",
    "(see http://blog.marmakoide.org/?p=1)"
   ]
  },
  {
   "cell_type": "code",
   "execution_count": 4,
   "metadata": {
    "collapsed": true
   },
   "outputs": [],
   "source": [
    "n = 1024\n",
    " \n",
    "golden_angle = np.pi * (3 - np.sqrt(5))\n",
    "theta = golden_angle * np.arange(n)\n",
    "z = np.linspace(1 - 1.0 / n, 1.0 / n - 1, n)\n",
    "radius = np.sqrt(1 - z * z)\n",
    " \n",
    "points = np.zeros((n, 3))\n",
    "points[:,0] = radius * np.cos(theta)\n",
    "points[:,1] = radius * np.sin(theta)\n",
    "points[:,2] = z"
   ]
  },
  {
   "cell_type": "markdown",
   "metadata": {},
   "source": [
    "# Plot it and compute neighborhood"
   ]
  },
  {
   "cell_type": "code",
   "execution_count": 5,
   "metadata": {
    "collapsed": false
   },
   "outputs": [],
   "source": [
    "fig = plt.figure()\n",
    "ax = fig.add_subplot(111, projection='3d')\n",
    "xs = points[:,0]\n",
    "ys = points[:,1]\n",
    "zs = points[:,2]\n",
    "ax.scatter(xs, ys, zs, c='r', marker='o')\n",
    "\n",
    "ax.set_xlabel('X')\n",
    "ax.set_ylabel('Y')\n",
    "ax.set_zlabel('Z')\n",
    "\n",
    "plt.show()"
   ]
  },
  {
   "cell_type": "code",
   "execution_count": 6,
   "metadata": {
    "collapsed": false
   },
   "outputs": [],
   "source": [
    "num_neighbors = 6\n",
    "neighbors=[]\n",
    "for i,p1 in enumerate(points):\n",
    "    dists = []\n",
    "    for j,p2 in enumerate(points):\n",
    "        dists.append( [i, j, np.dot(p1,p2)] )\n",
    "    sorted_dists = sorted(dists, key=lambda dists: -dists[2])\n",
    "    for idx in range(1,1+num_neighbors):\n",
    "        neighbors.append(sorted_dists[idx])"
   ]
  },
  {
   "cell_type": "code",
   "execution_count": 7,
   "metadata": {
    "collapsed": false
   },
   "outputs": [],
   "source": [
    "fig = plt.figure()\n",
    "ax = fig.add_subplot(111, projection='3d')\n",
    "\n",
    "xs = points[:,0]\n",
    "ys = points[:,1]\n",
    "zs = points[:,2]\n",
    "ax.scatter(xs, ys, zs, c='y', marker='x')\n",
    "\n",
    "for cidx in range(0,n,128):\n",
    "    cx = points[cidx,0]\n",
    "    cy = points[cidx,1]\n",
    "    cz = points[cidx,2]\n",
    "    ax.scatter(cx, cy, cz, c='r', marker='o')\n",
    "\n",
    "    nOfC = neighbors[cidx*num_neighbors:(cidx+1)*num_neighbors]\n",
    "    p = points[[nOfC[i][1] for i in range(num_neighbors)]]\n",
    "    xs = p[:,0]\n",
    "    ys = p[:,1]\n",
    "    zs = p[:,2]\n",
    "    ax.scatter(xs, ys, zs, c='b', marker='^')\n",
    "\n",
    "ax.set_xlabel('X')\n",
    "ax.set_ylabel('Y')\n",
    "ax.set_zlabel('Z')\n",
    "\n",
    "plt.show()"
   ]
  },
  {
   "cell_type": "code",
   "execution_count": 8,
   "metadata": {
    "collapsed": false
   },
   "outputs": [
    {
     "name": "stdout",
     "output_type": "stream",
     "text": [
      "[[  3.00000000e+00   2.00000000e+00   5.00000000e+00   1.00000000e+00\n",
      "    8.00000000e+00   6.00000000e+00]\n",
      " [  6.00000000e+00   4.00000000e+00   0.00000000e+00   9.00000000e+00\n",
      "    3.00000000e+00   2.00000000e+00]\n",
      " [  7.00000000e+00   0.00000000e+00   1.00000000e+01   5.00000000e+00\n",
      "    1.50000000e+01   4.00000000e+00]\n",
      " ..., \n",
      " [  1.01600000e+03   1.02300000e+03   1.01300000e+03   1.01800000e+03\n",
      "    1.00800000e+03   1.01900000e+03]\n",
      " [  1.01700000e+03   1.01900000e+03   1.02300000e+03   1.01400000e+03\n",
      "    1.02000000e+03   1.02100000e+03]\n",
      " [  1.02000000e+03   1.02100000e+03   1.01800000e+03   1.02200000e+03\n",
      "    1.01500000e+03   1.01700000e+03]]\n"
     ]
    }
   ],
   "source": [
    "neighbors_of = np.ones([n,num_neighbors]) * -1\n",
    "for i,p1 in enumerate(points):\n",
    "    dists = []\n",
    "    for j,p2 in enumerate(points):\n",
    "        dists.append( [i, j, np.dot(p1,p2)] )\n",
    "    sorted_dists = sorted(dists, key=lambda dists: -dists[2])\n",
    "    for idx in range(1,1+num_neighbors):\n",
    "        neighbors.append(sorted_dists[idx])\n",
    "    for idx in range(num_neighbors):\n",
    "        neighbors_of[i,idx] = sorted_dists[idx+1][1]\n",
    "\n",
    "print neighbors_of"
   ]
  },
  {
   "cell_type": "markdown",
   "metadata": {},
   "source": [
    "# Get triangulation of sampled unit sphere via _ConvexHull_ "
   ]
  },
  {
   "cell_type": "code",
   "execution_count": 9,
   "metadata": {
    "collapsed": false
   },
   "outputs": [],
   "source": [
    "hull = ConvexHull(points)\n",
    "normals = np.zeros_like(points)\n",
    "count = np.zeros_like(points[:,np.newaxis])\n",
    "for i,ind in enumerate(hull.simplices):\n",
    "    normals[ind,:] += hull.equations[i,:3]\n",
    "    count[ind] += 1\n",
    "normals = normals/count\n",
    "\n",
    "image = np.zeros((10,10,10))\n",
    "w = volshow(image, raise_window=True)\n",
    "m = Mesh(vertices=points, normals = normals, indices=hull.simplices.flatten())\n",
    "w.glWidget.add_mesh( m )"
   ]
  },
  {
   "cell_type": "code",
   "execution_count": 10,
   "metadata": {
    "collapsed": true
   },
   "outputs": [],
   "source": [
    "triangles = hull.simplices"
   ]
  },
  {
   "cell_type": "markdown",
   "metadata": {},
   "source": [
    "# Store data to file... "
   ]
  },
  {
   "cell_type": "code",
   "execution_count": 11,
   "metadata": {
    "collapsed": true
   },
   "outputs": [],
   "source": [
    "dictDataStorage = {\n",
    "    'n'            : n,\n",
    "    'points'       : points,\n",
    "    'neighbors'    : neighbors,\n",
    "    'neighbors_of' : neighbors_of,\n",
    "    'triangles'    : triangles\n",
    "}\n",
    "with open('sphere_sampling_1024.pkl','w') as f:\n",
    "    pickle.dump(dictDataStorage,f)"
   ]
  },
  {
   "cell_type": "code",
   "execution_count": null,
   "metadata": {
    "collapsed": true
   },
   "outputs": [],
   "source": []
  }
 ],
 "metadata": {
  "kernelspec": {
   "display_name": "Python 2",
   "language": "python",
   "name": "python2"
  },
  "language_info": {
   "codemirror_mode": {
    "name": "ipython",
    "version": 2
   },
   "file_extension": ".py",
   "mimetype": "text/x-python",
   "name": "python",
   "nbconvert_exporter": "python",
   "pygments_lexer": "ipython2",
   "version": "2.7.6"
  }
 },
 "nbformat": 4,
 "nbformat_minor": 0
}
