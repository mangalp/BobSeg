{
 "cells": [
  {
   "cell_type": "code",
   "execution_count": 1,
   "metadata": {},
   "outputs": [
    {
     "name": "stdout",
     "output_type": "stream",
     "text": [
      "[Errno 2] No such file or directory: u'/Users/jug/.gputools'\n",
      "<pyopencl.Device 'Intel(R) HD Graphics 530' on 'Apple' at 0x1024500>\n"
     ]
    },
    {
     "name": "stderr",
     "output_type": "stream",
     "text": [
      "/Users/jug/Library/Python/2.7/lib/python/site-packages/pyopencl/__init__.py:63: CompilerWarning: Non-empty compiler output encountered. Set the environment variable PYOPENCL_COMPILER_OUTPUT=1 to see more.\n",
      "  \"to see more.\", CompilerWarning)\n"
     ]
    },
    {
     "name": "stdout",
     "output_type": "stream",
     "text": [
      "[Errno 2] No such file or directory: '/Users/jug/.spimagine'\n",
      "<pyopencl.Device 'Intel(R) HD Graphics 530' on 'Apple' at 0x1024500>\n"
     ]
    }
   ],
   "source": [
    "%matplotlib qt5\n",
    "\n",
    "import time\n",
    "import numpy as np\n",
    "from skimage.filters import gaussian_filter\n",
    "\n",
    "from tifffile import imread, imsave\n",
    "import cPickle as pickle\n",
    "\n",
    "from spimagine import volshow\n",
    "from spimagine import EllipsoidMesh, Mesh\n",
    "\n",
    "%reload_ext autoreload\n",
    "%autoreload 2\n",
    "\n",
    "from netsurface3d import NetSurf3d"
   ]
  },
  {
   "cell_type": "markdown",
   "metadata": {},
   "source": [
    "# Load dataset and show in Spimagine "
   ]
  },
  {
   "cell_type": "code",
   "execution_count": 2,
   "metadata": {},
   "outputs": [
    {
     "name": "stdout",
     "output_type": "stream",
     "text": [
      "Image dimensions:  (31, 512, 512)\n",
      "Image dimensions:  (31, 512, 512)\n",
      "Image dimensions:  (31, 512, 512)\n",
      "Image dimensions:  (31, 512, 512)\n",
      "Image dimensions:  (31, 512, 512)\n",
      "Image dimensions:  (31, 512, 512)\n",
      "Image dimensions:  (31, 512, 512)\n",
      "Image dimensions:  (31, 512, 512)\n",
      "Image dimensions:  (31, 512, 512)\n",
      "Image dimensions:  (31, 512, 512)\n",
      "Image dimensions:  (31, 512, 512)\n",
      "Image dimensions:  (31, 512, 512)\n"
     ]
    }
   ],
   "source": [
    "filenames = ['/Users/jug/Dropbox/ProjectGoldstein/2016-09-22_fromMark/092216_PH-mCherry-02_w2SD mCherry_t1.TIF',\n",
    "             '/Users/jug/Dropbox/ProjectGoldstein/2016-09-22_fromMark/092216_PH-mCherry-02_w2SD mCherry_t2.TIF',\n",
    "             '/Users/jug/Dropbox/ProjectGoldstein/2016-09-22_fromMark/092216_PH-mCherry-02_w2SD mCherry_t3.TIF',\n",
    "             '/Users/jug/Dropbox/ProjectGoldstein/2016-09-22_fromMark/092216_PH-mCherry-02_w2SD mCherry_t4.TIF',\n",
    "             '/Users/jug/Dropbox/ProjectGoldstein/2016-09-22_fromMark/092216_PH-mCherry-02_w2SD mCherry_t5.TIF',\n",
    "             '/Users/jug/Dropbox/ProjectGoldstein/2016-09-22_fromMark/092216_PH-mCherry-02_w2SD mCherry_t6.TIF',\n",
    "             '/Users/jug/Dropbox/ProjectGoldstein/2016-09-22_fromMark/092216_PH-mCherry-02_w2SD mCherry_t7.TIF',\n",
    "             '/Users/jug/Dropbox/ProjectGoldstein/2016-09-22_fromMark/092216_PH-mCherry-02_w2SD mCherry_t8.TIF',\n",
    "             '/Users/jug/Dropbox/ProjectGoldstein/2016-09-22_fromMark/092216_PH-mCherry-02_w2SD mCherry_t9.TIF',\n",
    "             '/Users/jug/Dropbox/ProjectGoldstein/2016-09-22_fromMark/092216_PH-mCherry-02_w2SD mCherry_t10.TIF',\n",
    "             '/Users/jug/Dropbox/ProjectGoldstein/2016-09-22_fromMark/092216_PH-mCherry-02_w2SD mCherry_t11.TIF',\n",
    "             '/Users/jug/Dropbox/ProjectGoldstein/2016-09-22_fromMark/092216_PH-mCherry-02_w2SD mCherry_t12.TIF']\n",
    "        \n",
    "images = [None]*len(filenames)\n",
    "for i in range(len(filenames)):\n",
    "    images[i] = imread(filenames[i])\n",
    "    print 'Image dimensions: ', images[i].shape"
   ]
  },
  {
   "cell_type": "code",
   "execution_count": 3,
   "metadata": {},
   "outputs": [
    {
     "name": "stderr",
     "output_type": "stream",
     "text": [
      "/Users/jug/Library/Python/2.7/lib/python/site-packages/pyopencl/reduction.py:196: UserWarning: Reduction might be unnecessarily slow: can't query SIMD group size\n",
      "  warn(\"Reduction might be unnecessarily slow: \"\n"
     ]
    },
    {
     "name": "stdout",
     "output_type": "stream",
     "text": [
      "Dataset now visible in separate Spimagine window...\n"
     ]
    }
   ],
   "source": [
    "frame = 6\n",
    "volwin = volshow(images[frame], stackUnits = [1.,1.,5.], raise_window=True)\n",
    "print 'Dataset now visible in separate Spimagine window...'"
   ]
  },
  {
   "cell_type": "markdown",
   "metadata": {},
   "source": [
    "# Load vectors sampling unit sphere "
   ]
  },
  {
   "cell_type": "code",
   "execution_count": 4,
   "metadata": {
    "collapsed": true
   },
   "outputs": [],
   "source": [
    "# load pickeled unit sphere sampling\n",
    "with open('sphere_sampling.pkl','r') as f:\n",
    "    dictSphereData = pickle.load(f)\n",
    "    \n",
    "# sampling parameters\n",
    "vectors = dictSphereData['points']\n",
    "neighbors = dictSphereData['neighbors']\n",
    "neighbors_of = dictSphereData['neighbors_of']\n",
    "triangles = dictSphereData['triangles']"
   ]
  },
  {
   "cell_type": "markdown",
   "metadata": {},
   "source": [
    "# Do segmentations using NetSurf3d"
   ]
  },
  {
   "cell_type": "markdown",
   "metadata": {},
   "source": [
    "#### frames 0-4"
   ]
  },
  {
   "cell_type": "code",
   "execution_count": 5,
   "metadata": {},
   "outputs": [],
   "source": [
    "K = 30\n",
    "\n",
    "# E cells\n",
    "# -------\n",
    "max_delta_k = 4\n",
    "\n",
    "cell1_center = (110,300,12)\n",
    "cell2_center = (110,350,12)\n",
    "\n",
    "cell1 = NetSurf3d( vectors, triangles, neighbors_of, K=K, max_delta_k=max_delta_k )\n",
    "cell2 = NetSurf3d( vectors, triangles, neighbors_of, K=K, max_delta_k=max_delta_k )\n",
    "\n",
    "# Neighbors\n",
    "# ---------\n",
    "nn = 19\n",
    "cells = [None] * nn\n",
    "ccenters = [None] * nn\n",
    "max_delta_ks = [4] * nn\n",
    "\n",
    "max_delta_ks[0] = 2\n",
    "max_delta_ks[7] = 2\n",
    "ccenters[0]  = ( 90,390,12)\n",
    "ccenters[1]  = (150,410,12)\n",
    "ccenters[2]  = (200,390,12)\n",
    "ccenters[3]  = (190,315,12)\n",
    "ccenters[4]  = (145,265,12)\n",
    "ccenters[5]  = (110,230,12)\n",
    "ccenters[6]  = ( 40,255,12)\n",
    "ccenters[7]  = ( 45,300,18)\n",
    "ccenters[8]  = ( 67,355,18)\n",
    "max_delta_ks[9]  = 2\n",
    "max_delta_ks[10] = 2\n",
    "ccenters[9]  = (110,275,24)\n",
    "ccenters[10] = (130,315,24)\n",
    "ccenters[11] = (125,360,24)\n",
    "\n",
    "for i in range(12,nn): max_delta_ks[i] = 3\n",
    "ccenters[12] = ( 70,205,12)\n",
    "ccenters[13] = (145,170,12)\n",
    "ccenters[14] = ( 50,160,12)\n",
    "ccenters[15] = (105,140,12)\n",
    "ccenters[16] = (190,220,12)\n",
    "ccenters[17] = (200,265,12)\n",
    "ccenters[18] = (220,335,20)\n",
    "\n",
    "for i in range(nn):\n",
    "    cells[i] = NetSurf3d( vectors, triangles, neighbors_of, K=K, max_delta_k=max_delta_ks[i] )"
   ]
  },
  {
   "cell_type": "markdown",
   "metadata": {},
   "source": [
    "#### frames 5-9"
   ]
  },
  {
   "cell_type": "code",
   "execution_count": 6,
   "metadata": {
    "collapsed": true
   },
   "outputs": [],
   "source": [
    "K = 30\n",
    "\n",
    "# E cells\n",
    "# -------\n",
    "max_delta_k = 4\n",
    "\n",
    "cell1_center = (125,310,12)\n",
    "cell2_center = (140,360,12)\n",
    "\n",
    "cell1 = NetSurf3d( vectors, triangles, neighbors_of, K=K, max_delta_k=max_delta_k )\n",
    "cell2 = NetSurf3d( vectors, triangles, neighbors_of, K=K, max_delta_k=max_delta_k )\n",
    "\n",
    "# Neighbors\n",
    "# ---------\n",
    "nn = 19\n",
    "cells = [None] * nn\n",
    "ccenters = [None] * nn\n",
    "max_delta_ks = [4] * nn\n",
    "\n",
    "max_delta_ks[0] = 2\n",
    "max_delta_ks[7] = 2\n",
    "ccenters[0]  = ( 90,380,12)\n",
    "ccenters[1]  = (135,415,12)\n",
    "ccenters[2]  = (200,390,12)\n",
    "ccenters[3]  = (190,330,12)\n",
    "ccenters[4]  = (165,265,12)\n",
    "ccenters[5]  = (115,235,12)\n",
    "ccenters[6]  = ( 50,265,12)\n",
    "ccenters[7]  = ( 45,300,18)\n",
    "ccenters[8]  = ( 67,355,18) ## LAST ONE CURATED\n",
    "max_delta_ks[9]  = 2\n",
    "max_delta_ks[10] = 2\n",
    "ccenters[9]  = (110,275,24)\n",
    "ccenters[10] = (130,315,24)\n",
    "ccenters[11] = (125,360,24)\n",
    "\n",
    "for i in range(12,nn): max_delta_ks[i] = 3\n",
    "ccenters[12] = ( 70,205,12)\n",
    "ccenters[13] = (145,170,12)\n",
    "ccenters[14] = ( 50,160,12)\n",
    "ccenters[15] = (105,140,12)\n",
    "ccenters[16] = (190,220,12)\n",
    "ccenters[17] = (200,265,12)\n",
    "ccenters[18] = (220,335,20)\n",
    "\n",
    "for i in range(nn):\n",
    "    cells[i] = NetSurf3d( vectors, triangles, neighbors_of, K=K, max_delta_k=max_delta_ks[i] )"
   ]
  },
  {
   "cell_type": "markdown",
   "metadata": {},
   "source": [
    "#### frame 10-?"
   ]
  },
  {
   "cell_type": "code",
   "execution_count": 7,
   "metadata": {
    "collapsed": true
   },
   "outputs": [],
   "source": [
    "K = 30\n",
    "\n",
    "# E cells\n",
    "# -------\n",
    "max_delta_k = 4\n",
    "\n",
    "cell1_center = (105,310,16)\n",
    "cell2_center = (140,360,16) ## LAST ONE CURATED\n",
    "\n",
    "cell1 = NetSurf3d( vectors, triangles, neighbors_of, K=K, max_delta_k=max_delta_k )\n",
    "cell2 = NetSurf3d( vectors, triangles, neighbors_of, K=K, max_delta_k=max_delta_k )\n",
    "\n",
    "# Neighbors\n",
    "# ---------\n",
    "nn = 19\n",
    "cells = [None] * nn\n",
    "ccenters = [None] * nn\n",
    "max_delta_ks = [4] * nn\n",
    "\n",
    "max_delta_ks[0] = 2\n",
    "max_delta_ks[7] = 2\n",
    "ccenters[0]  = ( 90,380,12)\n",
    "ccenters[1]  = (135,415,12)\n",
    "ccenters[2]  = (200,390,12)\n",
    "ccenters[3]  = (190,330,12)\n",
    "ccenters[4]  = (165,265,12)\n",
    "ccenters[5]  = (115,235,12)\n",
    "ccenters[6]  = ( 50,265,12)\n",
    "ccenters[7]  = ( 45,300,18)\n",
    "ccenters[8]  = ( 67,355,18) \n",
    "max_delta_ks[9]  = 2\n",
    "max_delta_ks[10] = 2\n",
    "ccenters[9]  = (110,275,24)\n",
    "ccenters[10] = (130,315,24)\n",
    "ccenters[11] = (125,360,24)\n",
    "\n",
    "for i in range(12,nn): max_delta_ks[i] = 3\n",
    "ccenters[12] = ( 70,205,12)\n",
    "ccenters[13] = (145,170,12)\n",
    "ccenters[14] = ( 50,160,12)\n",
    "ccenters[15] = (105,140,12)\n",
    "ccenters[16] = (190,220,12)\n",
    "ccenters[17] = (200,265,12)\n",
    "ccenters[18] = (220,335,20)\n",
    "\n",
    "for i in range(nn):\n",
    "    cells[i] = NetSurf3d( vectors, triangles, neighbors_of, K=K, max_delta_k=max_delta_ks[i] )"
   ]
  },
  {
   "cell_type": "code",
   "execution_count": 8,
   "metadata": {},
   "outputs": [
    {
     "name": "stdout",
     "output_type": "stream",
     "text": [
      "Optimum energy cell 1:  73121.0\n",
      "Nodes in/out:  6937 8423\n",
      "Optimum energy cell 2:  73570.0\n",
      "Nodes in/out:  8243 7117\n"
     ]
    }
   ],
   "source": [
    "max_rs = (images[0].shape[2] / 6,\n",
    "          images[0].shape[1] / 6,\n",
    "          images[0].shape[0] / 3)\n",
    "\n",
    "min_rs = (10,10,2)\n",
    "\n",
    "optimum = cell1.apply_to( images[frame], cell1_center, max_rs, min_radii=min_rs )\n",
    "print 'Optimum energy cell 1: ', optimum\n",
    "ins, outs = cell1.get_counts()\n",
    "print 'Nodes in/out: ', ins, outs\n",
    "\n",
    "optimum = cell2.apply_to( images[frame], cell2_center, max_rs ) #, min_radii=min_rs )\n",
    "print 'Optimum energy cell 2: ', optimum\n",
    "ins, outs = cell2.get_counts()\n",
    "print 'Nodes in/out: ', ins, outs"
   ]
  },
  {
   "cell_type": "code",
   "execution_count": 9,
   "metadata": {},
   "outputs": [
    {
     "name": "stdout",
     "output_type": "stream",
     "text": [
      "Segmenting  19  more cells:  . . . . . . . . . . . . . . . . . . .  done!\n"
     ]
    }
   ],
   "source": [
    "print 'Segmenting ', nn, ' more cells: ',\n",
    "for i in range(nn):\n",
    "    cells[i].apply_to( images[frame], ccenters[i], max_rs, min_radii=min_rs )\n",
    "    print '.',\n",
    "print ' done!'"
   ]
  },
  {
   "cell_type": "code",
   "execution_count": 10,
   "metadata": {
    "collapsed": true
   },
   "outputs": [],
   "source": [
    "colors_grey = [(1.-.15*i,1.-.15*i,1.-.15*i) for i in range(6)]\n",
    "colors_red = [(1.,.2,.2*i) for i in range(6)]\n",
    "colors_gold = [(1.,.8,.15*i) for i in range(6)]\n",
    "colors_yellow = [(1.,1.,.9-.15*i) for i in range(6)]\n",
    "colors_green = [(.45,1.,.4+.1*i) for i in range(6)]\n",
    "colors_blue = [(.4,1.,1.3+1*i) for i in range(6)]\n",
    "colors_darkblue = [(.1,.3,1.0-.1*i) for i in range(6)]"
   ]
  },
  {
   "cell_type": "code",
   "execution_count": 11,
   "metadata": {},
   "outputs": [
    {
     "ename": "AttributeError",
     "evalue": "'MainWidget' object has no attribute 'glWidget'",
     "output_type": "error",
     "traceback": [
      "\u001b[0;31m---------------------------------------------------------------------------\u001b[0m",
      "\u001b[0;31mAttributeError\u001b[0m                            Traceback (most recent call last)",
      "\u001b[0;32m<ipython-input-11-ed0f284cdea1>\u001b[0m in \u001b[0;36m<module>\u001b[0;34m()\u001b[0m\n\u001b[1;32m      1\u001b[0m \u001b[0;31m#remove all meshes\u001b[0m\u001b[0;34m\u001b[0m\u001b[0;34m\u001b[0m\u001b[0m\n\u001b[0;32m----> 2\u001b[0;31m \u001b[0;32mwhile\u001b[0m \u001b[0mlen\u001b[0m\u001b[0;34m(\u001b[0m\u001b[0mvolwin\u001b[0m\u001b[0;34m.\u001b[0m\u001b[0mglWidget\u001b[0m\u001b[0;34m.\u001b[0m\u001b[0mmeshes\u001b[0m\u001b[0;34m)\u001b[0m\u001b[0;34m>\u001b[0m\u001b[0;36m0\u001b[0m\u001b[0;34m:\u001b[0m\u001b[0;34m\u001b[0m\u001b[0m\n\u001b[0m\u001b[1;32m      3\u001b[0m     \u001b[0mvolwin\u001b[0m\u001b[0;34m.\u001b[0m\u001b[0mglWidget\u001b[0m\u001b[0;34m.\u001b[0m\u001b[0mmeshes\u001b[0m\u001b[0;34m.\u001b[0m\u001b[0mpop\u001b[0m\u001b[0;34m(\u001b[0m\u001b[0;36m0\u001b[0m\u001b[0;34m)\u001b[0m\u001b[0;34m\u001b[0m\u001b[0m\n\u001b[1;32m      4\u001b[0m \u001b[0mvolwin\u001b[0m\u001b[0;34m.\u001b[0m\u001b[0mglWidget\u001b[0m\u001b[0;34m.\u001b[0m\u001b[0mrefresh\u001b[0m\u001b[0;34m(\u001b[0m\u001b[0;34m)\u001b[0m\u001b[0;34m\u001b[0m\u001b[0m\n",
      "\u001b[0;31mAttributeError\u001b[0m: 'MainWidget' object has no attribute 'glWidget'"
     ]
    }
   ],
   "source": [
    "#remove all meshes\n",
    "while len(volwin.glWidget.meshes)>0:\n",
    "    volwin.glWidget.meshes.pop(0)\n",
    "volwin.glWidget.refresh()"
   ]
  },
  {
   "cell_type": "code",
   "execution_count": 12,
   "metadata": {},
   "outputs": [
    {
     "ename": "AttributeError",
     "evalue": "'MainWidget' object has no attribute 'glWidget'",
     "output_type": "error",
     "traceback": [
      "\u001b[0;31m---------------------------------------------------------------------------\u001b[0m",
      "\u001b[0;31mAttributeError\u001b[0m                            Traceback (most recent call last)",
      "\u001b[0;32m<ipython-input-12-f0e17646752c>\u001b[0m in \u001b[0;36m<module>\u001b[0;34m()\u001b[0m\n\u001b[0;32m----> 1\u001b[0;31m \u001b[0mvolwin\u001b[0m\u001b[0;34m.\u001b[0m\u001b[0mglWidget\u001b[0m\u001b[0;34m.\u001b[0m\u001b[0madd_mesh\u001b[0m\u001b[0;34m(\u001b[0m \u001b[0mcell1\u001b[0m\u001b[0;34m.\u001b[0m\u001b[0mcreate_center_mesh\u001b[0m\u001b[0;34m(\u001b[0m \u001b[0mfacecolor\u001b[0m\u001b[0;34m=\u001b[0m\u001b[0mcolors_gold\u001b[0m\u001b[0;34m[\u001b[0m\u001b[0;36m0\u001b[0m\u001b[0;34m]\u001b[0m\u001b[0;34m)\u001b[0m \u001b[0;34m)\u001b[0m\u001b[0;34m\u001b[0m\u001b[0m\n\u001b[0m\u001b[1;32m      2\u001b[0m \u001b[0mvolwin\u001b[0m\u001b[0;34m.\u001b[0m\u001b[0mglWidget\u001b[0m\u001b[0;34m.\u001b[0m\u001b[0madd_mesh\u001b[0m\u001b[0;34m(\u001b[0m \u001b[0mcell2\u001b[0m\u001b[0;34m.\u001b[0m\u001b[0mcreate_center_mesh\u001b[0m\u001b[0;34m(\u001b[0m \u001b[0mfacecolor\u001b[0m\u001b[0;34m=\u001b[0m\u001b[0mcolors_gold\u001b[0m\u001b[0;34m[\u001b[0m\u001b[0;36m2\u001b[0m\u001b[0;34m]\u001b[0m\u001b[0;34m)\u001b[0m \u001b[0;34m)\u001b[0m\u001b[0;34m\u001b[0m\u001b[0m\n",
      "\u001b[0;31mAttributeError\u001b[0m: 'MainWidget' object has no attribute 'glWidget'"
     ]
    }
   ],
   "source": [
    "volwin.glWidget.add_mesh( cell1.create_center_mesh( facecolor=colors_gold[0]) )\n",
    "volwin.glWidget.add_mesh( cell2.create_center_mesh( facecolor=colors_gold[2]) )"
   ]
  },
  {
   "cell_type": "code",
   "execution_count": 461,
   "metadata": {},
   "outputs": [],
   "source": [
    "mesh1 = cell1.create_surface_mesh( facecolor=colors_gold[0] )\n",
    "volwin.glWidget.add_mesh( mesh1 )\n",
    "\n",
    "mesh2 = cell2.create_surface_mesh( facecolor=colors_gold[2] )\n",
    "volwin.glWidget.add_mesh( mesh2 )"
   ]
  },
  {
   "cell_type": "code",
   "execution_count": 462,
   "metadata": {},
   "outputs": [],
   "source": [
    "for i in range(12):\n",
    "    fc = colors_green[i%len(colors)]\n",
    "    m = cells[i].create_center_mesh( facecolor=fc )\n",
    "    volwin.glWidget.add_mesh( m )\n",
    "# for i in range(12, nn):\n",
    "#     fc = colors_blue[i%len(colors)]\n",
    "#     m = cells[i].create_center_mesh( facecolor=fc )\n",
    "#     volwin.glWidget.add_mesh( m )"
   ]
  },
  {
   "cell_type": "code",
   "execution_count": 463,
   "metadata": {},
   "outputs": [],
   "source": [
    "for i in range(12):\n",
    "    fc = colors_green[i%len(colors)]\n",
    "    m = cells[i].create_surface_mesh( facecolor=fc )\n",
    "    volwin.glWidget.add_mesh( m )\n",
    "# for i in range(12, nn):\n",
    "#     fc = colors_blue[i%len(colors)]\n",
    "#     m = cells[i].create_surface_mesh( facecolor=fc )\n",
    "#     volwin.glWidget.add_mesh( m )"
   ]
  },
  {
   "cell_type": "markdown",
   "metadata": {},
   "source": [
    "# Measure Volume"
   ]
  },
  {
   "cell_type": "code",
   "execution_count": 416,
   "metadata": {},
   "outputs": [
    {
     "name": "stdout",
     "output_type": "stream",
     "text": [
      "Volume of e cell 1: 157157.5  - thats equivalent to a cube of side length  53.964940663\n",
      "Volume of e cell 2: 149616.666667  - thats equivalent to a cube of side length  53.0876284648\n",
      "\n",
      "Volume of cell 1  is  50896.6666667\n",
      "Volume of cell 2  is  67134.1666667\n",
      "Volume of cell 3  is  128602.5\n",
      "Volume of cell 4  is  118399.166667\n",
      "Volume of cell 5  is  93502.5\n",
      "Volume of cell 6  is  158164.166667\n",
      "Volume of cell 7  is  103726.666667\n",
      "Volume of cell 8  is  101182.5\n",
      "Volume of cell 9  is  48278.3333333\n"
     ]
    }
   ],
   "source": [
    "calibration = (1.,1.,5.)\n",
    "\n",
    "v1 = cell1.get_volume(calibration)\n",
    "v2 = cell2.get_volume(calibration)\n",
    "print 'Volume of e cell 1:', v1, ' - thats equivalent to a cube of side length ', v1**(1./3)\n",
    "print 'Volume of e cell 2:', v2, ' - thats equivalent to a cube of side length ', v2**(1./3)\n",
    "print \n",
    "\n",
    "for i in range(9): #nn):\n",
    "    v = cells[i].get_volume(calibration)\n",
    "    print 'Volume of cell',i+1,' is ', v\n",
    "\n",
    "#idea 2: filter all points between to results that are closer then come value d. compute area of all \n",
    "#        triangles defines by those points - touching surface!"
   ]
  },
  {
   "cell_type": "markdown",
   "metadata": {
    "collapsed": true
   },
   "source": [
    "# Frame data...\n",
    "\n",
    "### frame = 0\n",
    "Volume of e cell 1: 135744.166667  - thats equivalent to a cube of side length  51.3933655165<br>\n",
    "Volume of e cell 2: 124986.666667  - thats equivalent to a cube of side length  49.998222159\n",
    "\n",
    "### frame = 1\n",
    "Volume of e cell 1: 144079.166667  - thats equivalent to a cube of side length  52.4244314652<br>\n",
    "Volume of e cell 2: 123357.5  - thats equivalent to a cube of side length  49.7800337158\n",
    "\n",
    "### frame = 2\n",
    "Volume of e cell 1: 157124.166667  - thats equivalent to a cube of side length  53.9611250458<br>\n",
    "Volume of e cell 2: 120718.333333  - thats equivalent to a cube of side length  49.4224658825\n",
    "\n",
    "### frame = 3\n",
    "Volume of e cell 1: 168798.333333  - thats equivalent to a cube of side length  55.2657478729<br>\n",
    "Volume of e cell 2: 101852.5  - thats equivalent to a cube of side length  46.7007545727\n",
    "\n",
    "### frame = 4\n",
    "Volume of e cell 1: 181835.0  - thats equivalent to a cube of side length  56.6533801991<br>\n",
    "Volume of e cell 2: 110487.5  - thats equivalent to a cube of side length  47.9848766013\n",
    "\n",
    "### frame = 5\n",
    "Volume of e cell 1: 191964.166667  - thats equivalent to a cube of side length  57.6863936578<br>\n",
    "Volume of e cell 2: 82742.5  - thats equivalent to a cube of side length  43.5755502173\n",
    "\n",
    "### frame = 6\n",
    "Volume of e cell 1: 173936.666667  - thats equivalent to a cube of side length  55.8209274187<br>\n",
    "Volume of e cell 2: 135494.166667  - thats equivalent to a cube of side length  51.3617957448\n",
    "\n",
    "### frame = 7\n",
    "Volume of e cell 1: 169758.333333  - thats equivalent to a cube of side length  55.3703201044<br>\n",
    "Volume of e cell 2: 93934.1666667  - thats equivalent to a cube of side length  45.4577423004\n",
    "\n",
    "### frame = 8\n",
    "Volume of e cell 1: 149221.666667  - thats equivalent to a cube of side length  53.0408687585<br>\n",
    "Volume of e cell 2: 99373.3333333  - thats equivalent to a cube of side length  46.3187274609\n",
    "\n",
    "### frame = 9\n",
    "Volume of e cell 1: 159337.5  - thats equivalent to a cube of side length  54.2133194391<br>\n",
    "Volume of e cell 2: 100985.833333  - thats equivalent to a cube of side length  46.5679176065\n",
    "\n",
    "### frame = 10  _is one of the E cells dividing?_\n",
    "Volume of e cell 1: 221930.833333  - thats equivalent to a cube of side length  60.5442004102<br>\n",
    "Volume of e cell 2: 174548.333333  - thats equivalent to a cube of side length  55.8862842635\n",
    "\n",
    "### frame = 11\n",
    "Volume of e cell 1: 108664.166667  - thats equivalent to a cube of side length  47.7194523937<br>\n",
    "Volume of e cell 2: 177341.666667  - thats equivalent to a cube of side length  56.1828279103"
   ]
  },
  {
   "cell_type": "code",
   "execution_count": 447,
   "metadata": {},
   "outputs": [
    {
     "data": {
      "text/plain": [
       "[<matplotlib.lines.Line2D at 0x13da4b350>]"
      ]
     },
     "execution_count": 447,
     "metadata": {},
     "output_type": "execute_result"
    }
   ],
   "source": [
    "import matplotlib.pyplot as plt\n",
    "\n",
    "ea = [136,144,157,168,181,191,173,169,149,159,222,108]\n",
    "ep = [125,123,121,101,110, 83,135, 93, 99,101,175,177]\n",
    "plt.figure(1)\n",
    "plt.plot(ea,'r')\n",
    "plt.plot(ep,'g')"
   ]
  },
  {
   "cell_type": "code",
   "execution_count": null,
   "metadata": {
    "collapsed": true
   },
   "outputs": [],
   "source": []
  }
 ],
 "metadata": {
  "kernelspec": {
   "display_name": "Python 2",
   "language": "python",
   "name": "python2"
  },
  "language_info": {
   "codemirror_mode": {
    "name": "ipython",
    "version": 2
   },
   "file_extension": ".py",
   "mimetype": "text/x-python",
   "name": "python",
   "nbconvert_exporter": "python",
   "pygments_lexer": "ipython2",
   "version": "2.7.13"
  }
 },
 "nbformat": 4,
 "nbformat_minor": 1
}
