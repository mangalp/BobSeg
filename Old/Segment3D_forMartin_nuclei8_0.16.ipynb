{
 "cells": [
  {
   "cell_type": "code",
   "execution_count": 2,
   "metadata": {
    "collapsed": false
   },
   "outputs": [
    {
     "name": "stdout",
     "output_type": "stream",
     "text": [
      "<pyopencl.Device 'HD Graphics 4000' on 'Apple' at 0x1024400>\n"
     ]
    },
    {
     "name": "stderr",
     "output_type": "stream",
     "text": [
      "/Users/jug/Library/Enthought/Canopy_64bit/User/lib/python2.7/site-packages/pyopencl/__init__.py:207: CompilerWarning: Non-empty compiler output encountered. Set the environment variable PYOPENCL_COMPILER_OUTPUT=1 to see more.\n",
      "  \"to see more.\", CompilerWarning)\n"
     ]
    },
    {
     "name": "stdout",
     "output_type": "stream",
     "text": [
      "could not open /Users/jug/.spimagine\n",
      "<pyopencl.Device 'HD Graphics 4000' on 'Apple' at 0x1024400>\n"
     ]
    }
   ],
   "source": [
    "%matplotlib qt\n",
    "\n",
    "import time\n",
    "import numpy as np\n",
    "from skimage.filters import gaussian_filter\n",
    "\n",
    "from tifffile import imread, imsave\n",
    "import cPickle as pickle\n",
    "\n",
    "from spimagine import volshow\n",
    "from spimagine import EllipsoidMesh, Mesh\n",
    "\n",
    "%reload_ext autoreload\n",
    "%autoreload 2\n",
    "\n",
    "from netsurface3d import NetSurf3d"
   ]
  },
  {
   "cell_type": "markdown",
   "metadata": {},
   "source": [
    "# Load dataset and show in Spimagine "
   ]
  },
  {
   "cell_type": "code",
   "execution_count": 142,
   "metadata": {
    "collapsed": false
   },
   "outputs": [
    {
     "name": "stdout",
     "output_type": "stream",
     "text": [
      "Image dimensions:  (512, 512, 512)\n",
      "Image dimensions:  (512, 512, 512)\n",
      "Image dimensions:  (512, 512, 512)\n",
      "Image dimensions:  (512, 512, 512)\n"
     ]
    }
   ],
   "source": [
    "filenames = ['/Users/jug/Repositories/GIT/BobSeg/MartinMiccai17/nuclei_8_0.16/network_8.tif',\n",
    "             '/Users/jug/Repositories/GIT/BobSeg/MartinMiccai17/nuclei_8_0.16/network_gradient.tif',\n",
    "             '/Users/jug/Repositories/GIT/BobSeg/MartinMiccai17/nuclei_8_0.16/blurred_gradient.tif',\n",
    "             '/Users/jug/Repositories/GIT/BobSeg/MartinMiccai17/nuclei_8_0.16/groundtruth_label.tif']\n",
    "        \n",
    "images = [None]*len(filenames)\n",
    "for i in range(len(filenames)):\n",
    "    images[i] = imread(filenames[i])\n",
    "    print 'Image dimensions: ', images[i].shape"
   ]
  },
  {
   "cell_type": "code",
   "execution_count": 143,
   "metadata": {
    "collapsed": true
   },
   "outputs": [],
   "source": [
    "frame = 0"
   ]
  },
  {
   "cell_type": "code",
   "execution_count": 144,
   "metadata": {
    "collapsed": false
   },
   "outputs": [
    {
     "name": "stdout",
     "output_type": "stream",
     "text": [
      "Dataset now visible in separate Spimagine window...\n"
     ]
    }
   ],
   "source": [
    "volwin = volshow(images[frame], stackUnits = [1.,1.,1.], raise_window=True)\n",
    "print 'Dataset now visible in separate Spimagine window...'"
   ]
  },
  {
   "cell_type": "markdown",
   "metadata": {},
   "source": [
    "# Load vectors sampling unit sphere "
   ]
  },
  {
   "cell_type": "code",
   "execution_count": 145,
   "metadata": {
    "collapsed": true
   },
   "outputs": [],
   "source": [
    "# load pickeled unit sphere sampling\n",
    "with open('sphere_sampling_1024.pkl','r') as f:\n",
    "    dictSphereData = pickle.load(f)\n",
    "    \n",
    "# sampling parameters\n",
    "vectors = dictSphereData['points']\n",
    "neighbors = dictSphereData['neighbors']\n",
    "neighbors_of = dictSphereData['neighbors_of']\n",
    "triangles = dictSphereData['triangles']"
   ]
  },
  {
   "cell_type": "markdown",
   "metadata": {},
   "source": [
    "# Do segmentations using NetSurf3d"
   ]
  },
  {
   "cell_type": "markdown",
   "metadata": {},
   "source": [
    "**some random cells**"
   ]
  },
  {
   "cell_type": "code",
   "execution_count": 146,
   "metadata": {
    "collapsed": false
   },
   "outputs": [],
   "source": [
    "frame = 1\n",
    "K = 30\n",
    "max_delta_k = 2\n",
    "\n",
    "cell1_center = (343,297,264)\n",
    "cell2_center = (337,282,277)\n",
    "cell3_center = (332,263,296)\n",
    "cell4_center = (340,252,273)\n",
    "cell5_center = (339,236,287)\n",
    "\n",
    "\n",
    "cell1 = NetSurf3d( vectors, triangles, neighbors_of, K=K, max_delta_k=max_delta_k )\n",
    "cell2 = NetSurf3d( vectors, triangles, neighbors_of, K=K, max_delta_k=max_delta_k )\n",
    "cell3 = NetSurf3d( vectors, triangles, neighbors_of, K=K, max_delta_k=max_delta_k )\n",
    "cell4 = NetSurf3d( vectors, triangles, neighbors_of, K=K, max_delta_k=max_delta_k )\n",
    "cell5 = NetSurf3d( vectors, triangles, neighbors_of, K=K, max_delta_k=max_delta_k )"
   ]
  },
  {
   "cell_type": "code",
   "execution_count": 147,
   "metadata": {
    "collapsed": false
   },
   "outputs": [
    {
     "name": "stdout",
     "output_type": "stream",
     "text": [
      "Optimum energy cell 1:  131257.0\n",
      "Nodes in/out:  12425 18295\n",
      "Optimum energy cell 2:  138680.0\n",
      "Nodes in/out:  13690 17030\n",
      "Optimum energy cell 3:  129244.0\n",
      "Nodes in/out:  13193 17527\n",
      "Optimum energy cell 4:  124141.0\n",
      "Nodes in/out:  14113 16607\n",
      "Optimum energy cell 5:  127579.0\n",
      "Nodes in/out:  13241 17479\n"
     ]
    }
   ],
   "source": [
    "max_rs = (images[0].shape[2] / 15,\n",
    "          images[0].shape[1] / 15,\n",
    "          images[0].shape[0] / 15)\n",
    "\n",
    "min_rs = (2,2,2)\n",
    "\n",
    "optimum = cell1.apply_to( images[frame], cell1_center, max_rs, min_radii=min_rs )\n",
    "print 'Optimum energy cell 1: ', optimum\n",
    "ins, outs = cell1.get_counts()\n",
    "print 'Nodes in/out: ', ins, outs\n",
    "\n",
    "optimum = cell2.apply_to( images[frame], cell2_center, max_rs ) #, min_radii=min_rs )\n",
    "print 'Optimum energy cell 2: ', optimum\n",
    "ins, outs = cell2.get_counts()\n",
    "print 'Nodes in/out: ', ins, outs\n",
    "\n",
    "optimum = cell3.apply_to( images[frame], cell3_center, max_rs ) #, min_radii=min_rs )\n",
    "print 'Optimum energy cell 3: ', optimum\n",
    "ins, outs = cell3.get_counts()\n",
    "print 'Nodes in/out: ', ins, outs\n",
    "\n",
    "optimum = cell4.apply_to( images[frame], cell4_center, max_rs ) #, min_radii=min_rs )\n",
    "print 'Optimum energy cell 4: ', optimum\n",
    "ins, outs = cell4.get_counts()\n",
    "print 'Nodes in/out: ', ins, outs\n",
    "\n",
    "optimum = cell5.apply_to( images[frame], cell5_center, max_rs ) #, min_radii=min_rs )\n",
    "print 'Optimum energy cell 5: ', optimum\n",
    "ins, outs = cell5.get_counts()\n",
    "print 'Nodes in/out: ', ins, outs"
   ]
  },
  {
   "cell_type": "code",
   "execution_count": 148,
   "metadata": {
    "collapsed": true
   },
   "outputs": [],
   "source": [
    "colors_grey = [(1.-.15*i,1.-.15*i,1.-.15*i) for i in range(6)]\n",
    "colors_red = [(1.,.2,.2*i) for i in range(6)]\n",
    "colors_gold = [(1.,.8,.15*i) for i in range(6)]\n",
    "colors_yellow = [(1.,1.,.9-.15*i) for i in range(6)]\n",
    "colors_green = [(.45,1.,.4+.1*i) for i in range(6)]\n",
    "colors_blue = [(.4,1.,1.3+1*i) for i in range(6)]\n",
    "colors_darkblue = [(.1,.3,1.0-.1*i) for i in range(6)]"
   ]
  },
  {
   "cell_type": "code",
   "execution_count": 149,
   "metadata": {
    "collapsed": true
   },
   "outputs": [],
   "source": [
    "#remove all meshes\n",
    "while len(volwin.glWidget.meshes)>0:\n",
    "    volwin.glWidget.meshes.pop(0)\n",
    "volwin.glWidget.refresh()"
   ]
  },
  {
   "cell_type": "code",
   "execution_count": 150,
   "metadata": {
    "collapsed": false
   },
   "outputs": [],
   "source": [
    "volwin.glWidget.add_mesh( cell1.create_center_mesh( facecolor=colors_gold[0]) )\n",
    "volwin.glWidget.add_mesh( cell2.create_center_mesh( facecolor=colors_gold[1]) )\n",
    "volwin.glWidget.add_mesh( cell3.create_center_mesh( facecolor=colors_gold[2]) )\n",
    "volwin.glWidget.add_mesh( cell4.create_center_mesh( facecolor=colors_gold[3]) )\n",
    "volwin.glWidget.add_mesh( cell5.create_center_mesh( facecolor=colors_gold[4]) )"
   ]
  },
  {
   "cell_type": "code",
   "execution_count": 151,
   "metadata": {
    "collapsed": false
   },
   "outputs": [],
   "source": [
    "mesh1 = cell1.create_surface_mesh( facecolor=colors_gold[0] )\n",
    "volwin.glWidget.add_mesh( mesh1 )\n",
    "\n",
    "mesh2 = cell2.create_surface_mesh( facecolor=colors_gold[1] )\n",
    "volwin.glWidget.add_mesh( mesh2 )\n",
    "\n",
    "mesh3 = cell3.create_surface_mesh( facecolor=colors_gold[2] )\n",
    "volwin.glWidget.add_mesh( mesh3 )\n",
    "\n",
    "mesh4 = cell4.create_surface_mesh( facecolor=colors_gold[3] )\n",
    "volwin.glWidget.add_mesh( mesh4 )\n",
    "\n",
    "mesh5 = cell5.create_surface_mesh( facecolor=colors_gold[4] )\n",
    "volwin.glWidget.add_mesh( mesh5 )"
   ]
  },
  {
   "cell_type": "markdown",
   "metadata": {},
   "source": [
    "# Measure Volume"
   ]
  },
  {
   "cell_type": "code",
   "execution_count": 416,
   "metadata": {
    "collapsed": false
   },
   "outputs": [
    {
     "name": "stdout",
     "output_type": "stream",
     "text": [
      "Volume of e cell 1: 157157.5  - thats equivalent to a cube of side length  53.964940663\n",
      "Volume of e cell 2: 149616.666667  - thats equivalent to a cube of side length  53.0876284648\n",
      "\n",
      "Volume of cell 1  is  50896.6666667\n",
      "Volume of cell 2  is  67134.1666667\n",
      "Volume of cell 3  is  128602.5\n",
      "Volume of cell 4  is  118399.166667\n",
      "Volume of cell 5  is  93502.5\n",
      "Volume of cell 6  is  158164.166667\n",
      "Volume of cell 7  is  103726.666667\n",
      "Volume of cell 8  is  101182.5\n",
      "Volume of cell 9  is  48278.3333333\n"
     ]
    }
   ],
   "source": [
    "calibration = (1.,1.,5.)\n",
    "\n",
    "v1 = cell1.get_volume(calibration)\n",
    "v2 = cell2.get_volume(calibration)\n",
    "print 'Volume of e cell 1:', v1, ' - thats equivalent to a cube of side length ', v1**(1./3)\n",
    "print 'Volume of e cell 2:', v2, ' - thats equivalent to a cube of side length ', v2**(1./3)\n",
    "print \n",
    "\n",
    "for i in range(9): #nn):\n",
    "    v = cells[i].get_volume(calibration)\n",
    "    print 'Volume of cell',i+1,' is ', v\n",
    "\n",
    "#idea 2: filter all points between to results that are closer then come value d. compute area of all \n",
    "#        triangles defines by those points - touching surface!"
   ]
  },
  {
   "cell_type": "code",
   "execution_count": 153,
   "metadata": {
    "collapsed": false
   },
   "outputs": [],
   "source": [
    "t = volwin.transform.toTransformData()"
   ]
  },
  {
   "cell_type": "code",
   "execution_count": 162,
   "metadata": {
    "collapsed": false
   },
   "outputs": [],
   "source": [
    "from spimagine import Quaternion\n",
    "from spimagine.models.keyframe_model import TransformData"
   ]
  },
  {
   "cell_type": "code",
   "execution_count": 168,
   "metadata": {
    "collapsed": false
   },
   "outputs": [],
   "source": [
    "t = TransformData(\n",
    "        quatRot = Quaternion(0.71936901545,-0.00736075256703,0.694582826718,-0.00295556226069),\n",
    "        translate= [-0.30246097 ,-0.01346884 ,-0.01174765],\n",
    "        zoom= 1.37118695139,\n",
    "        minVal= 1e-06,\n",
    "        maxVal= 649.866693642,\n",
    "        gamma=1.0,\n",
    "        bounds=[ 0.31,  1. ,  -1.  ,  1. ,  -1.,    1.  ],\n",
    "        isBox=True,\n",
    "        isIso=False,\n",
    "        alphaPow=0.72)"
   ]
  },
  {
   "cell_type": "code",
   "execution_count": 160,
   "metadata": {
    "collapsed": false
   },
   "outputs": [],
   "source": [
    "from spimagine.models.keyframe_model import TransformData"
   ]
  },
  {
   "cell_type": "code",
   "execution_count": 169,
   "metadata": {
    "collapsed": false
   },
   "outputs": [],
   "source": [
    "volwin.transform.fromTransformData(t)"
   ]
  },
  {
   "cell_type": "code",
   "execution_count": null,
   "metadata": {
    "collapsed": true
   },
   "outputs": [],
   "source": []
  }
 ],
 "metadata": {
  "kernelspec": {
   "display_name": "Python 2",
   "language": "python",
   "name": "python2"
  },
  "language_info": {
   "codemirror_mode": {
    "name": "ipython",
    "version": 2
   },
   "file_extension": ".py",
   "mimetype": "text/x-python",
   "name": "python",
   "nbconvert_exporter": "python",
   "pygments_lexer": "ipython2",
   "version": "2.7.6"
  }
 },
 "nbformat": 4,
 "nbformat_minor": 0
}
