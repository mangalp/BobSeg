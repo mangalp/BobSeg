{
 "cells": [
  {
   "cell_type": "code",
   "execution_count": 1,
   "metadata": {},
   "outputs": [
    {
     "name": "stdout",
     "output_type": "stream",
     "text": [
      "no scikit-tensor detected, so separable functions wont work\n",
      "This is a python3 issue and can be resolved by:\n",
      "\n",
      "git clone https://github.com/mnick/scikit-tensor.git\n",
      "pip3 install scikit-tensor\n"
     ]
    }
   ],
   "source": [
    "import time\n",
    "import copy\n",
    "import numpy as np\n",
    "from skimage.filters import gaussian_filter\n",
    "\n",
    "from tifffile import imread, imsave\n",
    "import pickle\n",
    "\n",
    "import matplotlib.pyplot as plt\n",
    "\n",
    "from spimagine import volfig, volshow\n",
    "from spimagine import EllipsoidMesh, Mesh\n",
    "\n",
    "%reload_ext autoreload\n",
    "%autoreload 2\n",
    "%matplotlib qt\n",
    "\n",
    "from netsurface3d import NetSurf3d\n",
    "from data4d import Data4d\n",
    "\n",
    "# import os\n",
    "# os.environ['PYOPENCL_COMPILER_OUTPUT'] = '1'"
   ]
  },
  {
   "cell_type": "markdown",
   "metadata": {},
   "source": [
    "# Load time-lapse data..."
   ]
  },
  {
   "cell_type": "code",
   "execution_count": 2,
   "metadata": {},
   "outputs": [],
   "source": [
    "filenames = ['/Users/prakash/Desktop/BobSegDataAndResults/GoodData/2018-06-05_fromMark/20180604_LP823_Control-01_Uncoupled/full_embryo/20180604_LP823_Control-01-01.TIF' ,\n",
    "             '/Users/prakash/Desktop/BobSegDataAndResults/GoodData/2018-06-05_fromMark/20180604_LP823_Control-01_Uncoupled/full_embryo/20180604_LP823_Control-01-03.TIF']\n",
    "#             '/Users/jug/Dropbox/ProjectGoldstein/2016-09-22_fromMark/092216_PH-mCherry-02_w2SD mCherry_t3.TIF',\n",
    "#             '/Users/jug/Dropbox/ProjectGoldstein/2016-09-22_fromMark/092216_PH-mCherry-02_w2SD mCherry_t4.TIF',\n",
    "#             '/Users/jug/Dropbox/ProjectGoldstein/2016-09-22_fromMark/092216_PH-mCherry-02_w2SD mCherry_t5.TIF',\n",
    "#             '/Users/jug/Dropbox/ProjectGoldstein/2016-09-22_fromMark/092216_PH-mCherry-02_w2SD mCherry_t6.TIF',\n",
    "#             '/Users/jug/Dropbox/ProjectGoldstein/2016-09-22_fromMark/092216_PH-mCherry-02_w2SD mCherry_t7.TIF',\n",
    "#             '/Users/jug/Dropbox/ProjectGoldstein/2016-09-22_fromMark/092216_PH-mCherry-02_w2SD mCherry_t8.TIF',\n",
    "#             '/Users/jug/Dropbox/ProjectGoldstein/2016-09-22_fromMark/092216_PH-mCherry-02_w2SD mCherry_t9.TIF',\n",
    "#             '/Users/jug/Dropbox/ProjectGoldstein/2016-09-22_fromMark/092216_PH-mCherry-02_w2SD mCherry_t10.TIF',\n",
    "#             '/Users/jug/Dropbox/ProjectGoldstein/2016-09-22_fromMark/092216_PH-mCherry-02_w2SD mCherry_t11.TIF',\n",
    "#             '/Users/jug/Dropbox/ProjectGoldstein/2016-09-22_fromMark/092216_PH-mCherry-02_w2SD mCherry_t12.TIF']"
   ]
  },
  {
   "cell_type": "code",
   "execution_count": 3,
   "metadata": {},
   "outputs": [
    {
     "name": "stdout",
     "output_type": "stream",
     "text": [
      "Dimensions of frame 0 :  (59, 860, 990)\n",
      "Dimensions of frame 1 :  (56, 860, 990)\n"
     ]
    }
   ],
   "source": [
    "data = Data4d( filenames, pixelsize=(1.,1.,5.), silent=False )\n",
    "data.set_seg_params(K=30,max_delta_k=4)\n",
    "objects = []\n",
    "ecells = []"
   ]
  },
  {
   "cell_type": "markdown",
   "metadata": {},
   "source": [
    "Min radius and max radius at which to look for cells (around center points (seed points))"
   ]
  },
  {
   "cell_type": "code",
   "execution_count": 4,
   "metadata": {},
   "outputs": [],
   "source": [
    "max_rs = (data.images[0].shape[2] / 8,\n",
    "          data.images[0].shape[1] / 8,\n",
    "          data.images[0].shape[0] / 2)\n",
    "\n",
    "min_rs = (5,5,1)"
   ]
  },
  {
   "cell_type": "markdown",
   "metadata": {},
   "source": [
    "## adding E cells"
   ]
  },
  {
   "cell_type": "code",
   "execution_count": 5,
   "metadata": {},
   "outputs": [],
   "source": [
    "Ea = data.init_object(\"Ea\")\n",
    "objects.append(Ea)\n",
    "ecells.append(Ea)\n",
    "\n",
    "Ep = data.init_object(\"Ep\")\n",
    "objects.append(Ep)\n",
    "ecells.append(Ep)"
   ]
  },
  {
   "cell_type": "code",
   "execution_count": 6,
   "metadata": {
    "scrolled": true
   },
   "outputs": [
    {
     "name": "stdout",
     "output_type": "stream",
     "text": [
      "Added appearance for \"Ea\" in frame 0 with seed coordinates [175. 415.  12.]\n",
      "      Optimum energy:  80618.0\n",
      "      Nodes in/out:  9377 5983\n",
      "Added appearance for \"Ea\" in frame 1 with seed coordinates [175. 415.  12.]\n",
      "      Optimum energy:  58065.0\n",
      "      Nodes in/out:  9871 5489\n",
      "    Updated center to [176.5625    413.0859375  14.109375 ]\n"
     ]
    }
   ],
   "source": [
    "#data.add_object_at( Ea, min_rs, max_rs, frame=0, seed=(110,300,12), frame_to=11, seed_to=(105,310,16), segment_it=True )\n",
    "data.add_object_at( Ea, min_rs, max_rs, frame=0, seed=(175,415,12), segment_it=True )\n",
    "data.track(Ea, seed_frame=0, target_frames=range(1,len(data.images)), recenter_iterations=1)"
   ]
  },
  {
   "cell_type": "code",
   "execution_count": 7,
   "metadata": {
    "scrolled": true
   },
   "outputs": [
    {
     "name": "stdout",
     "output_type": "stream",
     "text": [
      "Added appearance for \"Ep\" in frame 0 with seed coordinates [216. 306.  12.]\n",
      "      Optimum energy:  81472.0\n",
      "      Nodes in/out:  9247 6113\n",
      "Added appearance for \"Ep\" in frame 1 with seed coordinates [216. 306.  12.]\n",
      "      Optimum energy:  56266.0\n",
      "      Nodes in/out:  9099 6261\n",
      "    Updated center to [215.546875   304.39257812  13.47460938]\n"
     ]
    }
   ],
   "source": [
    "#data.add_object_at( Ep, min_rs, max_rs, frame=0, seed=(110,350,12), frame_to=11, seed_to=(140,360,16), segment_it=True )\n",
    "data.add_object_at( Ep, min_rs, max_rs, frame=0, seed=(216,306,12), segment_it=True )\n",
    "data.track(Ep, seed_frame=0, target_frames=range(1,len(data.images)), recenter_iterations=1)"
   ]
  },
  {
   "cell_type": "markdown",
   "metadata": {},
   "source": [
    "## adding direct neighbors"
   ]
  },
  {
   "cell_type": "code",
   "execution_count": 8,
   "metadata": {},
   "outputs": [],
   "source": [
    "neighbors = []\n",
    "for i in range(12):\n",
    "    n = data.init_object(\"n\"+str(i))\n",
    "    objects.append(n)\n",
    "    neighbors.append(n)"
   ]
  },
  {
   "cell_type": "code",
   "execution_count": 9,
   "metadata": {
    "scrolled": true
   },
   "outputs": [
    {
     "name": "stdout",
     "output_type": "stream",
     "text": [
      "Added appearance for \"n0\" in frame 0 with seed coordinates [ 90. 390.  12.]\n",
      "      Optimum energy:  76084.0\n",
      "      Nodes in/out:  5049 10311\n",
      "Added appearance for \"n0\" in frame 1 with seed coordinates [ 90. 390.  12.]\n",
      "      Optimum energy:  55942.0\n",
      "      Nodes in/out:  3781 11579\n",
      "    Updated center to [ 85.78515625 393.20507812  12.67773438]\n",
      "Added appearance for \"n1\" in frame 0 with seed coordinates [150. 410.  12.]\n",
      "      Optimum energy:  78748.0\n",
      "      Nodes in/out:  8930 6430\n",
      "Added appearance for \"n1\" in frame 1 with seed coordinates [150. 410.  12.]\n",
      "      Optimum energy:  55854.0\n",
      "      Nodes in/out:  9380 5980\n",
      "    Updated center to [158.37695312 408.76171875  13.9375    ]\n",
      "Added appearance for \"n2\" in frame 0 with seed coordinates [200. 390.  12.]\n",
      "      Optimum energy:  84169.0\n",
      "      Nodes in/out:  9656 5704\n",
      "Added appearance for \"n2\" in frame 1 with seed coordinates [200. 390.  12.]\n",
      "      Optimum energy:  58044.0\n",
      "      Nodes in/out:  9245 6115\n",
      "    Updated center to [193.93945312 396.94921875  13.81445312]\n",
      "Added appearance for \"n3\" in frame 0 with seed coordinates [190. 315.  12.]\n",
      "      Optimum energy:  87964.0\n",
      "      Nodes in/out:  8161 7199\n",
      "Added appearance for \"n3\" in frame 1 with seed coordinates [190. 315.  12.]\n",
      "      Optimum energy:  58411.0\n",
      "      Nodes in/out:  8634 6726\n",
      "    Updated center to [194.91210938 310.87695312  13.31835938]\n",
      "Added appearance for \"n4\" in frame 0 with seed coordinates [145. 265.  12.]\n",
      "      Optimum energy:  69551.0\n",
      "      Nodes in/out:  6529 8831\n",
      "Added appearance for \"n4\" in frame 1 with seed coordinates [145. 265.  12.]\n",
      "      Optimum energy:  60570.0\n",
      "      Nodes in/out:  3050 12310\n",
      "    Updated center to [148.46289062 257.01757812  10.78125   ]\n",
      "Added appearance for \"n5\" in frame 0 with seed coordinates [110. 230.  12.]\n",
      "      Optimum energy:  65152.0\n",
      "      Nodes in/out:  6764 8596\n",
      "Added appearance for \"n5\" in frame 1 with seed coordinates [110. 230.  12.]\n",
      "      Optimum energy:  47011.0\n",
      "      Nodes in/out:  4367 10993\n",
      "    Updated center to [112.88867188 233.19335938  13.04492188]\n",
      "Added appearance for \"n6\" in frame 0 with seed coordinates [ 40. 255.  12.]\n",
      "      Optimum energy:  45871.0\n",
      "      Nodes in/out:  13163 2197\n",
      "Added appearance for \"n6\" in frame 1 with seed coordinates [ 40. 255.  12.]\n",
      "      Optimum energy:  34076.0\n",
      "      Nodes in/out:  13108 2252\n",
      "    Updated center to [ 40.04101562 257.7578125   11.42773438]\n",
      "Added appearance for \"n7\" in frame 0 with seed coordinates [ 45. 300.  18.]\n",
      "      Optimum energy:  56024.0\n",
      "      Nodes in/out:  6223 9137\n",
      "Added appearance for \"n7\" in frame 1 with seed coordinates [ 45. 300.  18.]\n",
      "      Optimum energy:  38819.0\n",
      "      Nodes in/out:  8270 7090\n",
      "    Updated center to [ 56.19726562 302.40625     15.18945312]\n",
      "Added appearance for \"n8\" in frame 0 with seed coordinates [ 67. 355.  18.]\n",
      "      Optimum energy:  68368.0\n",
      "      Nodes in/out:  4264 11096\n",
      "Added appearance for \"n8\" in frame 1 with seed coordinates [ 67. 355.  18.]\n",
      "      Optimum energy:  53740.0\n",
      "      Nodes in/out:  1719 13641\n",
      "    Updated center to [ 70.59179688 356.12695312  17.2734375 ]\n",
      "Added appearance for \"n9\" in frame 0 with seed coordinates [110. 275.  24.]\n",
      "      Optimum energy:  77459.0\n",
      "      Nodes in/out:  7556 7804\n",
      "Added appearance for \"n9\" in frame 1 with seed coordinates [110. 275.  24.]\n",
      "      Optimum energy:  52610.0\n",
      "      Nodes in/out:  3322 12038\n",
      "    Updated center to [109.69335938 275.0078125   24.76367188]\n",
      "Added appearance for \"n10\" in frame 0 with seed coordinates [130. 315.  24.]\n",
      "      Optimum energy:  87057.0\n",
      "      Nodes in/out:  1845 13515\n",
      "Added appearance for \"n10\" in frame 1 with seed coordinates [130. 315.  24.]\n",
      "      Optimum energy:  61484.0\n",
      "      Nodes in/out:  848 14512\n",
      "    Updated center to [129.85546875 314.66796875  23.47851562]\n",
      "Added appearance for \"n11\" in frame 0 with seed coordinates [125. 360.  24.]\n",
      "      Optimum energy:  75163.0\n",
      "      Nodes in/out:  6174 9186\n",
      "Added appearance for \"n11\" in frame 1 with seed coordinates [125. 360.  24.]\n",
      "      Optimum energy:  57101.0\n",
      "      Nodes in/out:  5897 9463\n",
      "    Updated center to [133.4453125  365.74804688  21.17578125]\n"
     ]
    }
   ],
   "source": [
    "nseeds = [( 90,390,12),\n",
    "          (150,410,12),\n",
    "          (200,390,12),\n",
    "          (190,315,12),\n",
    "          (145,265,12),\n",
    "          (110,230,12),\n",
    "          ( 40,255,12),\n",
    "          ( 45,300,18),\n",
    "          ( 67,355,18),\n",
    "          (110,275,24),\n",
    "          (130,315,24),\n",
    "          (125,360,24)]\n",
    "for i in range(len(nseeds)):\n",
    "    data.add_object_at( neighbors[i], min_rs, max_rs, frame=0, seed=nseeds[i], segment_it=True )\n",
    "    data.track(neighbors[i], seed_frame=0, target_frames=range(1,len(data.images)), recenter_iterations=1)"
   ]
  },
  {
   "cell_type": "markdown",
   "metadata": {},
   "source": [
    "## adding others"
   ]
  },
  {
   "cell_type": "code",
   "execution_count": 10,
   "metadata": {},
   "outputs": [],
   "source": [
    "others = []\n",
    "for i in range(7):\n",
    "    o = data.init_object(\"o\"+str(i))\n",
    "    objects.append(o)\n",
    "    others.append(o)"
   ]
  },
  {
   "cell_type": "code",
   "execution_count": 11,
   "metadata": {
    "scrolled": true
   },
   "outputs": [
    {
     "name": "stdout",
     "output_type": "stream",
     "text": [
      "Added appearance for \"o0\" in frame 0 with seed coordinates [ 70. 205.  12.]\n",
      "      Optimum energy:  46145.0\n",
      "      Nodes in/out:  8841 6519\n",
      "Added appearance for \"o0\" in frame 1 with seed coordinates [ 70. 205.  12.]\n",
      "      Optimum energy:  34750.0\n",
      "      Nodes in/out:  9112 6248\n",
      "    Updated center to [ 78.140625   212.4375      11.74609375]\n",
      "Added appearance for \"o1\" in frame 0 with seed coordinates [145. 170.  12.]\n",
      "      Optimum energy:  60044.0\n",
      "      Nodes in/out:  5580 9780\n",
      "Added appearance for \"o1\" in frame 1 with seed coordinates [145. 170.  12.]\n",
      "      Optimum energy:  44051.0\n",
      "      Nodes in/out:  2351 13009\n",
      "    Updated center to [145.72460938 169.62304688  11.75976562]\n",
      "Added appearance for \"o2\" in frame 0 with seed coordinates [ 50. 160.  12.]\n",
      "      Optimum energy:  37809.0\n",
      "      Nodes in/out:  12791 2569\n",
      "Added appearance for \"o2\" in frame 1 with seed coordinates [ 50. 160.  12.]\n",
      "      Optimum energy:  29146.0\n",
      "      Nodes in/out:  13510 1850\n",
      "    Updated center to [ 49.6328125  160.97265625  12.23828125]\n",
      "Added appearance for \"o3\" in frame 0 with seed coordinates [105. 140.  12.]\n",
      "      Optimum energy:  41676.0\n",
      "      Nodes in/out:  8911 6449\n",
      "Added appearance for \"o3\" in frame 1 with seed coordinates [105. 140.  12.]\n",
      "      Optimum energy:  32776.0\n",
      "      Nodes in/out:  6879 8481\n",
      "    Updated center to [111.81445312 149.9609375   10.6796875 ]\n",
      "Added appearance for \"o4\" in frame 0 with seed coordinates [190. 220.  12.]\n",
      "      Optimum energy:  68488.0\n",
      "      Nodes in/out:  5557 9803\n",
      "Added appearance for \"o4\" in frame 1 with seed coordinates [190. 220.  12.]\n",
      "      Optimum energy:  50663.0\n",
      "      Nodes in/out:  5873 9487\n",
      "    Updated center to [187.9609375  220.89257812  11.40429688]\n",
      "Added appearance for \"o5\" in frame 0 with seed coordinates [200. 265.  12.]\n",
      "      Optimum energy:  75913.0\n",
      "      Nodes in/out:  8896 6464\n",
      "Added appearance for \"o5\" in frame 1 with seed coordinates [200. 265.  12.]\n",
      "      Optimum energy:  67744.0\n",
      "      Nodes in/out:  5745 9615\n",
      "    Updated center to [202.609375   281.01757812  13.1640625 ]\n",
      "Added appearance for \"o6\" in frame 0 with seed coordinates [220. 335.  20.]\n",
      "      Optimum energy:  97065.0\n",
      "      Nodes in/out:  6526 8834\n",
      "Added appearance for \"o6\" in frame 1 with seed coordinates [220. 335.  20.]\n",
      "      Optimum energy:  61516.0\n",
      "      Nodes in/out:  8040 7320\n",
      "    Updated center to [220.203125   323.3046875   18.15429688]\n"
     ]
    }
   ],
   "source": [
    "oseeds = [( 70,205,12),\n",
    "          (145,170,12),\n",
    "          ( 50,160,12),\n",
    "          (105,140,12),\n",
    "          (190,220,12),\n",
    "          (200,265,12),\n",
    "          (220,335,20)]\n",
    "for i in range(len(oseeds)):\n",
    "    data.add_object_at( others[i], min_rs, max_rs, frame=0, seed=oseeds[i], segment_it=True )\n",
    "    data.track(others[i], seed_frame=0, target_frames=range(1,len(data.images)), recenter_iterations=1)"
   ]
  },
  {
   "cell_type": "markdown",
   "metadata": {},
   "source": [
    "# Save / Load"
   ]
  },
  {
   "cell_type": "code",
   "execution_count": 12,
   "metadata": {},
   "outputs": [],
   "source": [
    "data.save('/Users/prakash/Desktop/092216_PH-mCherry-02_w2SD mCherry.pkl')"
   ]
  },
  {
   "cell_type": "code",
   "execution_count": 13,
   "metadata": {},
   "outputs": [
    {
     "name": "stdout",
     "output_type": "stream",
     "text": [
      "Dimensions of frame 0 :  (59, 860, 990)\n",
      "Dimensions of frame 1 :  (56, 860, 990)\n",
      "Working on \"Ea\" (object 1 of 21 )...\n",
      "   Segmenting in frame 0...\n"
     ]
    },
    {
     "ename": "TypeError",
     "evalue": "object of type 'NoneType' has no len()",
     "output_type": "error",
     "traceback": [
      "\u001b[0;31m---------------------------------------------------------------------------\u001b[0m",
      "\u001b[0;31mTypeError\u001b[0m                                 Traceback (most recent call last)",
      "\u001b[0;32m<ipython-input-13-52be8951338e>\u001b[0m in \u001b[0;36m<module>\u001b[0;34m()\u001b[0m\n\u001b[1;32m      1\u001b[0m \u001b[0mdata\u001b[0m \u001b[0;34m=\u001b[0m \u001b[0mData4d\u001b[0m\u001b[0;34m(\u001b[0m \u001b[0;34m[\u001b[0m\u001b[0;34m]\u001b[0m\u001b[0;34m,\u001b[0m \u001b[0msilent\u001b[0m\u001b[0;34m=\u001b[0m\u001b[0;32mFalse\u001b[0m \u001b[0;34m)\u001b[0m\u001b[0;34m\u001b[0m\u001b[0m\n\u001b[0;32m----> 2\u001b[0;31m \u001b[0mdata\u001b[0m\u001b[0;34m.\u001b[0m\u001b[0mload\u001b[0m\u001b[0;34m(\u001b[0m\u001b[0;34m'/Users/prakash/Desktop/092216_PH-mCherry-02_w2SD mCherry.pkl'\u001b[0m\u001b[0;34m)\u001b[0m\u001b[0;34m\u001b[0m\u001b[0m\n\u001b[0m\u001b[1;32m      3\u001b[0m \u001b[0mobjects\u001b[0m \u001b[0;34m=\u001b[0m \u001b[0mrange\u001b[0m\u001b[0;34m(\u001b[0m\u001b[0mlen\u001b[0m\u001b[0;34m(\u001b[0m\u001b[0mdata\u001b[0m\u001b[0;34m.\u001b[0m\u001b[0mobject_names\u001b[0m\u001b[0;34m)\u001b[0m\u001b[0;34m)\u001b[0m\u001b[0;34m\u001b[0m\u001b[0m\n\u001b[1;32m      4\u001b[0m \u001b[0mecells\u001b[0m \u001b[0;34m=\u001b[0m \u001b[0;34m[\u001b[0m\u001b[0;36m0\u001b[0m\u001b[0;34m,\u001b[0m\u001b[0;36m1\u001b[0m\u001b[0;34m]\u001b[0m\u001b[0;34m\u001b[0m\u001b[0m\n\u001b[1;32m      5\u001b[0m \u001b[0mneighbors\u001b[0m \u001b[0;34m=\u001b[0m \u001b[0mrange\u001b[0m\u001b[0;34m(\u001b[0m\u001b[0;36m2\u001b[0m\u001b[0;34m,\u001b[0m\u001b[0;36m2\u001b[0m\u001b[0;34m+\u001b[0m\u001b[0;36m12\u001b[0m\u001b[0;34m)\u001b[0m\u001b[0;34m\u001b[0m\u001b[0m\n",
      "\u001b[0;32m~/Git-repos/BoBSeg3D/BobSeg/data4d.py\u001b[0m in \u001b[0;36mload\u001b[0;34m(self, filename, compute_netsurfs)\u001b[0m\n\u001b[1;32m    275\u001b[0m         \u001b[0mself\u001b[0m\u001b[0;34m.\u001b[0m\u001b[0mload_sphere_sampling\u001b[0m\u001b[0;34m(\u001b[0m\u001b[0;34m)\u001b[0m\u001b[0;34m\u001b[0m\u001b[0m\n\u001b[1;32m    276\u001b[0m         \u001b[0mself\u001b[0m\u001b[0;34m.\u001b[0m\u001b[0mload_from_files\u001b[0m\u001b[0;34m(\u001b[0m \u001b[0mself\u001b[0m\u001b[0;34m.\u001b[0m\u001b[0mfilenames\u001b[0m \u001b[0;34m)\u001b[0m \u001b[0;31m# load the raw images from file too!!!\u001b[0m\u001b[0;34m\u001b[0m\u001b[0m\n\u001b[0;32m--> 277\u001b[0;31m         \u001b[0;32mif\u001b[0m \u001b[0mcompute_netsurfs\u001b[0m\u001b[0;34m:\u001b[0m \u001b[0mself\u001b[0m\u001b[0;34m.\u001b[0m\u001b[0msegment\u001b[0m\u001b[0;34m(\u001b[0m\u001b[0;34m)\u001b[0m\u001b[0;34m\u001b[0m\u001b[0m\n\u001b[0m\u001b[1;32m    278\u001b[0m \u001b[0;34m\u001b[0m\u001b[0m\n\u001b[1;32m    279\u001b[0m     \u001b[0;32mdef\u001b[0m \u001b[0mload_sphere_sampling\u001b[0m\u001b[0;34m(\u001b[0m \u001b[0mself\u001b[0m \u001b[0;34m)\u001b[0m\u001b[0;34m:\u001b[0m\u001b[0;34m\u001b[0m\u001b[0m\n",
      "\u001b[0;32m~/Git-repos/BoBSeg3D/BobSeg/data4d.py\u001b[0m in \u001b[0;36msegment\u001b[0;34m(self, oids)\u001b[0m\n\u001b[1;32m    152\u001b[0m                     \u001b[0;32mif\u001b[0m \u001b[0;32mnot\u001b[0m \u001b[0mself\u001b[0m\u001b[0;34m.\u001b[0m\u001b[0msilent\u001b[0m\u001b[0;34m:\u001b[0m\u001b[0;34m\u001b[0m\u001b[0m\n\u001b[1;32m    153\u001b[0m                         \u001b[0mprint\u001b[0m \u001b[0;34m(\u001b[0m\u001b[0;34m'   Segmenting in frame '\u001b[0m\u001b[0;34m+\u001b[0m\u001b[0mstr\u001b[0m\u001b[0;34m(\u001b[0m\u001b[0mf\u001b[0m\u001b[0;34m)\u001b[0m\u001b[0;34m+\u001b[0m\u001b[0;34m'...'\u001b[0m \u001b[0;34m)\u001b[0m\u001b[0;34m\u001b[0m\u001b[0m\n\u001b[0;32m--> 154\u001b[0;31m                     \u001b[0mself\u001b[0m\u001b[0;34m.\u001b[0m\u001b[0msegment_frame\u001b[0m\u001b[0;34m(\u001b[0m \u001b[0moid\u001b[0m\u001b[0;34m,\u001b[0m \u001b[0mf\u001b[0m \u001b[0;34m)\u001b[0m\u001b[0;34m\u001b[0m\u001b[0m\n\u001b[0m\u001b[1;32m    155\u001b[0m                     \u001b[0mself\u001b[0m\u001b[0;34m.\u001b[0m\u001b[0mobject_volumes\u001b[0m\u001b[0;34m[\u001b[0m\u001b[0moid\u001b[0m\u001b[0;34m]\u001b[0m\u001b[0;34m[\u001b[0m\u001b[0mf\u001b[0m\u001b[0;34m]\u001b[0m \u001b[0;34m=\u001b[0m \u001b[0mself\u001b[0m\u001b[0;34m.\u001b[0m\u001b[0mnetsurfs\u001b[0m\u001b[0;34m[\u001b[0m\u001b[0moid\u001b[0m\u001b[0;34m]\u001b[0m\u001b[0;34m[\u001b[0m\u001b[0mf\u001b[0m\u001b[0;34m]\u001b[0m\u001b[0;34m.\u001b[0m\u001b[0mget_volume\u001b[0m\u001b[0;34m(\u001b[0m \u001b[0mself\u001b[0m\u001b[0;34m.\u001b[0m\u001b[0mpixelsize\u001b[0m \u001b[0;34m)\u001b[0m\u001b[0;34m\u001b[0m\u001b[0m\n\u001b[1;32m    156\u001b[0m                     \u001b[0;32mif\u001b[0m \u001b[0;32mnot\u001b[0m \u001b[0mself\u001b[0m\u001b[0;34m.\u001b[0m\u001b[0msilent\u001b[0m\u001b[0;34m:\u001b[0m\u001b[0;34m\u001b[0m\u001b[0m\n",
      "\u001b[0;32m~/Git-repos/BoBSeg3D/BobSeg/data4d.py\u001b[0m in \u001b[0;36msegment_frame\u001b[0;34m(self, oid, f)\u001b[0m\n\u001b[1;32m    176\u001b[0m                                                  \u001b[0mself\u001b[0m\u001b[0;34m.\u001b[0m\u001b[0mobject_seedpoints\u001b[0m\u001b[0;34m[\u001b[0m\u001b[0moid\u001b[0m\u001b[0;34m]\u001b[0m\u001b[0;34m[\u001b[0m\u001b[0mf\u001b[0m\u001b[0;34m]\u001b[0m\u001b[0;34m,\u001b[0m\u001b[0;34m\u001b[0m\u001b[0m\n\u001b[1;32m    177\u001b[0m                                                  \u001b[0mself\u001b[0m\u001b[0;34m.\u001b[0m\u001b[0mobject_max_surf_dist\u001b[0m\u001b[0;34m[\u001b[0m\u001b[0moid\u001b[0m\u001b[0;34m]\u001b[0m\u001b[0;34m[\u001b[0m\u001b[0mf\u001b[0m\u001b[0;34m]\u001b[0m\u001b[0;34m,\u001b[0m\u001b[0;34m\u001b[0m\u001b[0m\n\u001b[0;32m--> 178\u001b[0;31m                                                  min_radii=self.object_min_surf_dist[oid][f])\n\u001b[0m\u001b[1;32m    179\u001b[0m         \u001b[0;32mif\u001b[0m \u001b[0;32mnot\u001b[0m \u001b[0mself\u001b[0m\u001b[0;34m.\u001b[0m\u001b[0msilent\u001b[0m\u001b[0;34m:\u001b[0m\u001b[0;34m\u001b[0m\u001b[0m\n\u001b[1;32m    180\u001b[0m             \u001b[0mprint\u001b[0m \u001b[0;34m(\u001b[0m\u001b[0;34m'      Optimum energy: '\u001b[0m\u001b[0;34m,\u001b[0m \u001b[0moptimum\u001b[0m\u001b[0;34m)\u001b[0m\u001b[0;34m\u001b[0m\u001b[0m\n",
      "\u001b[0;32m~/Git-repos/BoBSeg3D/BobSeg/netsurface3d.py\u001b[0m in \u001b[0;36mapply_to\u001b[0;34m(self, image, center, max_radii, min_radii)\u001b[0m\n\u001b[1;32m     50\u001b[0m     \u001b[0;32mdef\u001b[0m \u001b[0mapply_to\u001b[0m\u001b[0;34m(\u001b[0m \u001b[0mself\u001b[0m\u001b[0;34m,\u001b[0m \u001b[0mimage\u001b[0m\u001b[0;34m,\u001b[0m \u001b[0mcenter\u001b[0m\u001b[0;34m,\u001b[0m \u001b[0mmax_radii\u001b[0m\u001b[0;34m,\u001b[0m \u001b[0mmin_radii\u001b[0m\u001b[0;34m=\u001b[0m\u001b[0;34m(\u001b[0m\u001b[0;36m0\u001b[0m\u001b[0;34m,\u001b[0m\u001b[0;36m0\u001b[0m\u001b[0;34m,\u001b[0m\u001b[0;36m0\u001b[0m\u001b[0;34m)\u001b[0m \u001b[0;34m)\u001b[0m\u001b[0;34m:\u001b[0m\u001b[0;34m\u001b[0m\u001b[0m\n\u001b[1;32m     51\u001b[0m         \u001b[0;32massert\u001b[0m\u001b[0;34m(\u001b[0m \u001b[0mlen\u001b[0m\u001b[0;34m(\u001b[0m\u001b[0mimage\u001b[0m\u001b[0;34m.\u001b[0m\u001b[0mshape\u001b[0m\u001b[0;34m)\u001b[0m \u001b[0;34m==\u001b[0m \u001b[0;36m3\u001b[0m \u001b[0;34m)\u001b[0m\u001b[0;34m\u001b[0m\u001b[0m\n\u001b[0;32m---> 52\u001b[0;31m         \u001b[0;32massert\u001b[0m\u001b[0;34m(\u001b[0m \u001b[0mlen\u001b[0m\u001b[0;34m(\u001b[0m\u001b[0mcenter\u001b[0m\u001b[0;34m)\u001b[0m \u001b[0;34m==\u001b[0m \u001b[0;36m3\u001b[0m \u001b[0;34m)\u001b[0m\u001b[0;34m\u001b[0m\u001b[0m\n\u001b[0m\u001b[1;32m     53\u001b[0m         \u001b[0;32massert\u001b[0m\u001b[0;34m(\u001b[0m \u001b[0mlen\u001b[0m\u001b[0;34m(\u001b[0m\u001b[0mmax_radii\u001b[0m\u001b[0;34m)\u001b[0m \u001b[0;34m==\u001b[0m \u001b[0;36m3\u001b[0m \u001b[0;34m)\u001b[0m\u001b[0;34m\u001b[0m\u001b[0m\n\u001b[1;32m     54\u001b[0m         \u001b[0;32massert\u001b[0m\u001b[0;34m(\u001b[0m \u001b[0mlen\u001b[0m\u001b[0;34m(\u001b[0m\u001b[0mmin_radii\u001b[0m\u001b[0;34m)\u001b[0m \u001b[0;34m==\u001b[0m \u001b[0;36m3\u001b[0m \u001b[0;34m)\u001b[0m\u001b[0;34m\u001b[0m\u001b[0m\n",
      "\u001b[0;31mTypeError\u001b[0m: object of type 'NoneType' has no len()"
     ]
    }
   ],
   "source": [
    "data = Data4d( [], silent=False )\n",
    "data.load('/Users/prakash/Desktop/092216_PH-mCherry-02_w2SD mCherry.pkl')\n",
    "objects = range(len(data.object_names))\n",
    "ecells = [0,1]\n",
    "neighbors = range(2,2+12)\n",
    "others = range(2+12,2+12+7)"
   ]
  },
  {
   "cell_type": "markdown",
   "metadata": {},
   "source": [
    "# Visualisation stuff "
   ]
  },
  {
   "cell_type": "code",
   "execution_count": 14,
   "metadata": {},
   "outputs": [
    {
     "name": "stderr",
     "output_type": "stream",
     "text": [
      "/Users/prakash/anaconda/envs/Py35forBobSeg/lib/python3.5/site-packages/pyopencl/cffi_cl.py:1521: CompilerWarning: Non-empty compiler output encountered. Set the environment variable PYOPENCL_COMPILER_OUTPUT=1 to see more.\n",
      "  \"to see more.\", CompilerWarning)\n"
     ]
    },
    {
     "ename": "AttributeError",
     "evalue": "'NoneType' object has no attribute 'shape'",
     "output_type": "error",
     "traceback": [
      "\u001b[0;31m---------------------------------------------------------------------------\u001b[0m",
      "\u001b[0;31mAttributeError\u001b[0m                            Traceback (most recent call last)",
      "\u001b[0;32m<ipython-input-14-608990a42d5c>\u001b[0m in \u001b[0;36m<module>\u001b[0;34m()\u001b[0m\n\u001b[1;32m      1\u001b[0m \u001b[0mw\u001b[0m \u001b[0;34m=\u001b[0m \u001b[0mdata\u001b[0m\u001b[0;34m.\u001b[0m\u001b[0mshow_frame\u001b[0m\u001b[0;34m(\u001b[0m\u001b[0;36m0\u001b[0m\u001b[0;34m,\u001b[0m\u001b[0mstackUnits\u001b[0m\u001b[0;34m=\u001b[0m\u001b[0;34m[\u001b[0m\u001b[0;36m1.\u001b[0m\u001b[0;34m,\u001b[0m\u001b[0;36m1.\u001b[0m\u001b[0;34m,\u001b[0m\u001b[0;36m5.\u001b[0m\u001b[0;34m]\u001b[0m\u001b[0;34m,\u001b[0m\u001b[0mraise_window\u001b[0m\u001b[0;34m=\u001b[0m\u001b[0;32mTrue\u001b[0m\u001b[0;34m)\u001b[0m\u001b[0;34m\u001b[0m\u001b[0m\n\u001b[0;32m----> 2\u001b[0;31m \u001b[0mdata\u001b[0m\u001b[0;34m.\u001b[0m\u001b[0mshow_objects\u001b[0m\u001b[0;34m(\u001b[0m\u001b[0mecells\u001b[0m\u001b[0;34m,\u001b[0m \u001b[0mshow_surfaces\u001b[0m\u001b[0;34m=\u001b[0m\u001b[0;32mTrue\u001b[0m\u001b[0;34m,\u001b[0m \u001b[0mshow_centers\u001b[0m\u001b[0;34m=\u001b[0m\u001b[0;32mTrue\u001b[0m\u001b[0;34m,\u001b[0m \u001b[0mcolors\u001b[0m\u001b[0;34m=\u001b[0m\u001b[0mdata\u001b[0m\u001b[0;34m.\u001b[0m\u001b[0mcolors_gold\u001b[0m\u001b[0;34m)\u001b[0m\u001b[0;34m\u001b[0m\u001b[0m\n\u001b[0m\u001b[1;32m      3\u001b[0m \u001b[0;31m#try:\u001b[0m\u001b[0;34m\u001b[0m\u001b[0;34m\u001b[0m\u001b[0m\n\u001b[1;32m      4\u001b[0m \u001b[0;31m#    data.show_objects(neighbors, show_surfaces=True, show_centers=True, colors=data.colors_green)\u001b[0m\u001b[0;34m\u001b[0m\u001b[0;34m\u001b[0m\u001b[0m\n\u001b[1;32m      5\u001b[0m \u001b[0;31m#    data.show_objects(others, show_surfaces=True, show_centers=True, colors=data.colors_blue)\u001b[0m\u001b[0;34m\u001b[0m\u001b[0;34m\u001b[0m\u001b[0m\n",
      "\u001b[0;32m~/Git-repos/BoBSeg3D/BobSeg/data4d.py\u001b[0m in \u001b[0;36mshow_objects\u001b[0;34m(self, oids, show_surfaces, show_centers, colors)\u001b[0m\n\u001b[1;32m    339\u001b[0m             \u001b[0;32mif\u001b[0m \u001b[0;32mnot\u001b[0m \u001b[0mnetsurf\u001b[0m \u001b[0;32mis\u001b[0m \u001b[0;32mNone\u001b[0m\u001b[0;34m:\u001b[0m\u001b[0;34m\u001b[0m\u001b[0m\n\u001b[1;32m    340\u001b[0m                 if show_centers:  self.spimagine.glWidget.add_mesh( \n\u001b[0;32m--> 341\u001b[0;31m                         netsurf.create_center_mesh( facecolor=colors[i%len(colors)]) )\n\u001b[0m\u001b[1;32m    342\u001b[0m                 if show_surfaces: self.spimagine.glWidget.add_mesh( \n\u001b[1;32m    343\u001b[0m                         netsurf.create_surface_mesh( facecolor=colors[i%len(colors)]) )\n",
      "\u001b[0;32m~/Git-repos/BoBSeg3D/BobSeg/netsurface3d.py\u001b[0m in \u001b[0;36mcreate_center_mesh\u001b[0;34m(self, facecolor, radii)\u001b[0m\n\u001b[1;32m    177\u001b[0m \u001b[0;34m\u001b[0m\u001b[0m\n\u001b[1;32m    178\u001b[0m          \u001b[0;32mif\u001b[0m \u001b[0mradii\u001b[0m \u001b[0;32mis\u001b[0m \u001b[0;32mNone\u001b[0m\u001b[0;34m:\u001b[0m \u001b[0mradii\u001b[0m \u001b[0;34m=\u001b[0m \u001b[0;34m(\u001b[0m\u001b[0;36m3\u001b[0m\u001b[0;34m,\u001b[0m\u001b[0;36m3\u001b[0m\u001b[0;34m,\u001b[0m\u001b[0;36m.5\u001b[0m\u001b[0;34m)\u001b[0m\u001b[0;34m\u001b[0m\u001b[0m\n\u001b[0;32m--> 179\u001b[0;31m          return EllipsoidMesh(rs=self.norm_radii(radii,self.image.shape), \n\u001b[0m\u001b[1;32m    180\u001b[0m                               \u001b[0mpos\u001b[0m\u001b[0;34m=\u001b[0m\u001b[0mself\u001b[0m\u001b[0;34m.\u001b[0m\u001b[0mnorm_coords\u001b[0m\u001b[0;34m(\u001b[0m\u001b[0mself\u001b[0m\u001b[0;34m.\u001b[0m\u001b[0mcenter\u001b[0m\u001b[0;34m,\u001b[0m \u001b[0mself\u001b[0m\u001b[0;34m.\u001b[0m\u001b[0mimage\u001b[0m\u001b[0;34m.\u001b[0m\u001b[0mshape\u001b[0m\u001b[0;34m)\u001b[0m\u001b[0;34m,\u001b[0m\u001b[0;34m\u001b[0m\u001b[0m\n\u001b[1;32m    181\u001b[0m                               \u001b[0mfacecolor\u001b[0m\u001b[0;34m=\u001b[0m\u001b[0mfacecolor\u001b[0m\u001b[0;34m,\u001b[0m\u001b[0;34m\u001b[0m\u001b[0m\n",
      "\u001b[0;31mAttributeError\u001b[0m: 'NoneType' object has no attribute 'shape'"
     ]
    }
   ],
   "source": [
    "w = data.show_frame(0,stackUnits=[1.,1.,5.],raise_window=True)\n",
    "data.show_objects(ecells, show_surfaces=True, show_centers=True, colors=data.colors_gold)\n",
    "#try:\n",
    "#    data.show_objects(neighbors, show_surfaces=True, show_centers=True, colors=data.colors_green)\n",
    "#    data.show_objects(others, show_surfaces=True, show_centers=True, colors=data.colors_blue)\n",
    "#except:\n",
    "#    None\n",
    "#data.show_objects(neighbors, show_surfaces=True, show_centers=True, colors=data.colors_green)"
   ]
  },
  {
   "cell_type": "code",
   "execution_count": null,
   "metadata": {},
   "outputs": [],
   "source": [
    "for f in range(len(data.images)):\n",
    "    print ('Exporting frame ',f+1,'of',len(data.images))\n",
    "    w = data.show_frame(f,stackUnits=[1.,1.,5.],raise_window=False)\n",
    "    data.show_objects(ecells, show_surfaces=True, show_centers=True, colors=data.colors_gold)\n",
    "    try:\n",
    "        data.show_objects(neighbors, show_surfaces=True, show_centers=True, colors=data.colors_green)\n",
    "        data.show_objects(others, show_surfaces=True, show_centers=True, colors=data.colors_blue)\n",
    "    except:\n",
    "        None\n",
    "    data.save_current_visualization( 'frame'+str(f)+'.jpg' )"
   ]
  },
  {
   "cell_type": "code",
   "execution_count": null,
   "metadata": {},
   "outputs": [],
   "source": [
    "data.object_volumes[Ea]"
   ]
  },
  {
   "cell_type": "code",
   "execution_count": null,
   "metadata": {
    "collapsed": true
   },
   "outputs": [],
   "source": []
  }
 ],
 "metadata": {
  "kernelspec": {
   "display_name": "Python [default]",
   "language": "python",
   "name": "python3"
  },
  "language_info": {
   "codemirror_mode": {
    "name": "ipython",
    "version": 3
   },
   "file_extension": ".py",
   "mimetype": "text/x-python",
   "name": "python",
   "nbconvert_exporter": "python",
   "pygments_lexer": "ipython3",
   "version": "3.5.5"
  }
 },
 "nbformat": 4,
 "nbformat_minor": 1
}
