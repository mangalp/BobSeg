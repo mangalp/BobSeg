{
 "cells": [
  {
   "cell_type": "code",
   "execution_count": 1,
   "metadata": {
    "scrolled": true
   },
   "outputs": [
    {
     "name": "stdout",
     "output_type": "stream",
     "text": [
      "Populating the interactive namespace from numpy and matplotlib\n"
     ]
    }
   ],
   "source": [
    "import cv2\n",
    "import csv\n",
    "import numpy as np\n",
    "import itertools\n",
    "import matplotlib.pyplot as plt\n",
    "import pylab as pl\n",
    "import bobsegutils as bsu\n",
    "%matplotlib inline\n",
    "%pylab inline\n",
    "pylab.rcParams['figure.figsize'] = (15, 10)\n",
    "\n",
    "from tifffile import imread, imsave"
   ]
  },
  {
   "cell_type": "code",
   "execution_count": 2,
   "metadata": {
    "scrolled": false
   },
   "outputs": [
    {
     "name": "stdout",
     "output_type": "stream",
     "text": [
      "(61, 836, 628)\n"
     ]
    }
   ],
   "source": [
    "image_path = '/Users/prakash/Desktop/BobSegMarkData/2018-05-01_fromMark/MAX_C1-20180501_mNG-NMY-2_mSc-PH_01-01_Myosin.tif'\n",
    "src_img = imread(image_path)\n",
    "img_size = src_img.shape\n",
    "row_size = range(0,img_size[1])\n",
    "col_size = range(0,img_size[2])\n",
    "print(img_size)"
   ]
  },
  {
   "cell_type": "code",
   "execution_count": 3,
   "metadata": {},
   "outputs": [],
   "source": [
    "Xpts = range(0, img_size[1])\n",
    "Ypts = range(0, img_size[2])\n",
    "Points = np.array(list(itertools.product(Xpts, Ypts))).astype(float32)"
   ]
  },
  {
   "cell_type": "code",
   "execution_count": 4,
   "metadata": {},
   "outputs": [],
   "source": [
    "image_index = 2 # The image time point(exclusive of) until which TSP is to be applied based on selected control points\n",
    "flow_x = np.zeros(shape=(image_index,img_size[1],img_size[2]))\n",
    "flow_y = np.zeros(shape=(image_index,img_size[1],img_size[2]))"
   ]
  },
  {
   "cell_type": "markdown",
   "metadata": {},
   "source": [
    "### Thin Plate Spline Based Warping/Flow Estimation"
   ]
  },
  {
   "cell_type": "code",
   "execution_count": 5,
   "metadata": {
    "scrolled": true
   },
   "outputs": [
    {
     "name": "stdout",
     "output_type": "stream",
     "text": [
      "[3, 1, 1, 1, 1, 1, 3, 1, 3, 2, 2, 2, 1, 1, 2, 2, 1, 1, 1, 0, 0, 0, 0, 1, 0, 0, 2, 2, 0, 0, 2, 0, 0, 0, 2, 1, 1, 1, 1, 1, 1, 1, 1, 1, 2, 1, 2, 0, 0, 1, 1, 1, 1, 1, 1, 1, 1, 2, 0, 1, 1, 1, 1, 1, 1, 1, 1, 1, 2, 1, 1, 3, 1, 1, 1, 1, 0, 0, 1, 1, 1, 1, 1, 2, 1, 1, 1, 1, 1, 0, 1, 1, 1, 1, 1, 1, 1, 1, 1, 1, 1, 1, 0, 0, 0, 0, 1, 1, 1, 1, 1, 2, 0, 1, 2, 1, 1, 1, 1, 1, 1, 1, 1, 2, 0, 0, 0, 0, 0, 0, 0, 0, 1, 1, 1, 1, 1, 1, 1, 0, 0, 0]\n"
     ]
    }
   ],
   "source": [
    "with open('/Users/prakash/Desktop/MarkGT/Tracks_with_uncertainty_radius.csv', 'r') as f:\n",
    "    reader = csv.reader(f)\n",
    "    uncertainty_radius_list_full = list(reader)\n",
    "uncertainty_radius_list_full = uncertainty_radius_list_full[1:]\n",
    "uncertainty_radius_list_full=np.array(uncertainty_radius_list_full,integer)\n",
    "uncertainty_radius_list_full = [item for sublist in uncertainty_radius_list_full for item in sublist]\n",
    "print(uncertainty_radius_list_full)"
   ]
  },
  {
   "cell_type": "code",
   "execution_count": 6,
   "metadata": {
    "scrolled": true
   },
   "outputs": [],
   "source": [
    "uncertainty_radius_list_full = np.array(uncertainty_radius_list_full)\n",
    "zero_uncertainty_index = np.where(uncertainty_radius_list_full == 0)[0]\n",
    "nonzero_uncertainty_index = np.where(uncertainty_radius_list_full != 0)[0]"
   ]
  },
  {
   "cell_type": "code",
   "execution_count": 7,
   "metadata": {},
   "outputs": [],
   "source": [
    "### Reading only certain indices (with uncertainty readius = 0) for warping\n",
    "\n",
    "with open('/Users/prakash/Desktop/MarkGT/Choices_Structured.csv') as sd:\n",
    "    source_reader=csv.reader(sd)\n",
    "    next(source_reader)\n",
    "    certain_source_rows=[row for idx, row in enumerate(source_reader) if idx in zero_uncertainty_index]\n",
    "    uncertain_source_rows = [row for idx, row in enumerate(source_reader) if idx in nonzero_uncertainty_index]\n",
    "\n",
    "with open('/Users/prakash/Desktop/MarkGT/Tracks_Structured.csv') as td:\n",
    "    target_reader=csv.reader(td)\n",
    "    next(target_reader)\n",
    "    certain_target_rows=[row for idx, row in enumerate(target_reader) if idx in zero_uncertainty_index]\n",
    "    uncertain_target_rows=[row for idx, row in enumerate(target_reader) if idx in nonzero_uncertainty_index]"
   ]
  },
  {
   "cell_type": "code",
   "execution_count": 8,
   "metadata": {},
   "outputs": [],
   "source": [
    "### Reading only uncercertain indices (with uncertainty readius !=0) for validation of warped flow\n",
    "\n",
    "with open('/Users/prakash/Desktop/MarkGT/Choices_Structured.csv') as sd:\n",
    "    source_reader=csv.reader(sd)\n",
    "    next(source_reader)\n",
    "    uncertain_source_rows = [row for idx, row in enumerate(source_reader) if idx in nonzero_uncertainty_index]\n",
    "\n",
    "with open('/Users/prakash/Desktop/MarkGT/Tracks_Structured.csv') as td:\n",
    "    target_reader=csv.reader(td)\n",
    "    next(target_reader)\n",
    "    uncertain_target_rows=[row for idx, row in enumerate(target_reader) if idx in nonzero_uncertainty_index]\n",
    "\n",
    "with open('/Users/prakash/Desktop/MarkGT/Tracks_with_uncertainty_radius.csv') as fd:\n",
    "    uncertainty_radius_reader=csv.reader(fd)\n",
    "    next(uncertainty_radius_reader)\n",
    "    uncertain_radius_rows=[row for idx, row in enumerate(uncertainty_radius_reader) if idx in nonzero_uncertainty_index]"
   ]
  },
  {
   "cell_type": "code",
   "execution_count": 9,
   "metadata": {},
   "outputs": [],
   "source": [
    "certain_sshape = np.array(certain_source_rows,float)\n",
    "certain_tshape = np.array(certain_target_rows, float)\n",
    "\n",
    "uncertain_sshape = np.array(uncertain_source_rows, float)\n",
    "uncertain_tshape = np.array(uncertain_target_rows, float)\n",
    "uncertain_radius_list = np.array(uncertain_radius_rows, float)"
   ]
  },
  {
   "cell_type": "code",
   "execution_count": 10,
   "metadata": {},
   "outputs": [],
   "source": [
    "for index in range(1, image_index,1):\n",
    "    tps = cv2.createThinPlateSplineShapeTransformer()\n",
    "    certain_sshape = certain_sshape.reshape(1,-1,2)\n",
    "    certain_tshape = certain_tshape.reshape(1,-1,2)\n",
    "    matches = list()\n",
    "\n",
    "    for i in range(0, certain_sshape.shape[1],1):\n",
    "        matches.append(cv2.DMatch(i,i,0))\n",
    "\n",
    "    tps.estimateTransformation(certain_sshape,certain_tshape,matches)  \n",
    "    ret, tshape_ = tps.applyTransformation (Points.reshape(1,-1,2))\n",
    "    target_warp = tshape_.reshape(img_size[1],img_size[2],2)\n",
    "\n",
    "    # Creating flow\n",
    "    tsp_flow_x = np.zeros(shape=(img_size[1],img_size[2]))\n",
    "    tsp_flow_y = np.zeros(shape=(img_size[1],img_size[2]))\n",
    "\n",
    "    for row in range(img_size[1]):\n",
    "        for col in range(img_size[2]):\n",
    "            tsp_flow_x[row][col] = target_warp[row][col][0] - row\n",
    "            tsp_flow_y[row][col] = target_warp[row][col][1] - col\n",
    "    flow_x[index-1,:,:] = tsp_flow_x\n",
    "    flow_y[index-1,:,:] = tsp_flow_y"
   ]
  },
  {
   "cell_type": "code",
   "execution_count": 11,
   "metadata": {},
   "outputs": [],
   "source": [
    "validation_query_point_list = uncertain_sshape\n",
    "validation_result_point_list = uncertain_tshape"
   ]
  },
  {
   "cell_type": "code",
   "execution_count": 12,
   "metadata": {},
   "outputs": [],
   "source": [
    "flow_points_flat_list = []"
   ]
  },
  {
   "cell_type": "code",
   "execution_count": 13,
   "metadata": {},
   "outputs": [],
   "source": [
    "for number in range(0, len(validation_query_point_list), 1):\n",
    "#     print(\"Validation Query Point:\", validation_query_point_list[number])\n",
    "#     print(\"Validation Result Point:\", validation_result_point_list[number])\n",
    "#     print(\"TPS Flow Result:\", target_warp[int(validation_query_point_list[number][0]), int(validation_query_point_list[number][1])])\n",
    "    flow_points_flat_list.append(target_warp[int(validation_query_point_list[number][0]), int(validation_query_point_list[number][1])])"
   ]
  },
  {
   "cell_type": "code",
   "execution_count": 14,
   "metadata": {},
   "outputs": [
    {
     "name": "stdout",
     "output_type": "stream",
     "text": [
      "109\n",
      "109\n"
     ]
    }
   ],
   "source": [
    "print(len(validation_query_point_list))\n",
    "print(len(validation_result_point_list))"
   ]
  },
  {
   "cell_type": "markdown",
   "metadata": {},
   "source": [
    "### Quantification"
   ]
  },
  {
   "cell_type": "code",
   "execution_count": 15,
   "metadata": {
    "scrolled": true
   },
   "outputs": [
    {
     "name": "stderr",
     "output_type": "stream",
     "text": [
      "/Users/prakash/anaconda/envs/Py35forBobSeg/lib/python3.5/site-packages/ipykernel/__main__.py:14: RuntimeWarning: divide by zero encountered in double_scalars\n"
     ]
    }
   ],
   "source": [
    "pixel_lag = []\n",
    "relative_pixel_lag = []\n",
    "count = 0\n",
    "for i in range(len(flow_points_flat_list)):\n",
    "    if(bsu.euclid_dist(flow_points_flat_list[i], validation_result_point_list[i])<= uncertain_radius_list[i]):\n",
    "        \n",
    "        position_offset = 0\n",
    "        relative_position_offset = 0\n",
    "        count = count +1\n",
    "    else:\n",
    "        r2 = bsu.euclid_dist(validation_query_point_list[i], flow_points_flat_list[i])\n",
    "        r1 = bsu.euclid_dist(validation_query_point_list[i], validation_result_point_list[i])\n",
    "        position_offset = r2-r1\n",
    "        relative_position_offset = abs(position_offset)/r1\n",
    "        \n",
    "    \n",
    "    pixel_lag.append(position_offset)\n",
    "    relative_pixel_lag.append(relative_position_offset*100)"
   ]
  },
  {
   "cell_type": "code",
   "execution_count": 16,
   "metadata": {},
   "outputs": [
    {
     "name": "stdout",
     "output_type": "stream",
     "text": [
      "[269.8099832814417, 82.67626447485223, 126.88257739024091, 145.05740856726464, 69.19815210074472, 72.06841805133162, 59.87369538455596, 13.846456223352769, 97.07680041490615, 9.53041986239277, 24.523803568775282, 243.6463864622602, 233.94264016201623, 14.388949941496188, 87.8548851892884, 109.3828111097157, 183.6669729153822, 50.189895606569415, 44.50443030340664, 73.64317081916958, 35.300998029577336, 0, 48.24568657336981, 0, 27.648828692217364, 51.72829658018242, 45.50252526482153, 36.64137099115851, 10.20099702229229, 8.153101513624108, 22.959981320473354, 146.25100988366148, 68.39540004451908, 123.14721345854586, 45.9141881170692, 158.29628722350296, 59.97608353823024, 49.16466968414542, 61.36237948707042, 41.80641735688264, 52.87409183316755, 83.67451186266877, 41.481702596398804, 50.29577863928185, 63.37750820285374, 91.5409850647588, 42.83746872940727, 54.41427044356114, 22.748669871002434, 52.99199660394309, 17.144101500046403, 45.69293037945626, 4.642537750278559, 29.089516674484926, 29.0057039424382, 22.831929735875754, 44.77789852497636, 0, 26.003605836756055, 9.268272876987263, 41.96617292365294, 5.090894400248056, 63.93597772080224, 17.139792813627487, 36.43399780158474, 72.37604029172456, 0, 10.241588847933578, 15.78510073178509, 44.24747367021844, 23.527039508142117, 16.251673777362583, 82.11292856123634, 114.50285468725035, 114.29271823997264, 0, 29.697234871204977, 251.12593990726063, 26.141622181928003, 153.67870145473162, 291.2939727475492, 33.81442945043979, 178.00564214780624, 195.33832510609287, 37.05541086715429, 8.91255074571508, 7.3735856296600675, 13.16790170100257, inf, 26.70393626864451, 46.43268936189182, 60.02776799426359, 70.06329591226495, 45.575083183049635, 160.2135467726034, 13.620906182773155, 45.901966620407194, 370.6812905356104, 0.9916472612491019, 355.3016713166415, 208.6278734323733, 48.986765959893106, 53.04096893149368, 22.43742230401561, 29.344896363777906, 66.7093224821181, 20.96330226911407, 134.12802609985758, 69.32979576245984]\n"
     ]
    }
   ],
   "source": [
    "print(relative_pixel_lag)"
   ]
  },
  {
   "cell_type": "code",
   "execution_count": 17,
   "metadata": {},
   "outputs": [
    {
     "data": {
      "image/png": "[encoded data removed]",
      "text/plain": [
       "<Figure size 432x288 with 1 Axes>"
      ]
     },
     "metadata": {},
     "output_type": "display_data"
    }
   ],
   "source": [
    "plt.hist(pixel_lag,histtype='bar', color='gray', ec='black')\n",
    "plt.xlabel('Lag in pixels',fontsize=25)\n",
    "plt.ylabel('Number of points',fontsize=25)\n",
    "plt.xticks(fontsize = 10) \n",
    "plt.yticks(fontsize = 10)\n",
    "plt.show()"
   ]
  },
  {
   "cell_type": "code",
   "execution_count": 26,
   "metadata": {},
   "outputs": [
    {
     "name": "stdout",
     "output_type": "stream",
     "text": [
      "0.5340787253728903\n",
      "45.9141881170692\n",
      "1.9533832510609286\n",
      "17.142378025478838\n"
     ]
    }
   ],
   "source": [
    "print(np.median(pixel_lag))\n",
    "print(np.median(relative_pixel_lag))\n",
    "print(np.percentile(pixel_lag,75))\n",
    "print(np.percentile(relative_pixel_lag,20))"
   ]
  },
  {
   "cell_type": "code",
   "execution_count": null,
   "metadata": {},
   "outputs": [],
   "source": []
  }
 ],
 "metadata": {
  "kernelspec": {
   "display_name": "Python [default]",
   "language": "python",
   "name": "python3"
  },
  "language_info": {
   "codemirror_mode": {
    "name": "ipython",
    "version": 3
   },
   "file_extension": ".py",
   "mimetype": "text/x-python",
   "name": "python",
   "nbconvert_exporter": "python",
   "pygments_lexer": "ipython3",
   "version": "3.5.5"
  }
 },
 "nbformat": 4,
 "nbformat_minor": 2
}
