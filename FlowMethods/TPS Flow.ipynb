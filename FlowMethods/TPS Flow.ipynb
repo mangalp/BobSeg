{
 "cells": [
  {
   "cell_type": "code",
   "execution_count": 1,
   "metadata": {
    "scrolled": true
   },
   "outputs": [
    {
     "name": "stdout",
     "output_type": "stream",
     "text": [
      "Populating the interactive namespace from numpy and matplotlib\n"
     ]
    }
   ],
   "source": [
    "import cv2\n",
    "import csv\n",
    "import pandas as pd\n",
    "import numpy as np\n",
    "import itertools\n",
    "import matplotlib.pyplot as plt\n",
    "import pylab as pl\n",
    "%matplotlib inline\n",
    "%pylab inline\n",
    "pylab.rcParams['figure.figsize'] = (15, 10)\n",
    "\n",
    "from tifffile import imread, imsave"
   ]
  },
  {
   "cell_type": "code",
   "execution_count": 2,
   "metadata": {
    "scrolled": false
   },
   "outputs": [
    {
     "name": "stdout",
     "output_type": "stream",
     "text": [
      "(61, 896, 1086)\n"
     ]
    }
   ],
   "source": [
    "image_path = '/Users/prakash/Desktop/BobSegDataAndResults/GoodData/2018-06-05_fromMark/20180604_LP823_Control-03_Coupled/MyosinStack.tif'\n",
    "src_img = imread(image_path)\n",
    "img_size = src_img.shape\n",
    "row_size = range(0,img_size[1])\n",
    "col_size = range(0,img_size[2])\n",
    "print(img_size)"
   ]
  },
  {
   "cell_type": "code",
   "execution_count": 3,
   "metadata": {},
   "outputs": [],
   "source": [
    "Xpts = range(0, img_size[1])\n",
    "Ypts = range(0, img_size[2])\n",
    "Points = np.array(list(itertools.product(Xpts, Ypts))).astype(float32)"
   ]
  },
  {
   "cell_type": "code",
   "execution_count": 4,
   "metadata": {},
   "outputs": [],
   "source": [
    "image_index = 2 # The image time point(exclusive of) until which TSP is to be applied based on selected control points\n",
    "flow_x = np.zeros(shape=(image_index,img_size[1],img_size[2]))\n",
    "flow_y = np.zeros(shape=(image_index,img_size[1],img_size[2]))"
   ]
  },
  {
   "cell_type": "code",
   "execution_count": 5,
   "metadata": {
    "scrolled": false
   },
   "outputs": [
    {
     "name": "stdout",
     "output_type": "stream",
     "text": [
      "[[221.57849 587.1167 ]\n",
      " [235.51009 623.6041 ]\n",
      " [718.47156 531.3903 ]\n",
      " [273.32437 642.843  ]\n",
      " [320.4264  570.53143]\n",
      " [236.8369  642.17957]\n",
      " [823.29016 536.0342 ]\n",
      " [881.0067  468.36652]]\n",
      "[[232.85645 592.42395]\n",
      " [237.5003  618.96027]\n",
      " [720.4618  538.0244 ]\n",
      " [275.3146  639.52594]\n",
      " [319.76297 573.8485 ]\n",
      " [248.77826 647.4869 ]\n",
      " [819.97314 539.35126]\n",
      " [877.6897  461.73242]]\n",
      "(896, 1086, 2)\n"
     ]
    }
   ],
   "source": [
    "for index in range(1, image_index,1):\n",
    "    with open(\"/Users/prakash/Desktop/TPS/MarkData/time\"+str(index)+\"-\"+str(index+1)+\"/time_00\"+str(index+1)+\".csv\",\"r\") as source:\n",
    "        rdr= csv.reader( source )\n",
    "        with open(\"/Users/prakash/Desktop/TPS/MarkData/time\"+str(index)+\"-\"+str(index+1)+\"/\"+\"Resultstime\"+str(index)+\"-\"+str(index+1)+\".csv\",\"w\") as result:\n",
    "            #with open(\"/Users/prakash/Desktop/BobSegDataAndResults/FlowQuantification/time\"+str(i)+\"-\"+str(i+1)+\"/\"+\"Resultstime\"+str(i)+\"-\"+str(i+1)+\".csv\",\"w\") as result:\n",
    "            wtr= csv.writer( result )\n",
    "            for r in rdr:\n",
    "                wtr.writerow( (r[1], r[2]) )\n",
    "\n",
    "    tps = cv2.createThinPlateSplineShapeTransformer()\n",
    "    filename = \"/Users/prakash/Desktop/TPS/MarkData/time\"+str(index)+\"-\"+str(index+1)+\"/\"+\"Resultstime\"+str(index)+\"-\"+str(index+1)+\".csv\"\n",
    "    input_file = open(filename,\"r+\")\n",
    "    reader_file = csv.reader(input_file)\n",
    "    value = len(list(reader_file))-1\n",
    "    skip = int(value/2)\n",
    "    sshape = np.genfromtxt(filename,delimiter=',', skip_header =1, max_rows=skip).astype(float32)\n",
    "    tshape = np.genfromtxt(filename,delimiter=',', skip_header =skip+1, max_rows=skip).astype(float32)\n",
    "    print(sshape)\n",
    "    print(tshape)\n",
    "\n",
    "    sshape = sshape.reshape(1,-1,2)\n",
    "    tshape = tshape.reshape(1,-1,2)\n",
    "    matches = list()\n",
    "\n",
    "    for i in range(0, sshape.shape[1],1):\n",
    "        matches.append(cv2.DMatch(i,i,0))\n",
    "\n",
    "    tps.estimateTransformation(sshape,tshape,matches)  \n",
    "    ret, tshape_ = tps.applyTransformation (Points.reshape(1,-1,2))\n",
    "    target_warp = tshape_.reshape(img_size[1],img_size[2],2)\n",
    "    print(target_warp.shape)\n",
    "\n",
    "    # Creating flow\n",
    "    tsp_flow_x = np.zeros(shape=(img_size[1],img_size[2]))\n",
    "    tsp_flow_y = np.zeros(shape=(img_size[1],img_size[2]))\n",
    "\n",
    "    for row in range(img_size[1]):\n",
    "        for col in range(img_size[2]):\n",
    "            tsp_flow_x[row][col] = target_warp[row][col][0] - row\n",
    "            tsp_flow_y[row][col] = target_warp[row][col][1] - col\n",
    "    flow_x[index-1,:,:] = tsp_flow_x\n",
    "    flow_y[index-1,:,:] = tsp_flow_y"
   ]
  }
 ],
 "metadata": {
  "kernelspec": {
   "display_name": "Python [default]",
   "language": "python",
   "name": "python3"
  },
  "language_info": {
   "codemirror_mode": {
    "name": "ipython",
    "version": 3
   },
   "file_extension": ".py",
   "mimetype": "text/x-python",
   "name": "python",
   "nbconvert_exporter": "python",
   "pygments_lexer": "ipython3",
   "version": "3.5.5"
  }
 },
 "nbformat": 4,
 "nbformat_minor": 2
}
