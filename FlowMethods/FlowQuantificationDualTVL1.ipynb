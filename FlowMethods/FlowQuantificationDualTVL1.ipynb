{
 "cells": [
  {
   "cell_type": "code",
   "execution_count": 1,
   "metadata": {},
   "outputs": [
    {
     "name": "stdout",
     "output_type": "stream",
     "text": [
      "Populating the interactive namespace from numpy and matplotlib\n"
     ]
    },
    {
     "name": "stderr",
     "output_type": "stream",
     "text": [
      "/Users/prakash/anaconda/envs/Py35forBobSeg/lib/python3.5/site-packages/IPython/core/magics/pylab.py:160: UserWarning: pylab import has clobbered these variables: ['copy']\n",
      "`%matplotlib` prevents importing * from pylab and numpy\n",
      "  \"\\n`%matplotlib` prevents importing * from pylab and numpy\"\n"
     ]
    }
   ],
   "source": [
    "import time\n",
    "import copy\n",
    "import numpy as np\n",
    "from skimage.filters import gaussian\n",
    "import cv2 \n",
    "\n",
    "import matplotlib.pyplot as plt\n",
    "import pylab as pl\n",
    "\n",
    "\n",
    "%matplotlib inline\n",
    "%pylab inline\n",
    "pylab.rcParams['figure.figsize'] = (15, 10)\n",
    "\n",
    "from tifffile import imread, imsave\n",
    "import pickle\n",
    "import bobsegutils as bsu\n",
    "\n",
    "from skimage.draw import circle\n",
    "\n",
    "import csv\n",
    "\n",
    "from skimage import io\n",
    "\n",
    "import math"
   ]
  },
  {
   "cell_type": "code",
   "execution_count": 2,
   "metadata": {},
   "outputs": [
    {
     "name": "stdout",
     "output_type": "stream",
     "text": [
      "Shape of stack: (61, 896, 1086)\n"
     ]
    }
   ],
   "source": [
    "filename = '/Users/prakash/Desktop/BobSegDataAndResults/GoodData/2018-06-05_fromMark/20180604_LP823_Control-03_Coupled/MyosinStack.tif'\n",
    "myosin_channel = imread(filename)\n",
    "print('Shape of stack:', myosin_channel.shape)\n",
    "sigma = [0.,2,2]\n",
    "myosin_channel_smooth = gaussian(myosin_channel,sigma)"
   ]
  },
  {
   "cell_type": "code",
   "execution_count": null,
   "metadata": {
    "scrolled": true
   },
   "outputs": [
    {
     "name": "stdout",
     "output_type": "stream",
     "text": [
      "."
     ]
    }
   ],
   "source": [
    "flows = bsu.compute_TVLflow( myosin_channel)\n",
    "flow_x, flow_y = bsu.split_flow_components( flows )\n",
    "avg_flow_x = bsu.flow_average(flow_x, 1)\n",
    "avg_flow_y = bsu.flow_average(flow_y, 1)\n",
    "total_avg_flow_x = np.average(flow_x, axis=0)\n",
    "total_avg_flow_y = np.average(flow_y, axis=0)"
   ]
  },
  {
   "cell_type": "code",
   "execution_count": null,
   "metadata": {},
   "outputs": [],
   "source": [
    "print(flow_x[60])"
   ]
  },
  {
   "cell_type": "raw",
   "metadata": {},
   "source": [
    "Select the myosin coordinates that need to be tracked and track them manually. Then, save the coordinates of the\n",
    "tracked myosin in a csv file. After that, run the following cell which picks out just the coordinates from the csv file and rewrites them as a new csv file."
   ]
  },
  {
   "cell_type": "markdown",
   "metadata": {},
   "source": [
    "### The manually tracked coordinates from Fiji are processed before plotting"
   ]
  },
  {
   "cell_type": "code",
   "execution_count": null,
   "metadata": {},
   "outputs": [],
   "source": [
    "### Read the results csv file, delete all entries which are not coordinates and write it as a new csv file\n",
    "for i in range(1,20,1):\n",
    "    #with open(\"/Users/prakash/Desktop/BobSegDataAndResults/FlowQuantification/time\"+str(i)+\"-\"+str(i+1)+\"/time_00\"+str(i+1)+\".csv\",\"r\") as source:\n",
    "    with open(\"/Users/prakash/Desktop/FlowQuantification/time\"+str(i)+\"-\"+str(i+1)+\"/time_00\"+str(i+1)+\".csv\",\"r\") as source:\n",
    "        rdr= csv.reader( source )\n",
    "        with open(\"/Users/prakash/Desktop/FlowQuantification/time\"+str(i)+\"-\"+str(i+1)+\"/\"+\"Resultstime\"+str(i)+\"-\"+str(i+1)+\".csv\",\"w\") as result:\n",
    "        #with open(\"/Users/prakash/Desktop/BobSegDataAndResults/FlowQuantification/time\"+str(i)+\"-\"+str(i+1)+\"/\"+\"Resultstime\"+str(i)+\"-\"+str(i+1)+\".csv\",\"w\") as result:\n",
    "            wtr= csv.writer( result )\n",
    "            for r in rdr:\n",
    "                wtr.writerow( (r[5], r[6]) )"
   ]
  },
  {
   "cell_type": "code",
   "execution_count": null,
   "metadata": {},
   "outputs": [],
   "source": [
    "def load_file(filename):\n",
    "    '''Make a list of tuples from a csv file\n",
    "    '''\n",
    "    fp = open(filename, 'Ur')\n",
    "    data_list = []\n",
    "    for line in fp:\n",
    "        data_list.append(tuple((line.strip().split(','))))\n",
    "    fp.close()\n",
    "    return data_list"
   ]
  },
  {
   "cell_type": "code",
   "execution_count": null,
   "metadata": {},
   "outputs": [],
   "source": [
    "# The above created list elememts are string, we convert them to float below\n",
    "center_points = []\n",
    "manual_track_points = []\n",
    "for f in range(1,20,1):\n",
    "    #data_list = load_file(\"/Users/prakash/Desktop/BobSegDataAndResults/FlowQuantification/time\"+str(f)+\"-\"+str(f+1)+\"/Resultstime\"+str(f)+\"-\"+str(f+1)+\".csv\")\n",
    "    data_list = load_file(\"/Users/prakash/Desktop/FlowQuantification/time\"+str(f)+\"-\"+str(f+1)+\"/Resultstime\"+str(f)+\"-\"+str(f+1)+\".csv\")\n",
    "    datal = data_list[1:] # Ignoring the header row (first row of csv file)\n",
    "    half = int(len(datal)/2)\n",
    "    first_half = datal[0:half]\n",
    "    second_half = datal[half:]\n",
    "    new_first_half_list = []\n",
    "    new_second_half_list = []\n",
    "    for element in range(len(first_half)):\n",
    "        number_element_first_half = []\n",
    "        number_element_second_half = []\n",
    "        number_element_first_half.append((float(first_half[element][0])))\n",
    "        number_element_first_half.append((float(first_half[element][1])))\n",
    "        new_first_half_list.append(tuple(number_element_first_half))\n",
    "        number_element_second_half.append((float(second_half[element][0])))\n",
    "        number_element_second_half.append((float(second_half[element][1])))\n",
    "        new_second_half_list.append(tuple(number_element_second_half))\n",
    "    center_points.append(new_first_half_list)\n",
    "    manual_track_points.append(new_second_half_list)"
   ]
  },
  {
   "cell_type": "code",
   "execution_count": null,
   "metadata": {
    "scrolled": true
   },
   "outputs": [],
   "source": [
    "flow_points = []\n",
    "for frame, points in enumerate(center_points):\n",
    "    flow_points_per_frame = []\n",
    "    for i in range(len(points)):\n",
    "        position = bsu.update_pos(points[i], frame, avg_flow_x, avg_flow_y )\n",
    "        flow_points_per_frame.append(position)\n",
    "    flow_points.append(flow_points_per_frame)"
   ]
  },
  {
   "cell_type": "code",
   "execution_count": null,
   "metadata": {},
   "outputs": [],
   "source": [
    "print(center_points)"
   ]
  },
  {
   "cell_type": "code",
   "execution_count": null,
   "metadata": {},
   "outputs": [],
   "source": [
    "print(flow_points)"
   ]
  },
  {
   "cell_type": "code",
   "execution_count": null,
   "metadata": {},
   "outputs": [],
   "source": [
    "for i in range(len(center_points)):\n",
    "    print('In frame',i, 'the number of points is:',len(center_points[i]))"
   ]
  },
  {
   "cell_type": "code",
   "execution_count": null,
   "metadata": {
    "scrolled": true
   },
   "outputs": [],
   "source": [
    "center_points_flat_list = [item for sublist in center_points for item in sublist]\n",
    "manual_track_points_flat_list = [item for sublist in manual_track_points for item in sublist]\n",
    "flow_points_flat_list = [item for sublist in flow_points for item in sublist]"
   ]
  },
  {
   "cell_type": "code",
   "execution_count": null,
   "metadata": {},
   "outputs": [],
   "source": [
    "print(flow_points_flat_list)"
   ]
  },
  {
   "cell_type": "code",
   "execution_count": null,
   "metadata": {},
   "outputs": [],
   "source": [
    "print(manual_track_points_flat_list)"
   ]
  },
  {
   "cell_type": "code",
   "execution_count": null,
   "metadata": {},
   "outputs": [],
   "source": [
    "print(center_points_flat_list)"
   ]
  },
  {
   "cell_type": "code",
   "execution_count": null,
   "metadata": {},
   "outputs": [],
   "source": [
    "def subVector(vec1, vec2):\n",
    "    \"\"\"Makes a vector given two points using B-A given the coordinates of two points A and B\n",
    "    \"\"\"\n",
    "    return [(vec2[0] - vec1[0], vec2[1] - vec1[1]) for vec1, vec2 in zip(vec1, vec2)] "
   ]
  },
  {
   "cell_type": "code",
   "execution_count": null,
   "metadata": {},
   "outputs": [],
   "source": [
    "def unit_vector(vector):\n",
    "    \"\"\" Returns the unit vector of the vector.  \n",
    "    \"\"\"\n",
    "    return vector / np.linalg.norm(vector)\n",
    "def angle_between(v1, v2):\n",
    "    \"\"\" Returns the angle in radians between vectors 'v1' and 'v2'::\n",
    "\n",
    "            >>> angle_between((1, 0, 0), (0, 1, 0))\n",
    "            1.5707963267948966\n",
    "            >>> angle_between((1, 0, 0), (1, 0, 0))\n",
    "            0.0\n",
    "            >>> angle_between((1, 0, 0), (-1, 0, 0))\n",
    "            3.141592653589793\n",
    "    \"\"\"\n",
    "    v1_u = unit_vector(v1)\n",
    "    v2_u = unit_vector(v2)\n",
    "    return np.arccos(np.clip(np.dot(v1_u, v2_u), -1.0, 1.0))"
   ]
  },
  {
   "cell_type": "code",
   "execution_count": null,
   "metadata": {},
   "outputs": [],
   "source": [
    "center_to_manual_vectors = subVector(center_points_flat_list, manual_track_points_flat_list)\n",
    "center_to_flow_vectors = subVector(center_points_flat_list, flow_points_flat_list)\n",
    "delta = []\n",
    "for i in range(len(center_to_manual_vectors)):\n",
    "    angle_rad = angle_between( center_to_flow_vectors[i], center_to_manual_vectors[i])\n",
    "    angle_deg = math.degrees(angle_rad)\n",
    "    print(center_to_flow_vectors[i])\n",
    "    delta.append(angle_deg)"
   ]
  },
  {
   "cell_type": "code",
   "execution_count": null,
   "metadata": {},
   "outputs": [],
   "source": [
    "delta_l = []\n",
    "for i in range(len(center_points_flat_list)):\n",
    "    r2 = bsu.euclid_dist(center_points_flat_list[i], flow_points_flat_list[i])\n",
    "    r1 = bsu.euclid_dist(center_points_flat_list[i], manual_track_points_flat_list[i])\n",
    "    position_offset = r2-r1\n",
    "    delta_l.append(position_offset)"
   ]
  },
  {
   "cell_type": "code",
   "execution_count": null,
   "metadata": {
    "scrolled": true
   },
   "outputs": [],
   "source": [
    "print(delta_l)"
   ]
  },
  {
   "cell_type": "code",
   "execution_count": null,
   "metadata": {},
   "outputs": [],
   "source": [
    "print(delta)"
   ]
  },
  {
   "cell_type": "code",
   "execution_count": null,
   "metadata": {},
   "outputs": [],
   "source": [
    "print(len(center_points_flat_list))"
   ]
  },
  {
   "cell_type": "code",
   "execution_count": null,
   "metadata": {
    "scrolled": false
   },
   "outputs": [],
   "source": [
    "plt.hist(delta[1:], bins=range(0,180,15),histtype='bar', color='green', ec='black')\n",
    "plt.xlabel('Angle in degrees',fontsize=30)\n",
    "plt.ylabel('Number of points',fontsize=30)\n",
    "plt.xticks(fontsize = 10) \n",
    "plt.yticks(fontsize = 10)\n",
    "plt.figure(figsize=(50,50))\n",
    "plt.show()"
   ]
  },
  {
   "cell_type": "code",
   "execution_count": null,
   "metadata": {},
   "outputs": [],
   "source": [
    "plt.hist(delta_l,histtype='bar', color='gray', ec='black')\n",
    "plt.xlabel('Delta_l',fontsize=25)\n",
    "plt.ylabel('Number of points',fontsize=25)\n",
    "plt.xticks(fontsize = 10) \n",
    "plt.yticks(fontsize = 10)\n",
    "plt.show()"
   ]
  },
  {
   "cell_type": "markdown",
   "metadata": {},
   "source": [
    "### Computing and plotting results"
   ]
  },
  {
   "cell_type": "code",
   "execution_count": null,
   "metadata": {},
   "outputs": [],
   "source": [
    "fig = plt.figure()\n",
    "for element in range(len(center_points_flat_list)):\n",
    "    print(element)\n",
    "    plt.plot(center_points_flat_list[element][0],center_points_flat_list[element][1],'o',color='white') #Starting position\n",
    "    plt.plot(manual_track_points_flat_list[element][0],manual_track_points_flat_list[element][1],'+',color='orange') #Updated position by flow computation\n",
    "    plt.plot(flow_points_flat_list[element][0],flow_points_flat_list[element][1],'+',color='red') #Updated position by flow computation\n",
    "    plt.imshow(myosin_channel[-1])\n",
    "    \n",
    "    fig.tight_layout()    "
   ]
  },
  {
   "cell_type": "code",
   "execution_count": null,
   "metadata": {
    "scrolled": true
   },
   "outputs": [],
   "source": [
    "print(len(center_points_flat_list))"
   ]
  },
  {
   "cell_type": "code",
   "execution_count": null,
   "metadata": {},
   "outputs": [],
   "source": []
  }
 ],
 "metadata": {
  "kernelspec": {
   "display_name": "Python [default]",
   "language": "python",
   "name": "python3"
  },
  "language_info": {
   "codemirror_mode": {
    "name": "ipython",
    "version": 3
   },
   "file_extension": ".py",
   "mimetype": "text/x-python",
   "name": "python",
   "nbconvert_exporter": "python",
   "pygments_lexer": "ipython3",
   "version": "3.5.5"
  }
 },
 "nbformat": 4,
 "nbformat_minor": 2
}
