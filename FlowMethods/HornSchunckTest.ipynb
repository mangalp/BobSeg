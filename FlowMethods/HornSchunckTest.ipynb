{
 "cells": [
  {
   "cell_type": "code",
   "execution_count": 9,
   "metadata": {},
   "outputs": [],
   "source": [
    "from tifffile import imread, imsave\n",
    "import numpy as np\n",
    "import bobsegutils as bsu\n",
    "from scipy.ndimage.filters import convolve as filter2\n",
    "from typing import Tuple"
   ]
  },
  {
   "cell_type": "code",
   "execution_count": 10,
   "metadata": {},
   "outputs": [
    {
     "name": "stdout",
     "output_type": "stream",
     "text": [
      "(61, 836, 628)\n"
     ]
    }
   ],
   "source": [
    "filename = '/Users/prakash/Desktop/BobSegMarkData/2018-05-01_fromMark/MAX_C1-20180501_mNG-NMY-2_mSc-PH_01-01_Myosin.tif'\n",
    "myosin_channel = imread(filename)\n",
    "print(myosin_channel.shape)"
   ]
  },
  {
   "cell_type": "code",
   "execution_count": 11,
   "metadata": {},
   "outputs": [],
   "source": [
    "im1 = myosin_channel[0]\n",
    "im2 = myosin_channel[1]"
   ]
  },
  {
   "cell_type": "code",
   "execution_count": 12,
   "metadata": {},
   "outputs": [],
   "source": [
    "HSKERN = np.array([[1/12, 1/6, 1/12],\n",
    "                   [1/6,    0, 1/6],\n",
    "                   [1/12, 1/6, 1/12]], float)\n",
    "\n",
    "kernelX = np.array([[-1, 1],\n",
    "                    [-1, 1]]) * .25  # kernel for computing d/dx\n",
    "\n",
    "kernelY = np.array([[-1, -1],\n",
    "                    [1, 1]]) * .25  # kernel for computing d/dy\n",
    "\n",
    "kernelT = np.ones((2, 2))*.25\n"
   ]
  },
  {
   "cell_type": "code",
   "execution_count": 13,
   "metadata": {},
   "outputs": [],
   "source": [
    "def computeDerivatives(im1: np.ndarray, im2: np.ndarray) -> Tuple[np.ndarray, np.ndarray, np.ndarray]:\n",
    "\n",
    "    fx = filter2(im1, kernelX) + filter2(im2, kernelX)\n",
    "    fy = filter2(im1, kernelY) + filter2(im2, kernelY)\n",
    "\n",
    "    # ft = im2 - im1\n",
    "    ft = filter2(im1, kernelT) + filter2(im2, -kernelT)\n",
    "\n",
    "    return fx, fy, ft"
   ]
  },
  {
   "cell_type": "code",
   "execution_count": 14,
   "metadata": {},
   "outputs": [],
   "source": [
    "def HornSchunck(im1: np.ndarray, im2: np.ndarray, alpha: float=0.001, Niter: int=8,\n",
    "                verbose: bool=False) -> Tuple[np.ndarray, np.ndarray]:\n",
    "    \"\"\"\n",
    "    im1: image at t=0\n",
    "    im2: image at t=1\n",
    "    alpha: regularization constant\n",
    "    Niter: number of iteration\n",
    "    \"\"\"\n",
    "    im1 = im1.astype(np.float32)\n",
    "    im2 = im2.astype(np.float32)\n",
    "\n",
    "    # set up initial velocities\n",
    "    uInitial = np.zeros([im1.shape[0], im1.shape[1]])\n",
    "    vInitial = np.zeros([im1.shape[0], im1.shape[1]])\n",
    "\n",
    "    # Set initial value for the flow vectors\n",
    "    U = uInitial\n",
    "    V = vInitial\n",
    "\n",
    "    # Estimate derivatives\n",
    "    [fx, fy, ft] = computeDerivatives(im1, im2)\n",
    "\n",
    "    if verbose:\n",
    "        from .plots import plotderiv\n",
    "        plotderiv(fx, fy, ft)\n",
    "\n",
    "#    print(fx[100,100],fy[100,100],ft[100,100])\n",
    "\n",
    "        # Iteration to reduce error\n",
    "    for _ in range(Niter):\n",
    "        # %% Compute local averages of the flow vectors\n",
    "        uAvg = filter2(U, HSKERN)\n",
    "        vAvg = filter2(V, HSKERN)\n",
    "# %% common part of update step\n",
    "        der = (fx*uAvg + fy*vAvg + ft) / (alpha**2 + fx**2 + fy**2)\n",
    "# %% iterative step\n",
    "        U = uAvg - fx * der\n",
    "        V = vAvg - fy * der\n",
    "\n",
    "    return U, V"
   ]
  },
  {
   "cell_type": "code",
   "execution_count": 15,
   "metadata": {},
   "outputs": [],
   "source": [
    "u,v = HornSchunck(im1, im2)"
   ]
  },
  {
   "cell_type": "code",
   "execution_count": 16,
   "metadata": {},
   "outputs": [
    {
     "name": "stdout",
     "output_type": "stream",
     "text": [
      "-0.7236007867777541\n"
     ]
    }
   ],
   "source": [
    "print(u[200][300])"
   ]
  },
  {
   "cell_type": "code",
   "execution_count": null,
   "metadata": {},
   "outputs": [],
   "source": []
  }
 ],
 "metadata": {
  "kernelspec": {
   "display_name": "Python [conda env:py35forBobSeg]",
   "language": "python",
   "name": "conda-env-py35forBobSeg-py"
  },
  "language_info": {
   "codemirror_mode": {
    "name": "ipython",
    "version": 3
   },
   "file_extension": ".py",
   "mimetype": "text/x-python",
   "name": "python",
   "nbconvert_exporter": "python",
   "pygments_lexer": "ipython3",
   "version": "3.5.5"
  }
 },
 "nbformat": 4,
 "nbformat_minor": 2
}
