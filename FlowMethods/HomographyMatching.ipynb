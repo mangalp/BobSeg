{
 "cells": [
  {
   "cell_type": "code",
   "execution_count": 1,
   "metadata": {},
   "outputs": [],
   "source": [
    "from scipy import ndimage\n",
    "import numpy as np\n",
    "from tifffile import imread, imsave\n",
    "import imageio\n",
    "import cv2\n",
    "import matplotlib.pyplot as plt"
   ]
  },
  {
   "cell_type": "code",
   "execution_count": 2,
   "metadata": {},
   "outputs": [],
   "source": [
    "from_points = np.array([[220,559.33331], [106,634],[410.66666,558.66669],[174.66666,554], [286.66669,444.66666], [48,622], [212.66667,708], [186.66667,630.66669], [189,299], [149,405], [351,723], [318,493], [290,619], [765,442], [628,421], [902,675], [845,511], [799,297], [956,337], [936,595], [673,347], [185,355], [731,312]])"
   ]
  },
  {
   "cell_type": "code",
   "execution_count": 3,
   "metadata": {},
   "outputs": [],
   "source": [
    "to_points = np.array([[222,555], [103,633], [412,554], [177,547], [290,449], [51,626], [211,704], [188,626], [191,294], [143,410], [356,723], [318,498], [296,616], [756,447], [628,428], [909,674], [851,510], [797,291], [958,331], [933,590], [682,357], [191,352], [727,315]])"
   ]
  },
  {
   "cell_type": "code",
   "execution_count": 4,
   "metadata": {},
   "outputs": [],
   "source": [
    "from_points = np.array([[220,559.33331], [106,634],[410.66666,558.66669],[174.66666,554], [673,347], [185,355],[731,312]])"
   ]
  },
  {
   "cell_type": "code",
   "execution_count": 5,
   "metadata": {},
   "outputs": [],
   "source": [
    "to_points = np.array([[222,555], [103,633], [412,554], [177,547], [682,357], [191,352], [727,315]])"
   ]
  },
  {
   "cell_type": "code",
   "execution_count": 20,
   "metadata": {},
   "outputs": [
    {
     "name": "stdout",
     "output_type": "stream",
     "text": [
      "(896, 1086)\n",
      "(896, 1086)\n"
     ]
    },
    {
     "data": {
      "text/plain": [
       "48"
      ]
     },
     "execution_count": 20,
     "metadata": {},
     "output_type": "execute_result"
    }
   ],
   "source": [
    "im_src = imread('/Users/prakash/Desktop/TPS/Substack.tif')\n",
    "print(im_src.shape)\n",
    "    # Four corners of the book in source image\n",
    "pts_src = from_points\n",
    " \n",
    " \n",
    "    # Read destination image.\n",
    "im_dst = imread('/Users/prakash/Desktop/TPS/Substack2.tif')\n",
    "    # Four corners of the book in destination image.\n",
    "pts_dst = to_points\n",
    " \n",
    "    # Calculate Homography\n",
    "h, status = cv2.findHomography(pts_src, pts_dst)\n",
    "     \n",
    "    # Warp source image to destination based on homography\n",
    "im_out = cv2.warpPerspective(im_src, h, (im_dst.shape[1],im_dst.shape[0]))\n",
    "print(im_out.shape)\n",
    "     \n",
    "    # Display images    \n",
    "cv2.imshow(\"Warped Source Image\", im_out)\n",
    "cv2.waitKey(0)"
   ]
  },
  {
   "cell_type": "code",
   "execution_count": null,
   "metadata": {},
   "outputs": [],
   "source": []
  }
 ],
 "metadata": {
  "kernelspec": {
   "display_name": "Python [default]",
   "language": "python",
   "name": "python3"
  },
  "language_info": {
   "codemirror_mode": {
    "name": "ipython",
    "version": 3
   },
   "file_extension": ".py",
   "mimetype": "text/x-python",
   "name": "python",
   "nbconvert_exporter": "python",
   "pygments_lexer": "ipython3",
   "version": "3.5.5"
  }
 },
 "nbformat": 4,
 "nbformat_minor": 2
}
