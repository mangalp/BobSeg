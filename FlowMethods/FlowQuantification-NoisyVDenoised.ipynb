{
 "cells": [
  {
   "cell_type": "code",
   "execution_count": 1,
   "metadata": {
    "scrolled": true
   },
   "outputs": [
    {
     "name": "stdout",
     "output_type": "stream",
     "text": [
      "Populating the interactive namespace from numpy and matplotlib\n"
     ]
    },
    {
     "name": "stderr",
     "output_type": "stream",
     "text": [
      "/Users/prakash/anaconda/envs/Py35forBobSeg/lib/python3.5/site-packages/IPython/core/magics/pylab.py:160: UserWarning: pylab import has clobbered these variables: ['copy']\n",
      "`%matplotlib` prevents importing * from pylab and numpy\n",
      "  \"\\n`%matplotlib` prevents importing * from pylab and numpy\"\n"
     ]
    }
   ],
   "source": [
    "import time\n",
    "import copy\n",
    "import numpy as np\n",
    "from skimage.filters import gaussian\n",
    "import cv2 \n",
    "\n",
    "import matplotlib.pyplot as plt\n",
    "import pylab as pl\n",
    "\n",
    "\n",
    "\n",
    "%matplotlib inline\n",
    "%pylab inline\n",
    "pylab.rcParams['figure.figsize'] = (15, 10)\n",
    "\n",
    "from tifffile import imread, imsave\n",
    "import pickle\n",
    "import bobsegutils as bsu\n",
    "\n",
    "from skimage.draw import circle\n",
    "\n",
    "import csv\n",
    "\n",
    "from skimage import io\n",
    "\n",
    "import math"
   ]
  },
  {
   "cell_type": "code",
   "execution_count": 2,
   "metadata": {
    "collapsed": true
   },
   "outputs": [],
   "source": [
    "def unit_vector(vector):\n",
    "    \"\"\" Returns the unit vector of the vector.  \n",
    "    \"\"\"\n",
    "    return vector / np.linalg.norm(vector)\n",
    "def angle_between(v1, v2):\n",
    "    \"\"\" Returns the angle in radians between vectors 'v1' and 'v2'::\n",
    "\n",
    "            >>> angle_between((1, 0, 0), (0, 1, 0))\n",
    "            1.5707963267948966\n",
    "            >>> angle_between((1, 0, 0), (1, 0, 0))\n",
    "            0.0\n",
    "            >>> angle_between((1, 0, 0), (-1, 0, 0))\n",
    "            3.141592653589793\n",
    "    \"\"\"\n",
    "    v1_u = unit_vector(v1)\n",
    "    v2_u = unit_vector(v2)\n",
    "    return np.arccos(np.clip(np.dot(v1_u, v2_u), -1.0, 1.0))"
   ]
  },
  {
   "cell_type": "markdown",
   "metadata": {},
   "source": [
    "### Reads noisy image, denoised image and the corresponding csv file for tracklets to serve as GT"
   ]
  },
  {
   "cell_type": "code",
   "execution_count": 3,
   "metadata": {
    "scrolled": true
   },
   "outputs": [
    {
     "name": "stdout",
     "output_type": "stream",
     "text": [
      "Shape of stack: (26, 750, 430, 1) (24, 750, 430)\n"
     ]
    }
   ],
   "source": [
    "noisy_image_filename = '/Users/prakash/Downloads/MAX_20180523_LP823_hmr-1_sax-7_RNAi_02-01/MAX_20180523_LP823_hmr-1_sax-7_RNAi_02-01_Myo_denoised.tif'\n",
    "denoised_image_file_name = '/Users/prakash/Downloads/MAX_20180523_LP823_hmr-1_sax-7_RNAi_02-01/MAX_20180523_LP823_hmr-1_sax-7_RNAi_02-01_Myosin_denoised.tif'\n",
    "csv_path = '/Users/prakash/Downloads/MAX_20180523_LP823_hmr-1_sax-7_RNAi_02-01/MAX_20180523_LP823_hmr-1_sax-7_RNAi_02-01_tracklets.csv'\n",
    "noisy_image = imread(noisy_image_filename)\n",
    "denoised_image = imread(denoised_image_file_name)\n",
    "print('Shape of stack:', noisy_image.shape, denoised_image.shape)"
   ]
  },
  {
   "cell_type": "markdown",
   "metadata": {},
   "source": [
    "### Extract flow vectors from tracklets in csv file"
   ]
  },
  {
   "cell_type": "code",
   "execution_count": 4,
   "metadata": {
    "collapsed": true
   },
   "outputs": [],
   "source": [
    "### Read the results csv file, delete all entries which are not coordinates and write it as a new csv file\n",
    "puncta = []\n",
    "edges = []\n",
    "with open(csv_path,\"r\") as source:\n",
    "    rdr= csv.reader( source )\n",
    "    next(rdr)\n",
    "    for line in source:\n",
    "        if(line.startswith(\"edgep1,edgep2\") ):\n",
    "            break\n",
    "        else:\n",
    "            puncta.append(line[:-1])\n",
    "\n",
    "edgeCount = False            \n",
    "with open(csv_path,\"r\") as source:\n",
    "    rdr= csv.reader( source )\n",
    "    next(rdr)\n",
    "    for line in source:\n",
    "        if(line.startswith(\"edgep1,edgep2\") ):\n",
    "            edgeCount = True\n",
    "        if(edgeCount):\n",
    "            edges.append(line[:-1])\n",
    "        "
   ]
  },
  {
   "cell_type": "code",
   "execution_count": 5,
   "metadata": {
    "collapsed": true
   },
   "outputs": [],
   "source": [
    "modified_edges = []\n",
    "modified_puncta = []\n",
    "for edge in range(1, len(edges)):\n",
    "    modified_edges.append([float(edge) for edge in edges[edge].split(',')])\n",
    "for punctum in range(len(puncta)):\n",
    "    modified_puncta.append([float(punctum) for punctum in puncta[punctum].split(',')])"
   ]
  },
  {
   "cell_type": "code",
   "execution_count": 6,
   "metadata": {
    "collapsed": true
   },
   "outputs": [],
   "source": [
    "flow_vectors_gt = []\n",
    "for edge in modified_edges:\n",
    "    id1 = edge[0]\n",
    "    id2 = edge[1]\n",
    "    puncta1 = modified_puncta[int(id1)]\n",
    "    puncta2 = modified_puncta[int(id2)]\n",
    "    time_diff = np.abs(puncta1[-1] - puncta2[-1])\n",
    "    if(puncta1[-1]<puncta2[-1] and time_diff ==1):\n",
    "        time = int(puncta1[-1])\n",
    "        x = puncta1[1]\n",
    "        y = puncta1[2]\n",
    "        u = puncta2[1] - puncta1[1]\n",
    "        v = puncta2[2] - puncta1[2]\n",
    "        \n",
    "    elif(puncta2[-1]<puncta1[-1] and time_diff ==1):\n",
    "        time = int(puncta2[-1])\n",
    "        x = puncta2[1]\n",
    "        y = puncta2[2]\n",
    "        u = puncta1[1] - puncta2[1]\n",
    "        v = puncta1[2] - puncta2[2]\n",
    "    elif(puncta2[-1]==puncta1[-1]):\n",
    "        continue\n",
    "    flow_vectors_gt.append((x,y,u,v,time))"
   ]
  },
  {
   "cell_type": "code",
   "execution_count": 7,
   "metadata": {},
   "outputs": [
    {
     "name": "stdout",
     "output_type": "stream",
     "text": [
      "no duplicates found!\n"
     ]
    }
   ],
   "source": [
    "if len(set(flow_vectors_gt)) == len(flow_vectors_gt):\n",
    "    print(\"no duplicates found!\")"
   ]
  },
  {
   "cell_type": "markdown",
   "metadata": {},
   "source": [
    "# Comparison of automated GUI flow beofre denoising vs after denoising"
   ]
  },
  {
   "cell_type": "markdown",
   "metadata": {},
   "source": [
    "### Load flow images obtained from GUI for both denoised and noisy images"
   ]
  },
  {
   "cell_type": "code",
   "execution_count": 8,
   "metadata": {
    "collapsed": true
   },
   "outputs": [],
   "source": [
    "flow = imread(\"/Users/prakash/Downloads/MAX_20180523_LP823_hmr-1_sax-7_RNAi_02-01/MAX_20180523_LP823_hmr-1_sax-7_RNAi_02-01_noisyFlow.tif\")\n",
    "# noisy_flow = imread(\"/Users/prakash/Downloads/MAX_2018001_LP823_Control-02-02-2/\")"
   ]
  },
  {
   "cell_type": "markdown",
   "metadata": {},
   "source": [
    "#### Extract GT flow vectors and computed flow vectors"
   ]
  },
  {
   "cell_type": "code",
   "execution_count": 9,
   "metadata": {
    "collapsed": true
   },
   "outputs": [],
   "source": [
    "flow_vectors_computed = []\n",
    "for vec in range(len(flow_vectors_gt)):\n",
    "    int_x = round(flow_vectors_gt[vec][0])\n",
    "    int_y = round(flow_vectors_gt[vec][1])\n",
    "    time = flow_vectors_gt[vec][4]\n",
    "    computed_u = flow[time][int_y][int_x]\n",
    "    computed_v = flow[time+1][int_y][int_x]\n",
    "    flow_vectors_computed.append((int_x, int_y, computed_u, computed_v, time))"
   ]
  },
  {
   "cell_type": "code",
   "execution_count": 10,
   "metadata": {
    "collapsed": true
   },
   "outputs": [],
   "source": [
    "final_coordinates_gt = []\n",
    "final_coordinates_computed = []\n",
    "initial_coordinates = []\n",
    "for i in range(len(flow_vectors_gt)):\n",
    "    \n",
    "    final_coordinates_gt.append((flow_vectors_gt[i][0]+flow_vectors_gt[i][2], flow_vectors_gt[i][1]+flow_vectors_gt[i][3]))\n",
    "    final_coordinates_computed.append((flow_vectors_computed[i][0]+flow_vectors_computed[i][2], flow_vectors_computed[i][1]+flow_vectors_computed[i][3]))\n",
    "    initial_coordinates.append((flow_vectors_gt[i][0],flow_vectors_gt[i][1]))"
   ]
  },
  {
   "cell_type": "markdown",
   "metadata": {},
   "source": [
    "#### Compute relative distance lag and relative angular lag"
   ]
  },
  {
   "cell_type": "code",
   "execution_count": 11,
   "metadata": {
    "collapsed": true
   },
   "outputs": [],
   "source": [
    "angle_lag = []\n",
    "relative_angle_lag = []\n",
    "for i in range(len(flow_vectors_gt)):\n",
    "    angle = angle_between(final_coordinates_gt[i], final_coordinates_computed[i])*180/math.pi\n",
    "    angle_lag.append(angle)\n",
    "    relative_angle_lag.append(angle/(angle_between(final_coordinates_gt[i], initial_coordinates[i])*180/math.pi))"
   ]
  },
  {
   "cell_type": "code",
   "execution_count": 12,
   "metadata": {
    "collapsed": true
   },
   "outputs": [],
   "source": [
    "distance_lag = []\n",
    "relative_distance_lag = []\n",
    "for i in range(len(flow_vectors_gt)):\n",
    "    p1 = final_coordinates_gt[i]\n",
    "    p2 = final_coordinates_computed[i]\n",
    "    p3 = initial_coordinates[i]\n",
    "    distance = math.sqrt( ((p1[0]-p2[0])**2)+((p1[1]-p2[1])**2) )\n",
    "    distance_lag.append(distance)\n",
    "    relative_distance_lag.append(distance/(math.sqrt( ((p1[0]-p3[0])**2)+((p1[1]-p3[1])**2) )+1e-50))"
   ]
  },
  {
   "cell_type": "code",
   "execution_count": 13,
   "metadata": {
    "scrolled": true
   },
   "outputs": [
    {
     "data": {
      "text/plain": [
       "3.6806454776960464"
      ]
     },
     "execution_count": 13,
     "metadata": {},
     "output_type": "execute_result"
    }
   ],
   "source": [
    "np.median(np.array(distance_lag))"
   ]
  },
  {
   "cell_type": "markdown",
   "metadata": {},
   "source": [
    "#### Plotting"
   ]
  },
  {
   "cell_type": "code",
   "execution_count": 14,
   "metadata": {},
   "outputs": [
    {
     "data": {
      "image/png": "[encoded data removed]",
      "text/plain": [
       "<Figure size 432x288 with 1 Axes>"
      ]
     },
     "metadata": {},
     "output_type": "display_data"
    },
    {
     "data": {
      "text/plain": [
       "<Figure size 3600x3600 with 0 Axes>"
      ]
     },
     "metadata": {},
     "output_type": "display_data"
    }
   ],
   "source": [
    "plt.hist(relative_angle_lag, bins=range(0,180,2),histtype='bar', color='green', ec='black')\n",
    "plt.xlabel('Angle in degrees',fontsize=30)\n",
    "plt.ylabel('Number of points',fontsize=30)\n",
    "plt.xticks(fontsize = 10) \n",
    "plt.yticks(fontsize = 10)\n",
    "plt.figure(figsize=(50,50))\n",
    "plt.show()"
   ]
  },
  {
   "cell_type": "code",
   "execution_count": 15,
   "metadata": {},
   "outputs": [
    {
     "data": {
      "image/png": "[encoded data removed]",
      "text/plain": [
       "<Figure size 432x288 with 1 Axes>"
      ]
     },
     "metadata": {},
     "output_type": "display_data"
    }
   ],
   "source": [
    "plt.hist(relative_distance_lag, bins=range(0,10,1), histtype='bar', color='gray', ec='black')\n",
    "plt.xlabel('Distance lag in pixels',fontsize=25)\n",
    "plt.ylabel('Number of points',fontsize=25)\n",
    "plt.xticks(fontsize = 10) \n",
    "plt.yticks(fontsize = 10)\n",
    "plt.show()"
   ]
  },
  {
   "cell_type": "code",
   "execution_count": 16,
   "metadata": {},
   "outputs": [
    {
     "name": "stdout",
     "output_type": "stream",
     "text": [
      "Relative angular lag: 1.1520344385885422\n",
      "Relative distance lag: 1.1810752886881537\n"
     ]
    }
   ],
   "source": [
    "print(\"Relative angular lag:\", np.median(np.array(relative_distance_lag)))\n",
    "print(\"Relative distance lag:\", np.median(np.array(relative_angle_lag)))"
   ]
  },
  {
   "cell_type": "code",
   "execution_count": null,
   "metadata": {
    "collapsed": true
   },
   "outputs": [],
   "source": []
  },
  {
   "cell_type": "code",
   "execution_count": null,
   "metadata": {
    "collapsed": true
   },
   "outputs": [],
   "source": []
  },
  {
   "cell_type": "code",
   "execution_count": null,
   "metadata": {
    "collapsed": true
   },
   "outputs": [],
   "source": []
  },
  {
   "cell_type": "code",
   "execution_count": null,
   "metadata": {
    "collapsed": true
   },
   "outputs": [],
   "source": []
  },
  {
   "cell_type": "code",
   "execution_count": null,
   "metadata": {
    "collapsed": true
   },
   "outputs": [],
   "source": []
  }
 ],
 "metadata": {
  "kernelspec": {
   "display_name": "Python 3",
   "language": "python",
   "name": "python3"
  },
  "language_info": {
   "codemirror_mode": {
    "name": "ipython",
    "version": 3
   },
   "file_extension": ".py",
   "mimetype": "text/x-python",
   "name": "python",
   "nbconvert_exporter": "python",
   "pygments_lexer": "ipython3",
   "version": "3.6.1"
  }
 },
 "nbformat": 4,
 "nbformat_minor": 2
}
