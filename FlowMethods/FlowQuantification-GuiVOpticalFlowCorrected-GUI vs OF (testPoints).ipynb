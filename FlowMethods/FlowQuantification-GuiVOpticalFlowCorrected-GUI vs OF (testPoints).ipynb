{
 "cells": [
  {
   "cell_type": "code",
   "execution_count": 1,
   "metadata": {
    "scrolled": true
   },
   "outputs": [
    {
     "name": "stdout",
     "output_type": "stream",
     "text": [
      "Populating the interactive namespace from numpy and matplotlib\n"
     ]
    }
   ],
   "source": [
    "import numpy as np\n",
    "from skimage.filters import gaussian\n",
    "import cv2 \n",
    "import matplotlib.pyplot as plt\n",
    "import pylab as pl\n",
    "\n",
    "%pylab inline\n",
    "pylab.rcParams['figure.figsize'] = (15, 10)\n",
    "from tifffile import imread, imsave\n",
    "import bobsegutils as bsu\n",
    "from scipy.spatial.distance import euclidean\n",
    "import csv\n",
    "import math\n",
    "from lm_tm import *\n",
    "from MSER_kNN import mser_nearest"
   ]
  },
  {
   "cell_type": "code",
   "execution_count": 2,
   "metadata": {},
   "outputs": [],
   "source": [
    "def subVector(vec1, vec2):\n",
    "    \"\"\"Makes a vector given two points using B-A given the coordinates of two points A and B\n",
    "       Parameters: Two lists of vectors\n",
    "       Returns a list\n",
    "    \"\"\"\n",
    "    return [(vec2[0] - vec1[0], vec2[1] - vec1[1]) for vec1, vec2 in zip(vec1, vec2)] "
   ]
  },
  {
   "cell_type": "code",
   "execution_count": 3,
   "metadata": {},
   "outputs": [],
   "source": [
    "def unit_vector(vector):\n",
    "    \"\"\" Returns the unit vector of the vector.  \n",
    "    \"\"\"\n",
    "    return vector / np.linalg.norm(vector)\n",
    "def angle_between(v1, v2):\n",
    "    \"\"\" Returns the angle in radians between vectors 'v1' and 'v2'::\n",
    "\n",
    "            >>> angle_between((1, 0, 0), (0, 1, 0))\n",
    "            1.5707963267948966\n",
    "            >>> angle_between((1, 0, 0), (1, 0, 0))\n",
    "            0.0\n",
    "            >>> angle_between((1, 0, 0), (-1, 0, 0))\n",
    "            3.141592653589793\n",
    "    \"\"\"\n",
    "    v1_u = unit_vector(v1)\n",
    "    v2_u = unit_vector(v2)\n",
    "    return np.arccos(np.clip(np.dot(v1_u, v2_u), -1.0, 1.0))"
   ]
  },
  {
   "cell_type": "markdown",
   "metadata": {},
   "source": [
    "### Reads noisy image, denoised image and the corresponding csv file for tracklets to serve as GT"
   ]
  },
  {
   "cell_type": "code",
   "execution_count": 4,
   "metadata": {
    "scrolled": true
   },
   "outputs": [
    {
     "name": "stdout",
     "output_type": "stream",
     "text": [
      "Shape of stack: (101, 652, 473)\n"
     ]
    }
   ],
   "source": [
    "base_path = \"/Users/prakash/Downloads/Junction_Coupling_Analysis/MAX_20180525_LP823_hmr-1_sax-7_RNAi_05-02_e2-crop//\"\n",
    "denoised_image_file_name = base_path+'MAX_20180525_LP823_hmr-1_sax-7_RNAi_05-02_Myo_denoised_e2-crop.tif'\n",
    "csv_path = base_path+'MAX_20180525_LP823_hmr-1_sax-7_RNAi_05-02_e2-crop_tracklets.csv'\n",
    "denoised_image = imread(denoised_image_file_name)\n",
    "print('Shape of stack:', denoised_image.shape)\n",
    "if((denoised_image.ndim) == 4):\n",
    "    denoised_image = denoised_image[:,:,:,0]\n",
    "    print(denoised_image.shape)"
   ]
  },
  {
   "cell_type": "markdown",
   "metadata": {},
   "source": [
    "### Extract flow vectors from tracklets in csv file"
   ]
  },
  {
   "cell_type": "code",
   "execution_count": 5,
   "metadata": {},
   "outputs": [],
   "source": [
    "### Read the results csv file, delete all entries which are not coordinates and write it as a new csv file\n",
    "puncta = []\n",
    "edges = []\n",
    "with open(csv_path,\"r\") as source:\n",
    "    rdr= csv.reader( source )\n",
    "    next(rdr)\n",
    "    for line in source:\n",
    "        if(line.startswith(\"edgep1,edgep2\") ):\n",
    "            break\n",
    "        else:\n",
    "            puncta.append(line[:-1])\n",
    "\n",
    "edgeCount = False            \n",
    "with open(csv_path,\"r\") as source:\n",
    "    rdr= csv.reader( source )\n",
    "    next(rdr)\n",
    "    for line in source:\n",
    "        if(line.startswith(\"edgep1,edgep2\") ):\n",
    "            edgeCount = True\n",
    "        if(edgeCount):\n",
    "            edges.append(line[:-1])\n",
    "        "
   ]
  },
  {
   "cell_type": "code",
   "execution_count": 6,
   "metadata": {},
   "outputs": [],
   "source": [
    "modified_edges = []\n",
    "modified_puncta = []\n",
    "for edge in range(1, len(edges)):\n",
    "    modified_edges.append([float(edge) for edge in edges[edge].split(',')])\n",
    "for punctum in range(len(puncta)):\n",
    "    modified_puncta.append([float(punctum) for punctum in puncta[punctum].split(',')])"
   ]
  },
  {
   "cell_type": "code",
   "execution_count": 7,
   "metadata": {},
   "outputs": [],
   "source": [
    "flow_vectors_gt = []\n",
    "for edge in modified_edges:\n",
    "    id1 = edge[0]\n",
    "    id2 = edge[1]\n",
    "    puncta1 = modified_puncta[int(id1)]\n",
    "    puncta2 = modified_puncta[int(id2)]\n",
    "    time_diff = np.abs(puncta1[-1] - puncta2[-1])\n",
    "    if(puncta1[-1]<puncta2[-1] and time_diff ==1):\n",
    "        time = int(puncta1[-1])\n",
    "        x = puncta1[1]\n",
    "        y = puncta1[2]\n",
    "        u = puncta2[1] - puncta1[1]\n",
    "        v = puncta2[2] - puncta1[2]\n",
    "        \n",
    "    elif(puncta2[-1]<puncta1[-1] and time_diff ==1):\n",
    "        time = int(puncta2[-1])\n",
    "        x = puncta2[1]\n",
    "        y = puncta2[2]\n",
    "        u = puncta1[1] - puncta2[1]\n",
    "        v = puncta1[2] - puncta2[2]\n",
    "    elif(puncta2[-1]==puncta1[-1]):\n",
    "        continue\n",
    "    flow_vectors_gt.append((x,y,u,v,time))"
   ]
  },
  {
   "cell_type": "code",
   "execution_count": 8,
   "metadata": {},
   "outputs": [
    {
     "name": "stdout",
     "output_type": "stream",
     "text": [
      "no duplicates found!\n"
     ]
    }
   ],
   "source": [
    "if len(set(flow_vectors_gt)) == len(flow_vectors_gt):\n",
    "    print(\"no duplicates found!\")"
   ]
  },
  {
   "cell_type": "code",
   "execution_count": 9,
   "metadata": {},
   "outputs": [],
   "source": [
    "test_frac = int(len(flow_vectors_gt)*0.2)\n",
    "random.shuffle(flow_vectors_gt)\n",
    "test_set = flow_vectors_gt[0:test_frac]\n",
    "train_set = flow_vectors_gt[test_frac:]"
   ]
  },
  {
   "cell_type": "code",
   "execution_count": 10,
   "metadata": {},
   "outputs": [],
   "source": [
    "train_puncta = []\n",
    "train_edges = []\n",
    "iden = 0\n",
    "for i in range(len(train_set)):\n",
    "    x1 = train_set[i][0]\n",
    "    y1 = train_set[i][1]\n",
    "    time1 = int(train_set[i][4])\n",
    "    x2 = x1+ train_set[i][2]\n",
    "    y2 = y1+ train_set[i][3]\n",
    "    time2 = time1+1\n",
    "    computed_puncta1 = [iden, x1, y1, time1]\n",
    "    computed_puncta1 = ','.join(map(str, computed_puncta1)) \n",
    "    computed_puncta2 = [iden+1, x2, y2, time2]\n",
    "    computed_puncta2 = ','.join(map(str, computed_puncta2)) \n",
    "    train_puncta.append(computed_puncta1)\n",
    "    train_puncta.append(computed_puncta2)\n",
    "    iden+=2\n",
    "train_puncta.insert(0, \"id,x,y,t\")"
   ]
  },
  {
   "cell_type": "code",
   "execution_count": 11,
   "metadata": {},
   "outputs": [],
   "source": [
    "train_edges = []\n",
    "for i in range(0, len(train_puncta)-1, 2):\n",
    "    computed_edge = [i, i+1]\n",
    "    computed_edge = ','.join(map(str, computed_edge)) \n",
    "    train_edges.append(computed_edge)\n",
    "train_edges.insert(0, \"edgep1,edgep2\")\n",
    "full = [train_puncta, train_edges]\n",
    "a = []\n",
    "for x in full:\n",
    "    for y in x:\n",
    "        a.append(y)"
   ]
  },
  {
   "cell_type": "code",
   "execution_count": 12,
   "metadata": {},
   "outputs": [],
   "source": [
    "with open(base_path+ '/train_tracklets.csv', 'w') as myfile:\n",
    "    wr = csv.writer(myfile, quoting=csv.QUOTE_ALL,delimiter='\\n')\n",
    "    wr.writerow(a)"
   ]
  },
  {
   "cell_type": "code",
   "execution_count": 13,
   "metadata": {},
   "outputs": [],
   "source": [
    "np.savez(base_path+\"/test_set.npy\", test_set)\n",
    "# test_set = np.load(base_path+\"/test_set.npy\")"
   ]
  },
  {
   "cell_type": "markdown",
   "metadata": {},
   "source": [
    "Now execute the GUI flow and save the flow image. Load it below."
   ]
  },
  {
   "cell_type": "code",
   "execution_count": 14,
   "metadata": {},
   "outputs": [],
   "source": [
    "flow = imread(base_path + \"train_flow.tif\")"
   ]
  },
  {
   "cell_type": "markdown",
   "metadata": {},
   "source": [
    "# Comparison of automated GUI flow beofre denoising vs after denoising"
   ]
  },
  {
   "cell_type": "markdown",
   "metadata": {},
   "source": [
    "### Load flow images obtained from GUI for both denoised and noisy images"
   ]
  },
  {
   "cell_type": "markdown",
   "metadata": {},
   "source": [
    "#### Extract GT flow vectors and computed flow vectors"
   ]
  },
  {
   "cell_type": "code",
   "execution_count": 15,
   "metadata": {},
   "outputs": [],
   "source": [
    "flow_vectors_computed = []\n",
    "for vec in range(len(test_set)):\n",
    "    int_x = round(test_set[vec][0])\n",
    "    int_y = round(test_set[vec][1])\n",
    "    time = test_set[vec][4]\n",
    "    computed_u = flow[time][int_y][int_x]\n",
    "    computed_v = flow[time+1][int_y][int_x]\n",
    "    flow_vectors_computed.append((int_x, int_y, computed_u, computed_v, time))"
   ]
  },
  {
   "cell_type": "code",
   "execution_count": 16,
   "metadata": {},
   "outputs": [],
   "source": [
    "final_coordinates_gt = []\n",
    "final_coordinates_computed = []\n",
    "initial_coordinates = []\n",
    "for i in range(len(test_set)):\n",
    "    \n",
    "    final_coordinates_gt.append((test_set[i][0]+test_set[i][2], test_set[i][1]+test_set[i][3]))\n",
    "    final_coordinates_computed.append((flow_vectors_computed[i][0]+flow_vectors_computed[i][2], flow_vectors_computed[i][1]+flow_vectors_computed[i][3]))\n",
    "    initial_coordinates.append((test_set[i][0],test_set[i][1]))"
   ]
  },
  {
   "cell_type": "code",
   "execution_count": 17,
   "metadata": {},
   "outputs": [],
   "source": [
    "lag_ = []\n",
    "lag_rel_ = []\n",
    "angle_ = []\n",
    "for i in range(len(flow_vectors_computed)):\n",
    "    u = flow_vectors_computed[i][2]\n",
    "    v = flow_vectors_computed[i][3]\n",
    "    u0 = train_set[i][2]\n",
    "    v0 = train_set[i][3]\n",
    "    len_vec=(u**2+v**2)**0.5\n",
    "    len_vec0=(u0**2+v0**2)**0.5\n",
    "\n",
    "    angle=angle_between((final_coordinates_computed[i]),( final_coordinates_gt[i]))*180/math.pi\n",
    "\n",
    "    lag=len_vec-len_vec0\n",
    "    \n",
    "    lag_rel = (lag/len_vec0)*100\n",
    "    lag_.append(lag)\n",
    "    lag_rel_.append(lag_rel)\n",
    "    \n",
    "    angle_.append(angle)"
   ]
  },
  {
   "cell_type": "code",
   "execution_count": 18,
   "metadata": {},
   "outputs": [
    {
     "name": "stdout",
     "output_type": "stream",
     "text": [
      "-20.08475851126038 0.24551265270520953\n"
     ]
    }
   ],
   "source": [
    "print(np.median(lag_rel_), np.median(angle_))"
   ]
  },
  {
   "cell_type": "code",
   "execution_count": 19,
   "metadata": {
    "scrolled": true
   },
   "outputs": [
    {
     "data": {
      "image/png": "[encoded data removed]",
      "text/plain": [
       "<Figure size 432x288 with 1 Axes>"
      ]
     },
     "metadata": {},
     "output_type": "display_data"
    }
   ],
   "source": [
    "plt.hist(lag_rel_, bins=range(0,200,10), histtype='bar', color='gray', ec='black')\n",
    "plt.xlabel('Distance lag in pixels',fontsize=25)\n",
    "plt.ylabel('Number of points',fontsize=25)\n",
    "plt.xticks(fontsize = 10) \n",
    "plt.yticks(fontsize = 10)\n",
    "plt.show()"
   ]
  },
  {
   "cell_type": "code",
   "execution_count": 20,
   "metadata": {},
   "outputs": [
    {
     "data": {
      "image/png": "[encoded data removed]",
      "text/plain": [
       "<Figure size 432x288 with 1 Axes>"
      ]
     },
     "metadata": {},
     "output_type": "display_data"
    }
   ],
   "source": [
    "plt.hist(angle_, bins=range(0,180,5), histtype='bar', color='gray', ec='black')\n",
    "plt.xlabel('Angle lag in degrees',fontsize=25)\n",
    "plt.ylabel('Number of points',fontsize=25)\n",
    "plt.xticks(fontsize = 10) \n",
    "plt.yticks(fontsize = 10)\n",
    "plt.show()"
   ]
  },
  {
   "cell_type": "code",
   "execution_count": null,
   "metadata": {},
   "outputs": [],
   "source": []
  },
  {
   "cell_type": "code",
   "execution_count": 21,
   "metadata": {},
   "outputs": [
    {
     "name": "stdout",
     "output_type": "stream",
     "text": [
      "..................................................................................................... ...done!\n"
     ]
    }
   ],
   "source": [
    "flows = bsu.compute_flow( denoised_image )\n",
    "flow_x, flow_y = bsu.split_flow_components( flows )\n",
    "avg_flow_x = bsu.flow_average(flow_x, 1)\n",
    "avg_flow_y = bsu.flow_average(flow_y, 1)\n",
    "total_avg_flow_x = np.average(flow_x, axis=0)\n",
    "total_avg_flow_y = np.average(flow_y, axis=0)"
   ]
  },
  {
   "cell_type": "code",
   "execution_count": 22,
   "metadata": {},
   "outputs": [],
   "source": [
    "# imsave(base_path + \"OF_x.tif\", avg_flow_x)\n",
    "# imsave(base_path + \"OF_y.tif\", avg_flow_y)"
   ]
  },
  {
   "cell_type": "code",
   "execution_count": 23,
   "metadata": {},
   "outputs": [],
   "source": [
    "flow_vectors_computed = []\n",
    "for vec in range(len(test_set)):\n",
    "    int_x = round(test_set[vec][0])\n",
    "    int_y = round(test_set[vec][1])\n",
    "    time = test_set[vec][4]\n",
    "    computed_u = avg_flow_x[time][int_y][int_x]\n",
    "    computed_v = avg_flow_y[time][int_y][int_x]\n",
    "    flow_vectors_computed.append((int_x, int_y, computed_u, computed_v, time))"
   ]
  },
  {
   "cell_type": "code",
   "execution_count": 24,
   "metadata": {},
   "outputs": [],
   "source": [
    "final_coordinates_gt = []\n",
    "final_coordinates_computed = []\n",
    "initial_coordinates = []\n",
    "for i in range(len(test_set)):\n",
    "    \n",
    "    final_coordinates_gt.append((test_set[i][0]+test_set[i][2], test_set[i][1]+test_set[i][3]))\n",
    "    final_coordinates_computed.append((flow_vectors_computed[i][0]+flow_vectors_computed[i][2], flow_vectors_computed[i][1]+flow_vectors_computed[i][3]))\n",
    "    initial_coordinates.append((test_set[i][0],test_set[i][1]))"
   ]
  },
  {
   "cell_type": "code",
   "execution_count": 25,
   "metadata": {},
   "outputs": [],
   "source": [
    "lag_ = []\n",
    "lag_rel_ = []\n",
    "angle_ = []\n",
    "for i in range(len(flow_vectors_computed)):\n",
    "    u = flow_vectors_computed[i][2]\n",
    "    v = flow_vectors_computed[i][3]\n",
    "    u0 = test_set[i][2]\n",
    "    v0 = test_set[i][3]\n",
    "    len_vec=(u**2+v**2)**0.5\n",
    "    len_vec0=(u0**2+v0**2)**0.5\n",
    "\n",
    "    angle=angle_between((final_coordinates_computed[i]),( final_coordinates_gt[i]))*180/math.pi\n",
    "    \n",
    "    lag=len_vec-len_vec0\n",
    "    \n",
    "    lag_rel = (lag/len_vec0)*100\n",
    "    lag_.append(lag)\n",
    "    lag_rel_.append(lag_rel)\n",
    "    \n",
    "    angle_.append(angle)"
   ]
  },
  {
   "cell_type": "code",
   "execution_count": 26,
   "metadata": {},
   "outputs": [
    {
     "name": "stdout",
     "output_type": "stream",
     "text": [
      "-31.841117198564493 0.1198538462540307\n"
     ]
    }
   ],
   "source": [
    "print(np.median(lag_rel_), np.median(angle_))"
   ]
  },
  {
   "cell_type": "code",
   "execution_count": 27,
   "metadata": {},
   "outputs": [
    {
     "data": {
      "image/png": "[encoded data removed]",
      "text/plain": [
       "<Figure size 432x288 with 1 Axes>"
      ]
     },
     "metadata": {},
     "output_type": "display_data"
    }
   ],
   "source": [
    "plt.hist(lag_rel_, bins=range(0,200,10), histtype='bar', color='gray', ec='black')\n",
    "plt.xlabel('Distance lag in pixels',fontsize=25)\n",
    "plt.ylabel('Number of points',fontsize=25)\n",
    "plt.xticks(fontsize = 10) \n",
    "plt.yticks(fontsize = 10)\n",
    "plt.show()"
   ]
  },
  {
   "cell_type": "code",
   "execution_count": 28,
   "metadata": {},
   "outputs": [
    {
     "data": {
      "image/png": "[encoded data removed]",
      "text/plain": [
       "<Figure size 432x288 with 1 Axes>"
      ]
     },
     "metadata": {},
     "output_type": "display_data"
    }
   ],
   "source": [
    "plt.hist(angle_, bins=range(0,180,10), histtype='bar', color='gray', ec='black')\n",
    "plt.xlabel('Angle lag in degrees',fontsize=25)\n",
    "plt.ylabel('Number of points',fontsize=25)\n",
    "plt.xticks(fontsize = 10) \n",
    "plt.yticks(fontsize = 10)\n",
    "plt.show()"
   ]
  },
  {
   "cell_type": "markdown",
   "metadata": {},
   "source": [
    "### Export computed tracklets for visulaization in GUI"
   ]
  },
  {
   "cell_type": "code",
   "execution_count": 29,
   "metadata": {},
   "outputs": [],
   "source": [
    "iden = 0\n",
    "visulaizatiuon_puncta = []\n",
    "for i in range(len(flow_vectors_gt)):\n",
    "    \n",
    "    x1 = flow_vectors_gt[i][0]\n",
    "    y1 = flow_vectors_gt[i][1]\n",
    "    time1 = int(flow_vectors_gt[i][4])\n",
    "    x2 = final_coordinates_computed[i][0]\n",
    "    y2 = final_coordinates_computed[i][1]\n",
    "    time2 = time1+1\n",
    "    computed_puncta1 = [iden, x1, y1, time1]\n",
    "    computed_puncta1 = ','.join(map(str, computed_puncta1)) \n",
    "    computed_puncta2 = [iden+1, x2, y2, time2]\n",
    "    computed_puncta2 = ','.join(map(str, computed_puncta2)) \n",
    "    visulaizatiuon_puncta.append(computed_puncta1)\n",
    "    visulaizatiuon_puncta.append(computed_puncta2)\n",
    "    iden+=2\n",
    "visulaizatiuon_puncta.insert(0, \"id,x,y,t\")"
   ]
  },
  {
   "cell_type": "code",
   "execution_count": 30,
   "metadata": {},
   "outputs": [],
   "source": [
    "visualization_edges = []\n",
    "for i in range(0, len(visulaizatiuon_puncta), 2):\n",
    "    computed_edge = [i, i+1]\n",
    "    computed_edge = ','.join(map(str, computed_edge)) \n",
    "    visualization_edges.append(computed_edge)\n",
    "visualization_edges.insert(0, \"edgep1,edgep2\")\n",
    "full = [visulaizatiuon_puncta, visualization_edges]\n",
    "a = []\n",
    "for x in full:\n",
    "    for y in x:\n",
    "        a.append(y)"
   ]
  },
  {
   "cell_type": "code",
   "execution_count": 31,
   "metadata": {},
   "outputs": [],
   "source": [
    "with open(base_path+ '/OF_visualization_tracklets.csv', 'w') as myfile:\n",
    "    wr = csv.writer(myfile, quoting=csv.QUOTE_ALL,delimiter='\\n')\n",
    "    wr.writerow(a)"
   ]
  },
  {
   "cell_type": "code",
   "execution_count": null,
   "metadata": {},
   "outputs": [],
   "source": []
  }
 ],
 "metadata": {
  "kernelspec": {
   "display_name": "Python [default]",
   "language": "python",
   "name": "python3"
  },
  "language_info": {
   "codemirror_mode": {
    "name": "ipython",
    "version": 3
   },
   "file_extension": ".py",
   "mimetype": "text/x-python",
   "name": "python",
   "nbconvert_exporter": "python",
   "pygments_lexer": "ipython3",
   "version": "3.5.5"
  }
 },
 "nbformat": 4,
 "nbformat_minor": 2
}
