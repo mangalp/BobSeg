{
 "cells": [
  {
   "cell_type": "code",
   "execution_count": 1,
   "metadata": {},
   "outputs": [],
   "source": [
    "import numpy as np\n",
    "from tifffile import imread, imsave"
   ]
  },
  {
   "cell_type": "code",
   "execution_count": 2,
   "metadata": {},
   "outputs": [],
   "source": [
    "def norm_minmax(x):\n",
    "    '''\n",
    "    min-max normalization of image stack \n",
    "    x: unnormalized image stack\n",
    "    '''\n",
    "    mi = np.min(x)\n",
    "    ma = np.max(x)\n",
    "    return (1. * x - mi) / (ma - mi)"
   ]
  },
  {
   "cell_type": "code",
   "execution_count": 3,
   "metadata": {},
   "outputs": [],
   "source": [
    "fn_membrane = '/Users/prakash/Desktop/Bob_Segmentation/new/membrane.tif' # Path to unnormalized membrane image\n",
    "segchannel = imread(fn_membrane)"
   ]
  },
  {
   "cell_type": "code",
   "execution_count": 4,
   "metadata": {},
   "outputs": [],
   "source": [
    "X = []\n",
    "for img in range(segchannel.shape[0]):\n",
    "    normalized = norm_minmax(segchannel[img])\n",
    "    normalized = normalized.astype(np.float32)\n",
    "    X.append(normalized)\n",
    "    imsave('/Users/prakash/Desktop/normalized.tif', np.array(X))"
   ]
  },
  {
   "cell_type": "code",
   "execution_count": null,
   "metadata": {},
   "outputs": [],
   "source": []
  }
 ],
 "metadata": {
  "kernelspec": {
   "display_name": "Python [conda env:py35forBobSeg]",
   "language": "python",
   "name": "conda-env-py35forBobSeg-py"
  },
  "language_info": {
   "codemirror_mode": {
    "name": "ipython",
    "version": 3
   },
   "file_extension": ".py",
   "mimetype": "text/x-python",
   "name": "python",
   "nbconvert_exporter": "python",
   "pygments_lexer": "ipython3",
   "version": "3.5.5"
  }
 },
 "nbformat": 4,
 "nbformat_minor": 2
}
