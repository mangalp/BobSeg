{
 "cells": [
  {
   "cell_type": "code",
   "execution_count": 1,
   "metadata": {},
   "outputs": [
    {
     "name": "stdout",
     "output_type": "stream",
     "text": [
      "Populating the interactive namespace from numpy and matplotlib\n"
     ]
    },
    {
     "name": "stderr",
     "output_type": "stream",
     "text": [
      "/anaconda3/lib/python3.7/site-packages/IPython/core/magics/pylab.py:160: UserWarning: pylab import has clobbered these variables: ['copy']\n",
      "`%matplotlib` prevents importing * from pylab and numpy\n",
      "  \"\\n`%matplotlib` prevents importing * from pylab and numpy\"\n"
     ]
    }
   ],
   "source": [
    "import time\n",
    "import copy\n",
    "import numpy as np\n",
    "from skimage.filters import gaussian\n",
    "import cv2 \n",
    "import os\n",
    "import csv\n",
    "import xlsxwriter\n",
    "\n",
    "import matplotlib.pyplot as plt\n",
    "import pylab as pl\n",
    "\n",
    "%matplotlib inline\n",
    "%pylab inline\n",
    "pylab.rcParams['figure.figsize'] = (15, 10)\n",
    "\n",
    "from tifffile import imread, imsave\n",
    "import pickle\n",
    "\n",
    "%reload_ext autoreload\n",
    "%autoreload 2\n",
    "\n",
    "from netsurface2d import NetSurf2d\n",
    "from netsurface2dt import NetSurf2dt\n",
    "from data3d import Data3d\n",
    "import bresenham as bham\n",
    "import bobsegutils as bsu\n",
    "import new_utils as newutils\n",
    "\n",
    "from shapely import geometry\n",
    "from shapely.geometry import Point\n",
    "from shapely.geometry.polygon import Polygon\n",
    "from descartes.patch import PolygonPatch\n",
    "\n",
    "from scipy.interpolate import griddata\n",
    "\n",
    "from scipy.stats.stats import pearsonr\n",
    "from scipy.stats.stats import kendalltau\n",
    "from scipy import ndimage\n",
    "\n",
    "from glob import glob\n",
    "from skimage.measure import regionprops\n",
    "from skimage.segmentation import find_boundaries\n",
    "from scipy import spatial\n",
    "\n",
    "from matplotlib.collections import PatchCollection\n",
    "from matplotlib.patches import Ellipse\n",
    "from matplotlib.patches import Polygon\n",
    "from scipy.ndimage.morphology import binary_fill_holes, binary_closing\n",
    "from skimage.measure import label as lb"
   ]
  },
  {
   "cell_type": "code",
   "execution_count": 2,
   "metadata": {},
   "outputs": [],
   "source": [
    "def plot_result( obj, frame, ax, imagedata=None ):\n",
    "    if imagedata is None:\n",
    "        ax.imshow(images[frame], plt.get_cmap('gray'))\n",
    "    else:\n",
    "        ax.imshow(imagedata[frame], plt.get_cmap('gray'))\n",
    "\n",
    "    for oid in range(len(objects)):\n",
    "        patches = [] # collects patches to be plotted\n",
    "        surface = sampled_coords[obj][frame]\n",
    "        polygon = Polygon(surface, True)\n",
    "        patches.append(polygon)\n",
    "        a = 0.2 + (float(oid)/len(objects))*0.6\n",
    "        p = PatchCollection(patches, cmap=matplotlib.cm.jet, alpha=a, color='green')\n",
    "        ax.add_collection(p)"
   ]
  },
  {
   "cell_type": "code",
   "execution_count": 3,
   "metadata": {},
   "outputs": [],
   "source": [
    "def plot_coords(ax, poly, c, style='.-', alpha=.5):\n",
    "    x, y = poly.xy\n",
    "    ax.plot(x, y, style, color=c, alpha=alpha, zorder=1)"
   ]
  },
  {
   "cell_type": "markdown",
   "metadata": {},
   "source": [
    "<hr>"
   ]
  },
  {
   "cell_type": "markdown",
   "metadata": {},
   "source": [
    "# Parameters"
   ]
  },
  {
   "cell_type": "markdown",
   "metadata": {},
   "source": [
    "### Add the base path of the movies to be analyzed. It should contain\n",
    "1) myosin channel with the name containing 'myosin' or 'Myosin'. <br>\n",
    "2) membrane channel with the name containing 'membrane' or 'Membrane'.<br>\n",
    "3) computed flow from GUI with the name containing 'flow' or 'Flow'.<br>\n",
    "4) Labkit curated segmentation with the name containing 'labkit' or 'Labkit'<br>\n",
    "\n",
    "*Very important:* The words myosin/membrane/flow/labkit should not be present in the file names except the corresponding file"
   ]
  },
  {
   "cell_type": "code",
   "execution_count": 4,
   "metadata": {},
   "outputs": [],
   "source": [
    "base_path = '/Users/markslabodnick/Dropbox/Junction_Coupling_Analysis/MAX_20180604_LP823_Control-03-05/'"
   ]
  },
  {
   "cell_type": "markdown",
   "metadata": {},
   "source": [
    "### Set all required parameters"
   ]
  },
  {
   "cell_type": "markdown",
   "metadata": {},
   "source": [
    "Segmentation parameters:"
   ]
  },
  {
   "cell_type": "code",
   "execution_count": 5,
   "metadata": {},
   "outputs": [],
   "source": [
    "seg_filter_size = 700 # Segmentations below this size will be filtered out \n",
    "Ea_centroid_this_frame = (328, 151) # Centroild of Ea cell for first time point\n",
    "Ep_centroid_this_frame = (405, 200) # Centroild of Ep cell for first time point\n",
    "min_radius = [(1,1), (1,1)] # Minimum radius from centroid from where the spyder legs should be drawn\n",
    "max_radius = [(150,150), (100, 100)] # Maximum radius from centroid upto where the spyder legs should be drawn\n",
    "num_columns = 150 # Number of spyder legs"
   ]
  },
  {
   "cell_type": "markdown",
   "metadata": {},
   "source": [
    "Flow parameters:"
   ]
  },
  {
   "cell_type": "code",
   "execution_count": 6,
   "metadata": {},
   "outputs": [],
   "source": [
    "annulus_outer_factor = .99 # The outer annulus as fraction of membarnbe segmentation for considering flows in this region\n",
    "annulus_inner_factor = .4 # The inner annulus as fraction of membarnbe segmentation for considering flows in this region"
   ]
  },
  {
   "cell_type": "markdown",
   "metadata": {},
   "source": [
    "Number crunching and plotting parameters:"
   ]
  },
  {
   "cell_type": "code",
   "execution_count": 7,
   "metadata": {},
   "outputs": [],
   "source": [
    "use_EaEp_border_spyderlegs = False # If False, do not consider vectors on shared membrane between Ea and Ep for analysis. Consider all vectors if True\n",
    "\n",
    "Ea_background_border = True # If False, do not consider vectors on shared membrane between Ea and Ep for analysis. Consider all vectors if True\n",
    "use_Ea_background_spyderlegs = False\n",
    "\n",
    "Ep_background_border = True\n",
    "use_Ep_background_spyderlegs = False\n",
    "\n",
    "pixel_to_micron = 0.075962 # Microns per pixel\n",
    "delta_t = 34.3/60 # Time between membrane acquistion\n",
    "quiver_vector_scale = 200 # Number of data units per arrow length unit, e.g., m/s per plot width; a smaller scale parameter makes the arrow longer."
   ]
  },
  {
   "cell_type": "markdown",
   "metadata": {},
   "source": [
    "<hr>"
   ]
  },
  {
   "cell_type": "markdown",
   "metadata": {},
   "source": [
    "# Processing"
   ]
  },
  {
   "cell_type": "markdown",
   "metadata": {},
   "source": [
    "## Start reading filenames from input folder (defined above)"
   ]
  },
  {
   "cell_type": "code",
   "execution_count": 8,
   "metadata": {},
   "outputs": [],
   "source": [
    "for file in os.listdir(base_path):\n",
    "    if 'Membrane' in file or 'membrane' in file:\n",
    "        fn_membrane = base_path + file\n",
    "    if 'Myosin' in file or 'myosin' in file:\n",
    "        fn_myosin = base_path + file\n",
    "    if 'Flow' in file or 'flow' in file:\n",
    "        fn_flow = base_path + file\n",
    "    if 'Labkit' in file or 'labkit' in file:\n",
    "        corrected_seg = base_path + file"
   ]
  },
  {
   "cell_type": "code",
   "execution_count": 9,
   "metadata": {},
   "outputs": [
    {
     "name": "stdout",
     "output_type": "stream",
     "text": [
      "6\n",
      "Tempres factor: 6\n",
      "Shape of membrane channel : (11, 576, 489)\n",
      "Shape of flow channel: (60, 576, 489)\n"
     ]
    }
   ],
   "source": [
    "segchannel = imread(fn_membrane)\n",
    "flowchannel = imread(fn_myosin)\n",
    "\n",
    "sigma = [0.,2,2]\n",
    "segchannel_smooth = segchannel\n",
    "segchannel_smooth = gaussian(segchannel,sigma)\n",
    "flowchannel_smooth = gaussian(flowchannel,[0.,1,1])\n",
    "\n",
    "gradientimage = segchannel_smooth\n",
    "\n",
    "T = len(segchannel)-1  # number of time-points (last one is superfluous)\n",
    "tempres_factor = int(len(flowchannel)/T)\n",
    "print(tempres_factor)\n",
    "\n",
    "if len(flowchannel)%T != 0:\n",
    "    raise 'Tempres problem: please check imported data!'\n",
    "else:\n",
    "    print ('Tempres factor: %s'%tempres_factor)\n",
    "\n",
    "print('Shape of membrane channel :', segchannel.shape)\n",
    "print('Shape of flow channel:', flowchannel.shape)"
   ]
  },
  {
   "cell_type": "markdown",
   "metadata": {},
   "source": [
    "### Sanity check: is the loaded data correct?"
   ]
  },
  {
   "cell_type": "code",
   "execution_count": 10,
   "metadata": {},
   "outputs": [
    {
     "data": {
      "text/plain": [
       "<matplotlib.image.AxesImage at 0x1c251e0438>"
      ]
     },
     "execution_count": 10,
     "metadata": {},
     "output_type": "execute_result"
    },
    {
     "data": {
      "image/png": "[encoded data removed]",
      "text/plain": [
       "<Figure size 1152x576 with 6 Axes>"
      ]
     },
     "metadata": {
      "needs_background": "light"
     },
     "output_type": "display_data"
    }
   ],
   "source": [
    "pylab.rcParams['figure.figsize'] = (16, 8)\n",
    "fig = plt.figure()\n",
    "fig.suptitle('image channels and gradientimage for t=0 and t=-1', fontsize=16)\n",
    "ax = fig.add_subplot(231)\n",
    "ax.imshow(segchannel[0], plt.get_cmap('gray'))\n",
    "ax = fig.add_subplot(232)\n",
    "ax.imshow(flowchannel[0], plt.get_cmap('gray'))\n",
    "ax = fig.add_subplot(233)\n",
    "ax.imshow(gradientimage[0], plt.get_cmap('gray'))\n",
    "ax = fig.add_subplot(234)\n",
    "ax.imshow(segchannel[-1], plt.get_cmap('gray'))\n",
    "ax = fig.add_subplot(235)\n",
    "ax.imshow(flowchannel[-1], plt.get_cmap('gray'))\n",
    "ax = fig.add_subplot(236)\n",
    "ax.imshow(gradientimage[-1], plt.get_cmap('gray'))\n",
    "# fig.tight_layout()"
   ]
  },
  {
   "cell_type": "markdown",
   "metadata": {},
   "source": [
    "# Cell segmentation and postprocessing"
   ]
  },
  {
   "cell_type": "markdown",
   "metadata": {},
   "source": [
    "Load Labkit segmented images. The only consideration is that the segmentation should have closed(connected) components for Ea and Ep cells (or any other cell of interest). The segmented image should have different values for pixels belonging to cell, membrane and background. \n",
    "Labkit procedure: Use foreground label for membrane, background label for background and another label for cell interior. This specific label selection is important as it gives a particular label number to the segmented images which is used later in this notebook."
   ]
  },
  {
   "cell_type": "code",
   "execution_count": 11,
   "metadata": {
    "scrolled": true
   },
   "outputs": [],
   "source": [
    "curated = imread(corrected_seg) # expects only connected components, with cell 0 and membrane and background 1\n",
    "# curated = binary_fill_holes(curated)"
   ]
  },
  {
   "cell_type": "markdown",
   "metadata": {},
   "source": [
    "The cell below identifies the label of the membrane in the Labkit edited images for using while computing statistics"
   ]
  },
  {
   "cell_type": "code",
   "execution_count": 12,
   "metadata": {},
   "outputs": [
    {
     "name": "stdout",
     "output_type": "stream",
     "text": [
      "[(4, 56934), (5, 103222), (6, 121508)]\n",
      "Foreground label in Labkit curated images: 4\n"
     ]
    }
   ],
   "source": [
    "y = np.bincount(curated[0].ravel())\n",
    "ii = np.nonzero(y)[0]\n",
    "a = list(zip(ii,y[ii]))\n",
    "print(a)\n",
    "min_num_pixels = 1000000000000000000000\n",
    "fg_label = None\n",
    "for pair in range(len(a)):\n",
    "    num_pixels = a[pair][1]\n",
    "    if(num_pixels<min_num_pixels):\n",
    "        min_num_pixels = num_pixels\n",
    "        fg_label = a[pair][0]\n",
    "print(\"Foreground label in Labkit curated images:\", fg_label)"
   ]
  },
  {
   "cell_type": "code",
   "execution_count": null,
   "metadata": {},
   "outputs": [
    {
     "data": {
      "image/png": "[encoded data removed]",
      "text/plain": [
       "<Figure size 1152x576 with 1 Axes>"
      ]
     },
     "metadata": {
      "needs_background": "light"
     },
     "output_type": "display_data"
    }
   ],
   "source": [
    "label_images_per_frame = []\n",
    "for i in range(0,curated.shape[0]):\n",
    "    labels_per_frame = lb(curated[i])\n",
    "    label_size = []\n",
    "    label_ids = []\n",
    "    regions = regionprops(labels_per_frame)\n",
    "    for props in regions:\n",
    "        label_ids.append(props.label)\n",
    "        label_size.append(props.area)\n",
    "        for label_number in range(0, len(label_ids)): \n",
    "            if label_size[label_number] < seg_filter_size : # Filtering out components smaller than 1000 pixels area\n",
    "                labels_per_frame[ labels_per_frame == label_ids[label_number] ] = fg_label\n",
    "    \n",
    "    label_images_per_frame.append(labels_per_frame)\n",
    "#     imsave(base_path+\"/temp/Label\"+str(i)+\".tif\", labels_per_frame)\n",
    "    plt.imshow(labels_per_frame)\n",
    "    plt.show()"
   ]
  },
  {
   "cell_type": "code",
   "execution_count": null,
   "metadata": {},
   "outputs": [],
   "source": [
    "bg_label = labels_per_frame[0,0] # The assumption is that the pixel at (0,0) is always background\n",
    "#Seems to be the case in all the images that I have seen\n",
    "#The background label from labeled images after doing connected components with regionprops, different from labkit labels"
   ]
  },
  {
   "cell_type": "code",
   "execution_count": null,
   "metadata": {
    "scrolled": false
   },
   "outputs": [],
   "source": [
    "data = Data3d( gradientimage, pixelsize=(1.,1.), silent=True )\n",
    "objects = []\n",
    "seeds = []"
   ]
  },
  {
   "cell_type": "markdown",
   "metadata": {},
   "source": [
    "Add the identity(name) and approximate centroids of the cells of interest below. "
   ]
  },
  {
   "cell_type": "code",
   "execution_count": null,
   "metadata": {},
   "outputs": [],
   "source": [
    "cell_Ea = data.init_object(\"Ea\")\n",
    "objects.append(cell_Ea)\n",
    "seeds.append(Ea_centroid_this_frame)"
   ]
  },
  {
   "cell_type": "code",
   "execution_count": null,
   "metadata": {},
   "outputs": [],
   "source": [
    "cell_Ep = data.init_object(\"Ep\")\n",
    "objects.append(cell_Ep)\n",
    "seeds.append(Ep_centroid_this_frame)"
   ]
  },
  {
   "cell_type": "markdown",
   "metadata": {},
   "source": [
    "The cell below extracts the coordianets of all the pixels on the membrane of the cells of interest"
   ]
  },
  {
   "cell_type": "code",
   "execution_count": null,
   "metadata": {},
   "outputs": [],
   "source": [
    "unsampled_surface_coords = {}\n",
    "query_centroids = {}\n",
    "queried_labels = {}\n",
    "\n",
    "for obj in range(len(objects)):\n",
    "    \n",
    "    seed = seeds[obj]\n",
    "    object_centroids = []\n",
    "    unsampled_surface_coords_per_object = []\n",
    "    queried_labels_per_object = []\n",
    "    \n",
    "    for frame in range(0, curated.shape[0]):\n",
    "        all_centroids_per_frame = []\n",
    "        label_per_frame = []\n",
    "        regions = regionprops(label_images_per_frame[frame])\n",
    "        for props in regions:\n",
    "            all_centroids_per_frame.append(props.centroid)\n",
    "            label_per_frame.append(props.label)\n",
    "        distance,index = spatial.KDTree(all_centroids_per_frame).query(seed)\n",
    "        label_boundaries_per_frame = find_boundaries(label_images_per_frame[frame] == label_per_frame[index])\n",
    "        surface_coord_per_frame = np.column_stack(np.where(label_boundaries_per_frame))\n",
    "        surface_coord_per_frame = surface_coord_per_frame.tolist()\n",
    "        surface_coord_per_frame = [tuple(l) for l in surface_coord_per_frame]\n",
    "\n",
    "        unsampled_surface_coords_per_object.append(surface_coord_per_frame)\n",
    "\n",
    "        seed = all_centroids_per_frame[index]\n",
    "        \n",
    "        object_centroids.append(seed)\n",
    "        queried_labels_per_object.append(label_per_frame[index])\n",
    "    \n",
    "    \n",
    "    unsampled_surface_coords[obj] = unsampled_surface_coords_per_object\n",
    "    query_centroids[obj] = object_centroids\n",
    "    queried_labels[obj] = queried_labels_per_object"
   ]
  },
  {
   "cell_type": "code",
   "execution_count": null,
   "metadata": {
    "scrolled": false
   },
   "outputs": [],
   "source": [
    "queried_labels # Just for sanity check\n"
   ]
  },
  {
   "cell_type": "markdown",
   "metadata": {},
   "source": [
    "*Note:* unsampled_surface_coords is inverted in x,y"
   ]
  },
  {
   "cell_type": "code",
   "execution_count": null,
   "metadata": {},
   "outputs": [],
   "source": [
    "col_vectors = newutils.sample_circle( num_columns )"
   ]
  },
  {
   "cell_type": "code",
   "execution_count": null,
   "metadata": {},
   "outputs": [],
   "source": [
    "# query_centroids[0][9] = (350, 220)\n",
    "# query_centroids[0][10] = (350, 225)\n",
    "\n",
    "# query_centroids[1][6] = (307, 226)\n",
    "# query_centroids[1][7] = (303, 247)\n",
    "# query_centroids[1][8] = (304, 241)\n",
    "# query_centroids[1][9] = (309, 223)"
   ]
  },
  {
   "cell_type": "markdown",
   "metadata": {},
   "source": [
    "**Note:** Execute the cell above only in case the cell below throws an error!\n",
    "\n",
    "This happens only if the center of mass of the segmented cell lies outside itself..."
   ]
  },
  {
   "cell_type": "code",
   "execution_count": null,
   "metadata": {},
   "outputs": [],
   "source": [
    "sampled_coords = {} #key: object_id, \n",
    "# value: dictionary with key: time, value: list of lists (coordinate matches along column with segmentation)\n",
    "#Inner list is matches along each column id \n",
    "EaEp_boundary_column = {}\n",
    "background_boundary_column = {}\n",
    "\n",
    "for ob in range(len(objects)):\n",
    "    sampled_coords[ob], EaEp_boundary_column [ob], background_boundary_column[ob] = newutils.get_coords(ob, curated.shape[0], num_columns,\n",
    "                                                    query_centroids, col_vectors, min_radius, max_radius, \n",
    "                                                    label_images_per_frame, queried_labels, \n",
    "                                                    Ea_background_border, Ep_background_border, bg_label)"
   ]
  },
  {
   "cell_type": "markdown",
   "metadata": {},
   "source": [
    "### Sanity check: is data segmented well?"
   ]
  },
  {
   "cell_type": "code",
   "execution_count": null,
   "metadata": {},
   "outputs": [],
   "source": [
    "pylab.rcParams['figure.figsize'] = (16, 10)\n",
    "for frame in range(0,len(data.images)):\n",
    "    fig = plt.figure()\n",
    "    ax = plt.subplot(131)\n",
    "    ax.set_title('raw')\n",
    "    ax.imshow( segchannel_smooth[frame] )  \n",
    "    ax = plt.subplot(132)\n",
    "    ax.set_title('Ea')\n",
    "    plot_result( 0, frame, ax, segchannel_smooth )  \n",
    "    ax = plt.subplot(133)\n",
    "    ax.set_title('Ep')\n",
    "    plot_result( 1, frame, ax, segchannel_smooth )\n",
    "    fig.tight_layout()"
   ]
  },
  {
   "cell_type": "markdown",
   "metadata": {},
   "source": [
    "# Flow computation (taking higher frame-rate into account)"
   ]
  },
  {
   "cell_type": "code",
   "execution_count": null,
   "metadata": {},
   "outputs": [],
   "source": [
    "flows = imread(fn_flow) # Load the flow image stack saved from GUI\n",
    "print(np.argwhere(np.isnan(flows)))\n",
    "\n",
    "mask = np.isnan(flows)\n",
    "flows[mask] = np.interp(np.flatnonzero(mask), np.flatnonzero(~mask), flows[~mask])"
   ]
  },
  {
   "cell_type": "code",
   "execution_count": null,
   "metadata": {},
   "outputs": [],
   "source": [
    "flow_x = []\n",
    "flow_y = []\n",
    "for i in range(0,flows.shape[0],2):\n",
    "    singleflow_x = flows[i]\n",
    "    singleflow_y = flows[i+1]\n",
    "    flow_x.append(singleflow_x)\n",
    "    flow_y.append(singleflow_y)\n",
    "\n",
    "flow_x = np.array(flow_x)\n",
    "flow_y = np.array(flow_y)"
   ]
  },
  {
   "cell_type": "code",
   "execution_count": null,
   "metadata": {},
   "outputs": [],
   "source": [
    "avg_flow_x = bsu.flow_merge_frames(flow_x, tempres_factor)\n",
    "avg_flow_y = bsu.flow_merge_frames(flow_y, tempres_factor)\n",
    "total_avg_flow_x = np.average(flow_x, axis=0)\n",
    "total_avg_flow_y = np.average(flow_y, axis=0)"
   ]
  },
  {
   "cell_type": "code",
   "execution_count": null,
   "metadata": {},
   "outputs": [],
   "source": [
    "pylab.rcParams['figure.figsize'] = (18, 10)\n",
    "fig = plt.figure()\n",
    "\n",
    "y,x = np.mgrid[0:shape(segchannel)[1]:1, 0:shape(segchannel)[2]:1]\n",
    "skip = (slice(None, None, 10), slice(None, None, 10))\n",
    "\n",
    "ax = plt.subplot(221)\n",
    "ax.set_title('average flow')\n",
    "ax.imshow(segchannel[int(len(segchannel)/2)])#, plt.get_cmap('gray'))\n",
    "ax.quiver(x[skip],y[skip],total_avg_flow_x[skip],-total_avg_flow_y[skip], color='w', scale = 50)\n",
    "\n",
    "ax = plt.subplot(222)\n",
    "ax.set_title('first frame')\n",
    "ax.imshow(segchannel[0])#, plt.get_cmap('gray'))\n",
    "ax.quiver(x[skip],y[skip],avg_flow_x[0][skip],-avg_flow_y[0][skip], color='w', scale=50)\n",
    "\n",
    "ax = plt.subplot(223)\n",
    "ax.set_title('middlemost frame')\n",
    "ax.imshow(segchannel[int(len(segchannel)/2)])#, plt.get_cmap('gray'))\n",
    "ax.quiver(x[skip],y[skip],avg_flow_x[int(len(segchannel)/2)][skip],-avg_flow_y[int(len(segchannel)/2)][skip], color='w', scale=50)\n",
    "\n",
    "ax = plt.subplot(224)\n",
    "ax.set_title('last frame')\n",
    "ax.imshow(segchannel[-1])#, plt.get_cmap('gray'))\n",
    "ax.quiver(x[skip],y[skip],avg_flow_x[-1][skip],-avg_flow_y[-1][skip], color='w', scale=50)\n",
    "\n",
    "fig.tight_layout()\n",
    "# fig.savefig('test.pdf',dpi=300)"
   ]
  },
  {
   "cell_type": "markdown",
   "metadata": {},
   "source": [
    "# Flow data crunching..."
   ]
  },
  {
   "cell_type": "code",
   "execution_count": null,
   "metadata": {},
   "outputs": [],
   "source": [
    "membrane_polygones_per_object = []\n",
    "annulus_outer_polygones_per_object = []\n",
    "annulus_middle_polygones_per_object = []\n",
    "annulus_inner_polygones_per_object = []\n",
    "for obj in objects:\n",
    "    membrane_polygones = []\n",
    "    annulus_outer_polygones = []\n",
    "    annulus_middle_polygones = []\n",
    "    annulus_inner_polygones = []\n",
    "    for t in range(T+1):\n",
    "        \n",
    "        membrane_polygones.append( newutils.get_polygone_points(obj, t, sampled_coords, query_centroids, 1) )\n",
    "        annulus_outer_polygones.append( newutils.get_polygone_points(obj, t, sampled_coords, query_centroids, annulus_outer_factor) )\n",
    "        annulus_middle_polygones.append( newutils.get_polygone_points(obj, t, sampled_coords, query_centroids,(annulus_outer_factor+annulus_inner_factor)/2) )\n",
    "        annulus_inner_polygones.append( newutils.get_polygone_points(obj, t, sampled_coords, query_centroids, annulus_inner_factor) )\n",
    "    membrane_polygones_per_object.append(membrane_polygones)\n",
    "    annulus_outer_polygones_per_object.append(annulus_outer_polygones)\n",
    "    annulus_middle_polygones_per_object.append(annulus_middle_polygones)\n",
    "    annulus_inner_polygones_per_object.append(annulus_inner_polygones)"
   ]
  },
  {
   "cell_type": "markdown",
   "metadata": {},
   "source": [
    "### Sanity check: are annuli set sensibly?"
   ]
  },
  {
   "cell_type": "code",
   "execution_count": null,
   "metadata": {},
   "outputs": [],
   "source": [
    "t = 1\n",
    "fig = plt.figure()\n",
    "ax = plt.subplot2grid((1, 3), (0, 0), colspan=2)\n",
    "ax.imshow(segchannel_smooth[t], plt.get_cmap('gray'))\n",
    "ax.text(25, 25, 't=%d'%t, fontsize=14, color='w')\n",
    "\n",
    "for obj in objects:\n",
    "    \n",
    "    poly_membrane = geometry.Polygon(membrane_polygones_per_object[obj][t])\n",
    "    poly_membrane2 = geometry.Polygon(annulus_outer_polygones_per_object[obj][t])\n",
    "    poly_annulus = geometry.Polygon(annulus_outer_polygones_per_object[obj][t], [annulus_inner_polygones_per_object[obj][t][::-1]])\n",
    "    patch_annulus = PolygonPatch(poly_annulus, facecolor='#%02x%02x%02x'%(219,209,0), edgecolor='orange', alpha=0.0625, zorder=2)\n",
    "    ax.add_patch(patch_annulus)\n",
    "    plot_coords( ax, poly_membrane.exterior, 'red', alpha=.5 )\n",
    "    plot_coords( ax, poly_membrane2.exterior, 'orange', alpha=.5 )\n"
   ]
  },
  {
   "cell_type": "code",
   "execution_count": null,
   "metadata": {},
   "outputs": [],
   "source": [
    "annulus_bresenham_lines_per_frame_per_object = []\n",
    "for obj in objects:\n",
    "    annulus_bresenham_lines_per_frame = []\n",
    "    for t in range(T):\n",
    "        annulus_bresenham_lines = newutils.get_annulus_bresenham_lines( annulus_inner_polygones_per_object[obj][t], annulus_outer_polygones_per_object[obj][t] )\n",
    "        annulus_bresenham_lines_per_frame.append( annulus_bresenham_lines )\n",
    "    annulus_bresenham_lines_per_frame_per_object.append( annulus_bresenham_lines_per_frame )"
   ]
  },
  {
   "cell_type": "markdown",
   "metadata": {},
   "source": [
    "### compute membrane movement vectors"
   ]
  },
  {
   "cell_type": "code",
   "execution_count": null,
   "metadata": {},
   "outputs": [],
   "source": [
    "membrane_movement_vectors_per_frame_per_object = []\n",
    "for obj in objects:\n",
    "\n",
    "    membrane_movement_vectors_per_frame = []\n",
    "    for t in range(T):\n",
    "        membrane_movement_vectors = []\n",
    "\n",
    "        poly_t1 = membrane_polygones_per_object[obj][t]\n",
    "        poly_t2 = membrane_polygones_per_object[obj][t+1]\n",
    "        \n",
    "        for i in range(len(poly_t2)):\n",
    "            p1 = [poly_t1[i][0] , poly_t1[i][1]]\n",
    "            p2 = [poly_t2[i][0] , poly_t2[i][1]]\n",
    "            membrane_movement_vectors.append( [p2[0]-p1[0] , p2[1]-p1[1]] )\n",
    "        membrane_movement_vectors_per_frame.append( membrane_movement_vectors )\n",
    "    membrane_movement_vectors_per_frame_per_object.append( membrane_movement_vectors_per_frame )"
   ]
  },
  {
   "cell_type": "markdown",
   "metadata": {},
   "source": [
    "### compute averaged flow vectors"
   ]
  },
  {
   "cell_type": "code",
   "execution_count": null,
   "metadata": {},
   "outputs": [],
   "source": [
    "annulus_avg_flow_vectors_per_frame_per_object = []\n",
    "for obj in objects:\n",
    "    annulus_avg_flow_vectors_per_frame = []\n",
    "    for t in range(T):\n",
    "        annulus_avg_flow_vectors = []\n",
    "        lines = annulus_bresenham_lines_per_frame_per_object[obj][t]\n",
    "        for l, line in enumerate(lines):\n",
    "            sum_x = 0.0\n",
    "            sum_y = 0.0\n",
    "            for point in line:\n",
    "                sum_x += avg_flow_x[t,int (point[1]),int(point[0])]\n",
    "                sum_y += avg_flow_y[t,int(point[1]),int(point[0])]\n",
    "                \n",
    "            avg_x = sum_x / len(line)\n",
    "            avg_y = sum_y / len(line)\n",
    "           \n",
    "            annulus_avg_flow_vectors.append([avg_x,avg_y])\n",
    "        annulus_avg_flow_vectors_per_frame.append(annulus_avg_flow_vectors)\n",
    "    annulus_avg_flow_vectors_per_frame_per_object.append( annulus_avg_flow_vectors_per_frame )"
   ]
  },
  {
   "cell_type": "markdown",
   "metadata": {},
   "source": [
    "### compute projected vector lengths"
   ]
  },
  {
   "cell_type": "code",
   "execution_count": null,
   "metadata": {},
   "outputs": [],
   "source": [
    "column_vectors = col_vectors # they are normalized to length 1"
   ]
  },
  {
   "cell_type": "code",
   "execution_count": null,
   "metadata": {},
   "outputs": [],
   "source": [
    "projected_avg_flows_per_frame_per_object = []\n",
    "projected_mem_vecs_per_frame_per_object = []\n",
    "for obj in objects:\n",
    "    projected_avg_flows_per_frame = []\n",
    "    projected_mem_vecs_per_frame = []\n",
    "    for t in range(T):\n",
    "        projected_avg_flows = []\n",
    "        projected_mem_vecs = []\n",
    "        for i in range(len(column_vectors)):\n",
    "            projected_avg_flows.append( bsu.get_projected_length(annulus_avg_flow_vectors_per_frame_per_object[obj][t][i] ,column_vectors[i]) )\n",
    "            projected_mem_vecs.append( bsu.get_projected_length(membrane_movement_vectors_per_frame_per_object[obj][t][i] ,column_vectors[i]) )\n",
    "        projected_avg_flows_per_frame.append( projected_avg_flows )\n",
    "        projected_mem_vecs_per_frame.append( projected_mem_vecs )\n",
    "    projected_avg_flows_per_frame_per_object.append( projected_avg_flows_per_frame )\n",
    "    projected_mem_vecs_per_frame_per_object.append( projected_mem_vecs_per_frame )"
   ]
  },
  {
   "cell_type": "markdown",
   "metadata": {},
   "source": [
    "### remove shared boundary vectors from analysis"
   ]
  },
  {
   "cell_type": "markdown",
   "metadata": {},
   "source": [
    "This happens only if use_all_spyderlegs is set to False"
   ]
  },
  {
   "cell_type": "code",
   "execution_count": null,
   "metadata": {},
   "outputs": [],
   "source": [
    "projected_avg_flows_per_frame_per_object = projected_avg_flows_per_frame_per_object\n",
    "projected_mem_vecs_per_frame_per_object = projected_mem_vecs_per_frame_per_object\n",
    "if(use_EaEp_border_spyderlegs is False):\n",
    "    for obj in objects:\n",
    "        for t in range(T):\n",
    "            for cols in EaEp_boundary_column[obj][t]:\n",
    "                projected_avg_flows_per_frame_per_object[obj][t][cols] = 0\n",
    "                projected_mem_vecs_per_frame_per_object[obj][t][cols] = 0\n",
    "\n",
    "if(Ea_background_border):\n",
    "    if(use_Ea_background_spyderlegs is False):\n",
    "        for t in range(T):\n",
    "            for cols in background_boundary_column[0][t]:\n",
    "                projected_avg_flows_per_frame_per_object[0][t][cols] = 0\n",
    "                projected_mem_vecs_per_frame_per_object[0][t][cols] = 0\n",
    "                \n",
    "if(Ep_background_border):\n",
    "    if(use_Ep_background_spyderlegs is False):\n",
    "        for t in range(T):\n",
    "            for cols in background_boundary_column[1][t]:\n",
    "                projected_avg_flows_per_frame_per_object[1][t][cols] = 0\n",
    "                projected_mem_vecs_per_frame_per_object[1][t][cols] = 0"
   ]
  },
  {
   "cell_type": "markdown",
   "metadata": {},
   "source": [
    "###### The following cell computes the slippage in microns/min for each Spyder leg for each object (Ea and Ep) for each time point and writes it in a xlsx file. Note that the Spyder legs corresponding to the background and cell borders and the common borders between Ea and Ep will be written as zero if the use_Ea_background_spyderlegs and use_EaEp_border_spyderlegs are set as False."
   ]
  },
  {
   "cell_type": "code",
   "execution_count": null,
   "metadata": {},
   "outputs": [],
   "source": [
    "# Create a workbook and add worksheets.\n",
    "if not os.path.exists(base_path+'results'):\n",
    "    os.makedirs(base_path+'results')\n",
    "workbook = xlsxwriter.Workbook(base_path+'results/slippage_per_spyderleg.xlsx')\n",
    "for obj in objects:\n",
    "    if(obj == 0):\n",
    "        worksheet = workbook.add_worksheet(\"Ea\")\n",
    "    if(obj == 1):\n",
    "        worksheet = workbook.add_worksheet(\"Ep\")\n",
    "    bold = workbook.add_format({'bold': 1})\n",
    "    # Adjust the column width.\n",
    "    worksheet.set_column(1, 1, 15)\n",
    "    legs = np.arange(num_columns)\n",
    "    row = 0\n",
    "    col = 1\n",
    "    worksheet.write('', 'time(frame)', bold)\n",
    "    for j, leg in enumerate(legs):\n",
    "        worksheet.write(row, col + j, leg, bold)\n",
    "    # Start from the first cell below the headers.\n",
    "    row = 1\n",
    "    for t in range(T):\n",
    "        col = 0\n",
    "        worksheet.write_number(row, col, t)\n",
    "        slip = [a_i - b_i for a_i, b_i in zip(projected_avg_flows_per_frame_per_object[obj][t], projected_mem_vecs_per_frame_per_object[obj][t])]\n",
    "        slip_vel = [ele*pixel_to_micron for ele in slip]\n",
    "        values_row = [x/(delta_t) for x in slip_vel]\n",
    "        for value in values_row: \n",
    "            col = col+1\n",
    "            worksheet.write(row, col, value )\n",
    "        row = row + 1\n",
    "workbook.close()"
   ]
  },
  {
   "cell_type": "markdown",
   "metadata": {},
   "source": [
    "### compute frame averages and correlations for lineplots"
   ]
  },
  {
   "cell_type": "code",
   "execution_count": null,
   "metadata": {},
   "outputs": [],
   "source": [
    "avg_membrane_contraction_per_frame_per_object = []\n",
    "avg_center_flow_per_frame_per_object = []\n",
    "correlation_per_frame_per_object = []\n",
    "slippage_per_frame_per_object = []\n",
    "for obj in objects:\n",
    "    avg_membrane_contraction_per_frame = []\n",
    "    avg_center_flow_per_frame = []\n",
    "    correlation_per_frame = []\n",
    "    slippage_per_frame = []\n",
    "    for t in range(T):\n",
    "        memveclengths=projected_mem_vecs_per_frame_per_object[obj][t]\n",
    "        flowveclengths=projected_avg_flows_per_frame_per_object[obj][t]\n",
    "        avg_membrane_contraction_per_frame.append( np.mean(memveclengths) )\n",
    "        avg_center_flow_per_frame.append( np.mean( flowveclengths) )\n",
    "        correlation_per_frame.append( pearsonr(memveclengths, flowveclengths)[0] )\n",
    "        \n",
    "        slippage_per_frame.append( np.mean(flowveclengths) - np.mean(memveclengths) )\n",
    "                \n",
    "    avg_membrane_contraction_per_frame_per_object.append( avg_membrane_contraction_per_frame )\n",
    "    avg_center_flow_per_frame_per_object.append( avg_center_flow_per_frame )\n",
    "    correlation_per_frame_per_object.append( correlation_per_frame )\n",
    "    slippage_per_frame_per_object.append( slippage_per_frame )"
   ]
  },
  {
   "cell_type": "markdown",
   "metadata": {},
   "source": [
    "# Plotting crunched flow data"
   ]
  },
  {
   "cell_type": "markdown",
   "metadata": {},
   "source": [
    "The cell below plots average flow, average membrane and slippage in pixels with time in frames. Additionally, we also have plots to see the flow and membrane vectors. In blue, is the membrane outline at the current time point while in green the membrane outline at next time point. The membrane movement vectors are plotted in blue while the flow vectors are plotted in yellow along each column."
   ]
  },
  {
   "cell_type": "code",
   "execution_count": null,
   "metadata": {
    "scrolled": true
   },
   "outputs": [],
   "source": [
    "pylab.rcParams['figure.figsize'] = (17, 5)\n",
    "fig = plt.figure()\n",
    "ax = plt.subplot(121)\n",
    "ax.set_title(data.object_names[0])\n",
    "ax.set_xlabel('time in frames')\n",
    "ax.set_ylabel('movement / slippage')\n",
    "ax.plot(np.zeros_like(correlation_per_frame_per_object[0]), color='lightgray')\n",
    "ax.plot(slippage_per_frame_per_object[0], color='gray', label='slippage')\n",
    "ax.plot(avg_membrane_contraction_per_frame_per_object[0], color='#%02x%02x%02x'%(0,109,219), label='avg. mem')\n",
    "ax.plot(avg_center_flow_per_frame_per_object[0], color='#%02x%02x%02x'%(219,209,0), label='avg. flow')\n",
    "ax.legend( loc='lower right')\n",
    "ax = plt.subplot(122)\n",
    "\n",
    "ax.set_title(data.object_names[1])\n",
    "ax.set_xlabel('time in frames')\n",
    "ax.set_ylabel('movement / slippage')\n",
    "ax.plot(np.zeros_like(correlation_per_frame_per_object[1]), color='lightgray')\n",
    "ax.plot(slippage_per_frame_per_object[1], color='gray', label='slippage')\n",
    "ax.plot(avg_membrane_contraction_per_frame_per_object[1], color='#%02x%02x%02x'%(0,109,219), label='avg. mem')\n",
    "ax.plot(avg_center_flow_per_frame_per_object[1], color='#%02x%02x%02x'%(219,209,0), label='avg. flow')\n",
    "ax.legend( loc='lower right')\n",
    "fig.tight_layout()\n",
    "if not os.path.exists(base_path+'results'):\n",
    "    os.makedirs(base_path+'results')\n",
    "fig.savefig(base_path+'results/pixels_per_frame_velocity.png')\n",
    "\n",
    "pylab.rcParams['figure.figsize'] = (17, 7)\n",
    "offset = 0\n",
    "stepsize = 2\n",
    "show_projected = True\n",
    "\n",
    "for t in range(0,len(segchannel)-1,1):\n",
    "    fig = plt.figure()\n",
    "    ax = plt.subplot2grid((1, 3), (0, 0), colspan=2)\n",
    "    \n",
    "\n",
    "    ax.imshow(segchannel_smooth[t], plt.get_cmap('gray'))\n",
    "    ax.text(25, 25, 't=%d'%t, fontsize=14, color='w')\n",
    "\n",
    "    for obj in objects:\n",
    "        # center points\n",
    "        ax.plot(query_centroids[obj][t+1][1],query_centroids[obj][t+1][0], 'o', color='green')\n",
    "        ax.plot(query_centroids[obj][t][1],query_centroids[obj][t][0], 'o', color='#%02x%02x%02x'%(0,109,219))\n",
    "        \n",
    "        # polygones (membrane and annulus)\n",
    "        poly_membrane = geometry.Polygon(membrane_polygones_per_object[obj][t])\n",
    "        poly_membrane_t2 = geometry.Polygon(membrane_polygones_per_object[obj][t+1])\n",
    "        poly_annulus = geometry.Polygon(annulus_outer_polygones_per_object[obj][t], [annulus_inner_polygones_per_object[obj][t][::-1]])\n",
    "        poly_annulus_middle = geometry.Polygon(annulus_middle_polygones_per_object[obj][t])\n",
    "\n",
    "        plot_coords( ax, poly_membrane_t2.exterior, 'green', alpha=.5 )\n",
    "        plot_coords( ax, poly_membrane.exterior, '#%02x%02x%02x'%(0,109,219) )\n",
    "\n",
    "        patch_annulus = PolygonPatch(poly_annulus, facecolor='#%02x%02x%02x'%(219,209,0), edgecolor='orange', alpha=0.0625, zorder=2)\n",
    "        ax.add_patch(patch_annulus)\n",
    "\n",
    "         # membrane quivers\n",
    "        mem_base_x = [p[0] for p in membrane_polygones_per_object[obj][t]]\n",
    "        mem_base_y = [p[1] for p in membrane_polygones_per_object[obj][t]]\n",
    "        if (show_projected):\n",
    "            mem_vec = [column_vectors[i]*projected_mem_vecs_per_frame_per_object[obj][t][i] for i in range(len(column_vectors))]\n",
    "            mem_vec_x = [v[0] for v in mem_vec]\n",
    "            mem_vec_y = [-v[1] for v in mem_vec]\n",
    "        else:\n",
    "            mem_vec_x = [v[0] for v in membrane_movement_vectors_per_frame_per_object[obj][t]]\n",
    "            mem_vec_y = [-v[1] for v in membrane_movement_vectors_per_frame_per_object[obj][t]]\n",
    "        ax.quiver(mem_base_x, \n",
    "                  mem_base_y, \n",
    "                  mem_vec_x, \n",
    "                  mem_vec_y, \n",
    "                  width=0.0022, scale=quiver_vector_scale, color='blue')\n",
    "        \n",
    "        # flow quivers\n",
    "        flow_base_x = [p[0] for p in annulus_middle_polygones_per_object[obj][t]]\n",
    "        flow_base_y = [p[1] for p in annulus_middle_polygones_per_object[obj][t]]\n",
    "        if (show_projected):\n",
    "            flow_vec = [column_vectors[i]*projected_avg_flows_per_frame_per_object[obj][t][i] for i in range(len(column_vectors))]\n",
    "            flow_vec_x = [v[0] for v in flow_vec]\n",
    "            flow_vec_y = [-v[1] for v in flow_vec]\n",
    "        else:\n",
    "            flow_vec_x = [v[0] for v in annulus_avg_flow_vectors_per_frame_per_object[obj][t]]\n",
    "            flow_vec_y = [-v[1] for v in annulus_avg_flow_vectors_per_frame_per_object[obj][t]]\n",
    "        ax.quiver(flow_base_x, \n",
    "                  flow_base_y, \n",
    "                  flow_vec_x, \n",
    "                  flow_vec_y, \n",
    "                  pivot='mid', width=0.0022, scale=quiver_vector_scale, color='yellow')\n",
    "        \n",
    "    if not os.path.exists(base_path+'results'):\n",
    "        os.makedirs(base_path+'results')\n",
    "    fig.savefig(base_path+'results/vector_plot_time'+str(t)+'.png')  \n",
    "    fig.tight_layout()"
   ]
  },
  {
   "cell_type": "markdown",
   "metadata": {},
   "source": [
    "Compute the areas of the cells at different times and plot them "
   ]
  },
  {
   "cell_type": "code",
   "execution_count": null,
   "metadata": {},
   "outputs": [],
   "source": [
    "area_per_object = []\n",
    "for obj in objects:\n",
    "    area_per_frame = []\n",
    "    for frame in range(T+1):\n",
    "        poly_mem = geometry.Polygon(membrane_polygones_per_object[obj][frame])\n",
    "        area_per_frame.append(poly_mem.area)\n",
    "    area_per_object.append(area_per_frame)"
   ]
  },
  {
   "cell_type": "code",
   "execution_count": null,
   "metadata": {},
   "outputs": [],
   "source": [
    "time_axes = []\n",
    "time_axes.append(delta_t)\n",
    "\n",
    "for time in range(T-1):\n",
    "    time_elapsed = time_axes[-1]\n",
    "    time_axes.append(time_elapsed+delta_t)\n",
    "time_axes = [0] + time_axes"
   ]
  },
  {
   "cell_type": "markdown",
   "metadata": {},
   "source": [
    "The plot below shows how the membrane area (micron_squared) changes over time(in minutes) for Ea and Ep and writes the areas for corresponding cells with time indices in a csv file in the results folder"
   ]
  },
  {
   "cell_type": "code",
   "execution_count": null,
   "metadata": {},
   "outputs": [],
   "source": [
    "max_value, _ = max((x, (i, j))\n",
    "                           for i, row in enumerate(area_per_object)\n",
    "                           for j, x in enumerate(row)) # finds the maximum area among all cells and all times\n",
    "ymax = max_value*pixel_to_micron*pixel_to_micron +30\n",
    "# ymax = 200\n",
    "ymin = 0\n",
    "pylab.rcParams['figure.figsize'] = (17, 5)\n",
    "fig = plt.figure()\n",
    "\n",
    "if not os.path.exists(base_path+'results'):\n",
    "    os.makedirs(base_path+'results')\n",
    "workbook = xlsxwriter.Workbook(base_path+'results/area.xlsx')\n",
    "for obj in objects:\n",
    "    if(obj == 0):\n",
    "        worksheet = workbook.add_worksheet(\"Ea\")\n",
    "    if(obj == 1):\n",
    "        worksheet = workbook.add_worksheet(\"Ep\")\n",
    "    bold = workbook.add_format({'bold': 1})\n",
    "    # Adjust the column width.\n",
    "    worksheet.set_column(1, 1, 15)\n",
    "    row = 0\n",
    "    col = 0\n",
    "    worksheet.write(row, col, 'time(minutes)', bold)\n",
    "    worksheet.write(row, col+1, 'area(microns_square)')\n",
    "    ax = fig.add_subplot(1,2,obj+1)\n",
    "    ax.set_title(data.object_names[obj])\n",
    "    ax.set_xlabel('time in minutes')\n",
    "    ax.set_ylabel('area in microns_sq')\n",
    "    area_in_microns_sq = [ele*pixel_to_micron*pixel_to_micron for ele in area_per_object[obj]]\n",
    "    ax.plot(time_axes, area_in_microns_sq, color='magenta', marker = '+')\n",
    "    ax.set_ylim((ymin, ymax))\n",
    "    \n",
    "    row = 1\n",
    "    for idx in range(len(area_in_microns_sq)):\n",
    "        col = 0\n",
    "        value = [time_axes[idx], area_in_microns_sq[idx]]\n",
    "        worksheet.write(row, col, value[0] )\n",
    "        worksheet.write(row, col+1, value[1] )\n",
    "        row = row+1\n",
    "            \n",
    "plt.tight_layout()\n",
    "plt.show()\n",
    "fig.savefig(base_path+'results/area.png')\n",
    "workbook.close()"
   ]
  },
  {
   "cell_type": "markdown",
   "metadata": {},
   "source": [
    "The plot generated below shows the average flow, average membrane and slippage in microns with time in minutes."
   ]
  },
  {
   "cell_type": "code",
   "execution_count": null,
   "metadata": {},
   "outputs": [],
   "source": [
    "slippage_Ea = [ele*pixel_to_micron for ele in slippage_per_frame_per_object[0]]\n",
    "avg_membrane_contraction_Ea = [ele*pixel_to_micron for ele in avg_membrane_contraction_per_frame_per_object[0]]\n",
    "avg_center_flow_Ea = [ele*pixel_to_micron for ele in avg_center_flow_per_frame_per_object[0]]\n",
    "\n",
    "slippage_Ep = [ele*pixel_to_micron for ele in slippage_per_frame_per_object[1]]\n",
    "avg_membrane_contraction_Ep = [ele*pixel_to_micron for ele in avg_membrane_contraction_per_frame_per_object[1]]\n",
    "avg_center_flow_Ep = [ele*pixel_to_micron for ele in avg_center_flow_per_frame_per_object[1]]\n",
    "\n",
    "pylab.rcParams['figure.figsize'] = (17, 5)\n",
    "fig = plt.figure()\n",
    "ax = plt.subplot(121)\n",
    "ax.set_title(data.object_names[0])\n",
    "ax.set_xlabel('time in minutes')\n",
    "ax.set_ylabel('movement / slippage in microns')\n",
    "ax.plot(time_axes[1:], np.zeros_like(correlation_per_frame_per_object[0]), color='lightgray')\n",
    "ax.plot(time_axes[1:], slippage_Ea, color='gray', label='slippage', marker ='o')\n",
    "ax.plot(time_axes[1:], avg_membrane_contraction_Ea, color='#%02x%02x%02x'%(0,109,219), label='avg. mem', marker ='o')\n",
    "ax.plot(time_axes[1:], avg_center_flow_Ea, color='#%02x%02x%02x'%(219,209,0), label='avg. flow', marker ='o')\n",
    "ax.legend( loc='lower right')\n",
    "\n",
    "ax = plt.subplot(122)\n",
    "ax.set_title(data.object_names[1])\n",
    "ax.set_xlabel('time in minutes')\n",
    "ax.set_ylabel('movement / slippage in microns')\n",
    "ax.plot(time_axes[1:], np.zeros_like(correlation_per_frame_per_object[1]), color='lightgray')\n",
    "ax.plot(time_axes[1:], slippage_Ep, color='gray', label='slippage', marker ='o')\n",
    "ax.plot(time_axes[1:], avg_membrane_contraction_Ep, color='#%02x%02x%02x'%(0,109,219), label='avg. mem', marker ='o')\n",
    "ax.plot(time_axes[1:], avg_center_flow_Ep, color='#%02x%02x%02x'%(219,209,0), label='avg. flow', marker ='o')\n",
    "ax.legend( loc='lower right')\n",
    "fig.tight_layout()\n",
    "if not os.path.exists(base_path+'results'):\n",
    "    os.makedirs(base_path+'results')\n",
    "fig.savefig(base_path+'results/velocity_proxy.png')"
   ]
  },
  {
   "cell_type": "code",
   "execution_count": null,
   "metadata": {},
   "outputs": [],
   "source": [
    "slippage_velocity_Ea = [x/(delta_t) for x in slippage_Ea]\n",
    "avg_flow_velocity_Ea = [x/(delta_t) for x in avg_center_flow_Ea]\n",
    "slippage_velocity_Ep = [x/(delta_t) for x in slippage_Ep]\n",
    "avg_flow_velocity_Ep = [x/(delta_t) for x in avg_center_flow_Ep]"
   ]
  },
  {
   "cell_type": "markdown",
   "metadata": {},
   "source": [
    "Writes slippage rates in microns/minute with time indices for differnt cells as csv file in results folder. The sign of slippage velocity indicates direction with -ve being inwards and vice-versa."
   ]
  },
  {
   "cell_type": "code",
   "execution_count": null,
   "metadata": {},
   "outputs": [],
   "source": [
    "if not os.path.exists(base_path+'results'):\n",
    "    os.makedirs(base_path+'results')\n",
    "workbook = xlsxwriter.Workbook(base_path+'results/slippage_rates_overall.xlsx')\n",
    "for obj in objects:\n",
    "    if(obj == 0):\n",
    "        worksheet = workbook.add_worksheet(\"Ea\")\n",
    "    if(obj == 1):\n",
    "        worksheet = workbook.add_worksheet(\"Ep\")\n",
    "    bold = workbook.add_format({'bold': 1})\n",
    "    # Adjust the column width.\n",
    "    worksheet.set_column(1, 1, 15)\n",
    "    row = 0\n",
    "    col = 0\n",
    "    worksheet.write(row, col, 'time(minutes)', bold)\n",
    "    worksheet.write(row, col+1, 'slippage velocity(microns/minute)')\n",
    "\n",
    "    if(obj == 0):    \n",
    "        row = 1\n",
    "        for ele in range(1,len(time_axes)):\n",
    "            col = 0\n",
    "            value = [time_axes[ele], slippage_velocity_Ea[ele-1]]\n",
    "            worksheet.write(row, col, value[0] )\n",
    "            worksheet.write(row, col+1, value[1] )\n",
    "            row = row+1\n",
    "    if(obj == 1):    \n",
    "        row = 1\n",
    "        for ele in range(1,len(time_axes)):\n",
    "            col = 0\n",
    "            value = [time_axes[ele], slippage_velocity_Ep[ele-1]]\n",
    "            worksheet.write(row, col, value[0] )\n",
    "            worksheet.write(row, col+1, value[1] )\n",
    "            row = row+1\n",
    "workbook.close()"
   ]
  },
  {
   "cell_type": "markdown",
   "metadata": {},
   "source": [
    "The plot below shows the myosin velocity and slippage velocity in microns/minute at different time points(time points where membrane acquisition was made). The sign of slippage velocity indicates direction with -ve being inwards and vice-versa."
   ]
  },
  {
   "cell_type": "code",
   "execution_count": null,
   "metadata": {},
   "outputs": [],
   "source": [
    "pylab.rcParams['figure.figsize'] = (17, 5)\n",
    "fig = plt.figure()\n",
    "ax = plt.subplot(121)\n",
    "ax.set_title(data.object_names[0])\n",
    "ax.set_xlabel('time in minutes')\n",
    "ax.set_ylabel('slippage/flow velocity in microns/minutes')\n",
    "ax.plot(time_axes[1:], np.zeros_like(correlation_per_frame_per_object[0]), color='lightgray')\n",
    "ax.plot(time_axes[1:], slippage_velocity_Ea, color='gray', label='slippage', linestyle = '-', marker = '*')\n",
    "ax.plot(time_axes[1:], avg_flow_velocity_Ea, color='#%02x%02x%02x'%(219,209,0), label='avg. flow', linestyle = '-', marker = 'o')\n",
    "ax.legend( loc='lower right')\n",
    "\n",
    "ax = plt.subplot(122)\n",
    "ax.set_title(data.object_names[1])\n",
    "ax.set_xlabel('time in minutes')\n",
    "ax.set_ylabel('slippage/flow velocity in microns/minutes')\n",
    "ax.plot(time_axes[1:], np.zeros_like(correlation_per_frame_per_object[1]), color='lightgray')\n",
    "ax.plot(time_axes[1:], slippage_velocity_Ep, color='gray', label='slippage', linestyle = '-', marker = '*')\n",
    "ax.plot(time_axes[1:], avg_flow_velocity_Ep, color='#%02x%02x%02x'%(219,209,0), label='avg. flow', linestyle = '-', marker = 'o')\n",
    "ax.legend( loc='lower right')\n",
    "fig.tight_layout()\n",
    "\n",
    "if not os.path.exists(base_path+'results'):\n",
    "    os.makedirs(base_path+'results')\n",
    "fig.savefig(base_path+'results/velocity')"
   ]
  },
  {
   "cell_type": "code",
   "execution_count": null,
   "metadata": {},
   "outputs": [],
   "source": []
  },
  {
   "cell_type": "code",
   "execution_count": null,
   "metadata": {},
   "outputs": [],
   "source": []
  }
 ],
 "metadata": {
  "kernelspec": {
   "display_name": "Python 3",
   "language": "python",
   "name": "python3"
  },
  "language_info": {
   "codemirror_mode": {
    "name": "ipython",
    "version": 3
   },
   "file_extension": ".py",
   "mimetype": "text/x-python",
   "name": "python",
   "nbconvert_exporter": "python",
   "pygments_lexer": "ipython3",
   "version": "3.7.3"
  }
 },
 "nbformat": 4,
 "nbformat_minor": 2
}
