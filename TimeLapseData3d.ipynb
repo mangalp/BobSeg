{
 "cells": [
  {
   "cell_type": "code",
   "execution_count": 1,
   "metadata": {},
   "outputs": [
    {
     "name": "stdout",
     "output_type": "stream",
     "text": [
      "no scikit-tensor detected, so separable functions wont work\n",
      "This is a python3 issue and can be resolved by:\n",
      "\n",
      "git clone https://github.com/mnick/scikit-tensor.git\n",
      "pip3 install scikit-tensor\n"
     ]
    }
   ],
   "source": [
    "#%matplotlib qt\n",
    "\n",
    "import time\n",
    "import copy\n",
    "import numpy as np\n",
    "from skimage.filters import gaussian_filter\n",
    "\n",
    "from tifffile import imread, imsave\n",
    "import pickle\n",
    "\n",
    "import matplotlib.pyplot as plt\n",
    "\n",
    "from spimagine import volfig, volshow\n",
    "from spimagine import EllipsoidMesh, Mesh\n",
    "\n",
    "%reload_ext autoreload\n",
    "%autoreload 2\n",
    "\n",
    "from netsurface3d import NetSurf3d\n",
    "from data4d import Data4d\n",
    "\n",
    "# import os\n",
    "# os.environ['PYOPENCL_COMPILER_OUTPUT'] = '1'"
   ]
  },
  {
   "cell_type": "markdown",
   "metadata": {},
   "source": [
    "# Load time-lapse data..."
   ]
  },
  {
   "cell_type": "code",
   "execution_count": 2,
   "metadata": {
    "collapsed": true
   },
   "outputs": [],
   "source": [
    "filenames = ['/Users/prakash/Desktop/092216_PH-mCherry-02_w2SD mCherry_t1.TIF'] #,\n",
    "#             '/Users/jug/Dropbox/ProjectGoldstein/2016-09-22_fromMark/092216_PH-mCherry-02_w2SD mCherry_t2.TIF',\n",
    "#             '/Users/jug/Dropbox/ProjectGoldstein/2016-09-22_fromMark/092216_PH-mCherry-02_w2SD mCherry_t3.TIF',\n",
    "#             '/Users/jug/Dropbox/ProjectGoldstein/2016-09-22_fromMark/092216_PH-mCherry-02_w2SD mCherry_t4.TIF',\n",
    "#             '/Users/jug/Dropbox/ProjectGoldstein/2016-09-22_fromMark/092216_PH-mCherry-02_w2SD mCherry_t5.TIF',\n",
    "#             '/Users/jug/Dropbox/ProjectGoldstein/2016-09-22_fromMark/092216_PH-mCherry-02_w2SD mCherry_t6.TIF',\n",
    "#             '/Users/jug/Dropbox/ProjectGoldstein/2016-09-22_fromMark/092216_PH-mCherry-02_w2SD mCherry_t7.TIF',\n",
    "#             '/Users/jug/Dropbox/ProjectGoldstein/2016-09-22_fromMark/092216_PH-mCherry-02_w2SD mCherry_t8.TIF',\n",
    "#             '/Users/jug/Dropbox/ProjectGoldstein/2016-09-22_fromMark/092216_PH-mCherry-02_w2SD mCherry_t9.TIF',\n",
    "#             '/Users/jug/Dropbox/ProjectGoldstein/2016-09-22_fromMark/092216_PH-mCherry-02_w2SD mCherry_t10.TIF',\n",
    "#             '/Users/jug/Dropbox/ProjectGoldstein/2016-09-22_fromMark/092216_PH-mCherry-02_w2SD mCherry_t11.TIF',\n",
    "#             '/Users/jug/Dropbox/ProjectGoldstein/2016-09-22_fromMark/092216_PH-mCherry-02_w2SD mCherry_t12.TIF']"
   ]
  },
  {
   "cell_type": "code",
   "execution_count": 3,
   "metadata": {},
   "outputs": [
    {
     "name": "stdout",
     "output_type": "stream",
     "text": [
      "Dimensions of frame 0 :  (31, 512, 512)\n"
     ]
    }
   ],
   "source": [
    "data = Data4d( filenames, pixelsize=(1.,1.,5.), silent=False )\n",
    "data.set_seg_params(K=30,max_delta_k=4)\n",
    "objects = []\n",
    "ecells = []"
   ]
  },
  {
   "cell_type": "markdown",
   "metadata": {},
   "source": [
    "Min radius and max radius at which to look for cells (around center points (seed points))"
   ]
  },
  {
   "cell_type": "code",
   "execution_count": 4,
   "metadata": {
    "collapsed": true
   },
   "outputs": [],
   "source": [
    "max_rs = (data.images[0].shape[2] / 8,\n",
    "          data.images[0].shape[1] / 8,\n",
    "          data.images[0].shape[0] / 2)\n",
    "\n",
    "min_rs = (5,5,1)"
   ]
  },
  {
   "cell_type": "markdown",
   "metadata": {},
   "source": [
    "## adding E cells"
   ]
  },
  {
   "cell_type": "code",
   "execution_count": 5,
   "metadata": {
    "collapsed": true
   },
   "outputs": [],
   "source": [
    "Ea = data.init_object(\"Ea\")\n",
    "objects.append(Ea)\n",
    "ecells.append(Ea)\n",
    "\n",
    "Ep = data.init_object(\"Ep\")\n",
    "objects.append(Ep)\n",
    "ecells.append(Ep)"
   ]
  },
  {
   "cell_type": "code",
   "execution_count": 6,
   "metadata": {
    "scrolled": true
   },
   "outputs": [
    {
     "name": "stdout",
     "output_type": "stream",
     "text": [
      "Added appearance for \"Ea\" in frame 0 with seed coordinates [ 110.  300.   12.]\n",
      "      Optimum energy:  95372.0\n",
      "      Nodes in/out:  7366 7994\n"
     ]
    }
   ],
   "source": [
    "#data.add_object_at( Ea, min_rs, max_rs, frame=0, seed=(110,300,12), frame_to=11, seed_to=(105,310,16), segment_it=True )\n",
    "data.add_object_at( Ea, min_rs, max_rs, frame=0, seed=(110,300,12), segment_it=True )\n",
    "data.track(Ea, seed_frame=0, target_frames=range(1,len(data.images)), recenter_iterations=1)"
   ]
  },
  {
   "cell_type": "code",
   "execution_count": 7,
   "metadata": {
    "scrolled": true
   },
   "outputs": [
    {
     "name": "stdout",
     "output_type": "stream",
     "text": [
      "Added appearance for \"Ep\" in frame 0 with seed coordinates [ 110.  350.   12.]\n",
      "      Optimum energy:  88083.0\n",
      "      Nodes in/out:  7008 8352\n"
     ]
    }
   ],
   "source": [
    "#data.add_object_at( Ep, min_rs, max_rs, frame=0, seed=(110,350,12), frame_to=11, seed_to=(140,360,16), segment_it=True )\n",
    "data.add_object_at( Ep, min_rs, max_rs, frame=0, seed=(110,350,12), segment_it=True )\n",
    "data.track(Ep, seed_frame=0, target_frames=range(1,len(data.images)), recenter_iterations=1)"
   ]
  },
  {
   "cell_type": "markdown",
   "metadata": {},
   "source": [
    "## adding direct neighbors"
   ]
  },
  {
   "cell_type": "code",
   "execution_count": 8,
   "metadata": {
    "collapsed": true
   },
   "outputs": [],
   "source": [
    "neighbors = []\n",
    "for i in range(12):\n",
    "    n = data.init_object(\"n\"+str(i))\n",
    "    objects.append(n)\n",
    "    neighbors.append(n)"
   ]
  },
  {
   "cell_type": "code",
   "execution_count": 17,
   "metadata": {
    "scrolled": true
   },
   "outputs": [
    {
     "name": "stdout",
     "output_type": "stream",
     "text": [
      "Added appearance for \"n0\" in frame 0 with seed coordinates [  90.  390.   12.]\n",
      "      Optimum energy:  76013.0\n",
      "      Nodes in/out:  4767 10593\n",
      "Added appearance for \"n1\" in frame 0 with seed coordinates [ 150.  410.   12.]\n",
      "      Optimum energy:  76241.0\n",
      "      Nodes in/out:  5712 9648\n",
      "Added appearance for \"n2\" in frame 0 with seed coordinates [ 200.  390.   12.]\n",
      "      Optimum energy:  76922.0\n",
      "      Nodes in/out:  6544 8816\n",
      "Added appearance for \"n3\" in frame 0 with seed coordinates [ 190.  315.   12.]\n",
      "      Optimum energy:  88296.0\n",
      "      Nodes in/out:  6602 8758\n",
      "Added appearance for \"n4\" in frame 0 with seed coordinates [ 145.  265.   12.]\n",
      "      Optimum energy:  89403.0\n",
      "      Nodes in/out:  6512 8848\n",
      "Added appearance for \"n5\" in frame 0 with seed coordinates [ 110.  230.   12.]\n",
      "      Optimum energy:  91228.0\n",
      "      Nodes in/out:  7294 8066\n",
      "Added appearance for \"n6\" in frame 0 with seed coordinates [  40.  255.   12.]\n",
      "      Optimum energy:  76758.0\n",
      "      Nodes in/out:  6235 9125\n",
      "Added appearance for \"n7\" in frame 0 with seed coordinates [  45.  300.   18.]\n",
      "      Optimum energy:  80419.0\n",
      "      Nodes in/out:  8004 7356\n",
      "Added appearance for \"n8\" in frame 0 with seed coordinates [  67.  355.   18.]\n",
      "      Optimum energy:  82593.0\n",
      "      Nodes in/out:  4728 10632\n",
      "Added appearance for \"n9\" in frame 0 with seed coordinates [ 110.  275.   24.]\n",
      "      Optimum energy:  85722.0\n",
      "      Nodes in/out:  6326 9034\n",
      "Added appearance for \"n10\" in frame 0 with seed coordinates [ 130.  315.   24.]\n",
      "      Optimum energy:  85157.0\n",
      "      Nodes in/out:  7810 7550\n",
      "Added appearance for \"n11\" in frame 0 with seed coordinates [ 125.  360.   24.]\n",
      "      Optimum energy:  77589.0\n",
      "      Nodes in/out:  9187 6173\n"
     ]
    }
   ],
   "source": [
    "nseeds = [( 90,390,12),\n",
    "          (150,410,12),\n",
    "          (200,390,12),\n",
    "          (190,315,12),\n",
    "          (145,265,12),\n",
    "          (110,230,12),\n",
    "          ( 40,255,12),\n",
    "          ( 45,300,18),\n",
    "          ( 67,355,18),\n",
    "          (110,275,24),\n",
    "          (130,315,24),\n",
    "          (125,360,24)]\n",
    "for i in range(len(nseeds)):\n",
    "    data.add_object_at( neighbors[i], min_rs, max_rs, frame=0, seed=nseeds[i], segment_it=True )\n",
    "    data.track(neighbors[i], seed_frame=0, target_frames=range(1,len(data.images)), recenter_iterations=1)"
   ]
  },
  {
   "cell_type": "markdown",
   "metadata": {},
   "source": [
    "## adding others"
   ]
  },
  {
   "cell_type": "code",
   "execution_count": 10,
   "metadata": {
    "collapsed": true
   },
   "outputs": [],
   "source": [
    "others = []\n",
    "for i in range(7):\n",
    "    o = data.init_object(\"o\"+str(i))\n",
    "    objects.append(o)\n",
    "    others.append(o)"
   ]
  },
  {
   "cell_type": "code",
   "execution_count": 11,
   "metadata": {
    "scrolled": true
   },
   "outputs": [
    {
     "name": "stdout",
     "output_type": "stream",
     "text": [
      "Len: 1\n",
      "Frame: 0\n",
      "Added appearance for \"o0\" in frame 0 with seed coordinates [  70.  205.   12.]\n",
      "      Optimum energy:  80145.0\n",
      "      Nodes in/out:  7335 8025\n",
      "Len: 1\n",
      "Frame: 0\n",
      "Added appearance for \"o1\" in frame 0 with seed coordinates [ 145.  170.   12.]\n",
      "      Optimum energy:  79706.0\n",
      "      Nodes in/out:  7451 7909\n",
      "Len: 1\n",
      "Frame: 0\n",
      "Added appearance for \"o2\" in frame 0 with seed coordinates [  50.  160.   12.]\n",
      "      Optimum energy:  85573.0\n",
      "      Nodes in/out:  4837 10523\n",
      "Len: 1\n",
      "Frame: 0\n",
      "Added appearance for \"o3\" in frame 0 with seed coordinates [ 105.  140.   12.]\n",
      "      Optimum energy:  77165.0\n",
      "      Nodes in/out:  6646 8714\n",
      "Len: 1\n",
      "Frame: 0\n",
      "Added appearance for \"o4\" in frame 0 with seed coordinates [ 190.  220.   12.]\n",
      "      Optimum energy:  84262.0\n",
      "      Nodes in/out:  6537 8823\n",
      "Len: 1\n",
      "Frame: 0\n",
      "Added appearance for \"o5\" in frame 0 with seed coordinates [ 200.  265.   12.]\n",
      "      Optimum energy:  85762.0\n",
      "      Nodes in/out:  7020 8340\n",
      "Len: 1\n",
      "Frame: 0\n",
      "Added appearance for \"o6\" in frame 0 with seed coordinates [ 220.  335.   20.]\n",
      "      Optimum energy:  83482.0\n",
      "      Nodes in/out:  7121 8239\n"
     ]
    }
   ],
   "source": [
    "oseeds = [( 70,205,12),\n",
    "          (145,170,12),\n",
    "          ( 50,160,12),\n",
    "          (105,140,12),\n",
    "          (190,220,12),\n",
    "          (200,265,12),\n",
    "          (220,335,20)]\n",
    "for i in range(len(oseeds)):\n",
    "    data.add_object_at( others[i], min_rs, max_rs, frame=0, seed=oseeds[i], segment_it=True )\n",
    "    data.track(others[i], seed_frame=0, target_frames=range(1,len(data.images)), recenter_iterations=1)"
   ]
  },
  {
   "cell_type": "markdown",
   "metadata": {},
   "source": [
    "# Save / Load"
   ]
  },
  {
   "cell_type": "code",
   "execution_count": 8,
   "metadata": {},
   "outputs": [],
   "source": [
    "data.save('/Users/prakash/Desktop/092216_PH-mCherry-02_w2SD mCherry.pkl')"
   ]
  },
  {
   "cell_type": "code",
   "execution_count": 9,
   "metadata": {},
   "outputs": [
    {
     "name": "stdout",
     "output_type": "stream",
     "text": [
      "Dimensions of frame 0 :  (31, 512, 512)\n",
      "Working on \"Ea\" (object 1 of 2 )...\n",
      "   Segmenting in frame 0...\n",
      "      Optimum energy:  95372.0\n",
      "      Nodes in/out:  7366 7994\n",
      "      Volume:  40851.99999999993\n",
      "Working on \"Ep\" (object 2 of 2 )...\n",
      "   Segmenting in frame 0...\n",
      "      Optimum energy:  88083.0\n",
      "      Nodes in/out:  7008 8352\n",
      "      Volume:  37384.166666666606\n"
     ]
    }
   ],
   "source": [
    "data = Data4d( [], silent=False )\n",
    "data.load('/Users/prakash/Desktop/092216_PH-mCherry-02_w2SD mCherry.pkl')\n",
    "objects = range(len(data.object_names))\n",
    "ecells = [0,1]\n",
    "neighbors = range(2,2+12)\n",
    "others = range(2+12,2+12+7)"
   ]
  },
  {
   "cell_type": "markdown",
   "metadata": {},
   "source": [
    "# Visualisation stuff "
   ]
  },
  {
   "cell_type": "code",
   "execution_count": 12,
   "metadata": {},
   "outputs": [],
   "source": [
    "w = data.show_frame(0,stackUnits=[1.,1.,5.],raise_window=True)\n",
    "data.show_objects(ecells, show_surfaces=True, show_centers=True, colors=data.colors_gold)\n",
    "#try:\n",
    "#    data.show_objects(neighbors, show_surfaces=True, show_centers=True, colors=data.colors_green)\n",
    "#    data.show_objects(others, show_surfaces=True, show_centers=True, colors=data.colors_blue)\n",
    "#except:\n",
    "#    None\n",
    "#data.show_objects(neighbors, show_surfaces=True, show_centers=True, colors=data.colors_green)"
   ]
  },
  {
   "cell_type": "code",
   "execution_count": 11,
   "metadata": {},
   "outputs": [
    {
     "name": "stderr",
     "output_type": "stream",
     "text": [
      "INFO:spimagine.gui.glwidget | saving frame as frame0.jpg\n"
     ]
    },
    {
     "name": "stdout",
     "output_type": "stream",
     "text": [
      "Exporting frame  1 of 1\n"
     ]
    }
   ],
   "source": [
    "for f in range(len(data.images)):\n",
    "    print ('Exporting frame ',f+1,'of',len(data.images))\n",
    "    w = data.show_frame(f,stackUnits=[1.,1.,5.],raise_window=False)\n",
    "    data.show_objects(ecells, show_surfaces=True, show_centers=True, colors=data.colors_gold)\n",
    "    try:\n",
    "        data.show_objects(neighbors, show_surfaces=True, show_centers=True, colors=data.colors_green)\n",
    "        data.show_objects(others, show_surfaces=True, show_centers=True, colors=data.colors_blue)\n",
    "    except:\n",
    "        None\n",
    "    data.save_current_visualization( 'frame'+str(f)+'.jpg' )"
   ]
  },
  {
   "cell_type": "code",
   "execution_count": 17,
   "metadata": {},
   "outputs": [
    {
     "data": {
      "text/plain": [
       "[40851.99999999993]"
      ]
     },
     "execution_count": 17,
     "metadata": {},
     "output_type": "execute_result"
    }
   ],
   "source": [
    "data.object_volumes[Ea]"
   ]
  },
  {
   "cell_type": "code",
   "execution_count": null,
   "metadata": {
    "collapsed": true
   },
   "outputs": [],
   "source": []
  }
 ],
 "metadata": {
  "kernelspec": {
   "display_name": "Python 3",
   "language": "python",
   "name": "python3"
  },
  "language_info": {
   "codemirror_mode": {
    "name": "ipython",
    "version": 3
   },
   "file_extension": ".py",
   "mimetype": "text/x-python",
   "name": "python",
   "nbconvert_exporter": "python",
   "pygments_lexer": "ipython3",
   "version": "3.6.1"
  }
 },
 "nbformat": 4,
 "nbformat_minor": 1
}
