{
 "cells": [
  {
   "cell_type": "code",
   "execution_count": 12,
   "metadata": {},
   "outputs": [],
   "source": [
    "import time\n",
    "import copy\n",
    "import numpy as np\n",
    "from skimage.filters import gaussian_filter\n",
    "\n",
    "from tifffile import imread, imsave\n",
    "import pickle\n",
    "\n",
    "import matplotlib.pyplot as plt\n",
    "\n",
    "from spimagine import volfig, volshow\n",
    "from spimagine import EllipsoidMesh, Mesh\n",
    "\n",
    "%reload_ext autoreload\n",
    "%autoreload 2\n",
    "%matplotlib qt\n",
    "\n",
    "from netsurface3d import NetSurf3d\n",
    "from data4d import Data4d\n",
    "\n",
    "# import os\n",
    "# os.environ['PYOPENCL_COMPILER_OUTPUT'] = '1'"
   ]
  },
  {
   "cell_type": "code",
   "execution_count": null,
   "metadata": {},
   "outputs": [],
   "source": [
    "filenames = [#'/Users/prakash/Desktop/BobSegDataAndResults/GoodData/2018-06-05_fromMark/20180604_LP823_Control-01_Uncoupled/full_embryo/20180604_LP823_Control-01-01_cropcopy.TIF',\n",
    "#             '/Users/prakash/Desktop/BobSegDataAndResults/GoodData/2018-06-05_fromMark/20180604_LP823_Control-01_Uncoupled/full_embryo/20180604_LP823_Control-01-03.TIF']\n",
    "#             '/Users/prakash/Desktop/BobSegDataAndResults/GoodData/2018-06-05_fromMark/20180604_LP823_Control-01_Coupled/full_embryo/20180604_LP823_Control-01-05.TIF'] #,\n",
    "             '/Users/prakash/Desktop/BobSegDataAndResults/GoodData/2018-06-05_fromMark/20180604_LP823_Control-03_Coupled/full_embryo/20180604_LP823_Control-03-04_cropcopy.TIF',\n",
    "             '/Users/prakash/Desktop/BobSegDataAndResults/GoodData/2018-06-05_fromMark/20180604_LP823_Control-03_Coupled/full_embryo/20180604_LP823_Control-03-06.TIF']#,\n",
    "#             '/Users/jug/Dropbox/ProjectGoldstein/2016-09-22_fromMark/092216_PH-mCherry-02_w2SD mCherry_t6.TIF',\n",
    "#             '/Users/jug/Dropbox/ProjectGoldstein/2016-09-22_fromMark/092216_PH-mCherry-02_w2SD mCherry_t7.TIF',\n",
    "#             '/Users/jug/Dropbox/ProjectGoldstein/2016-09-22_fromMark/092216_PH-mCherry-02_w2SD mCherry_t8.TIF',\n",
    "#             '/Users/jug/Dropbox/ProjectGoldstein/2016-09-22_fromMark/092216_PH-mCherry-02_w2SD mCherry_t9.TIF',\n",
    "#             '/Users/jug/Dropbox/ProjectGoldstein/2016-09-22_fromMark/092216_PH-mCherry-02_w2SD mCherry_t10.TIF',\n",
    "#             '/Users/jug/Dropbox/ProjectGoldstein/2016-09-22_fromMark/092216_PH-mCherry-02_w2SD mCherry_t11.TIF',\n",
    "#             '/Users/jug/Dropbox/ProjectGoldstein/2016-09-22_fromMark/092216_PH-mCherry-02_w2SD mCherry_t12.TIF']"
   ]
  },
  {
   "cell_type": "code",
   "execution_count": 2,
   "metadata": {},
   "outputs": [
    {
     "ename": "NameError",
     "evalue": "name 'Data4d' is not defined",
     "output_type": "error",
     "traceback": [
      "\u001b[0;31m---------------------------------------------------------------------------\u001b[0m",
      "\u001b[0;31mNameError\u001b[0m                                 Traceback (most recent call last)",
      "\u001b[0;32m<ipython-input-2-1e190f56fcf8>\u001b[0m in \u001b[0;36m<module>\u001b[0;34m()\u001b[0m\n\u001b[0;32m----> 1\u001b[0;31m \u001b[0mdata\u001b[0m \u001b[0;34m=\u001b[0m \u001b[0mData4d\u001b[0m\u001b[0;34m(\u001b[0m \u001b[0mfilenames\u001b[0m\u001b[0;34m,\u001b[0m \u001b[0mpixelsize\u001b[0m\u001b[0;34m=\u001b[0m\u001b[0;34m(\u001b[0m\u001b[0;36m1.\u001b[0m\u001b[0;34m,\u001b[0m\u001b[0;36m1.\u001b[0m\u001b[0;34m,\u001b[0m\u001b[0;36m5.\u001b[0m\u001b[0;34m)\u001b[0m\u001b[0;34m,\u001b[0m \u001b[0msilent\u001b[0m\u001b[0;34m=\u001b[0m\u001b[0;32mFalse\u001b[0m \u001b[0;34m)\u001b[0m\u001b[0;34m\u001b[0m\u001b[0m\n\u001b[0m\u001b[1;32m      2\u001b[0m \u001b[0mdata\u001b[0m\u001b[0;34m.\u001b[0m\u001b[0mset_seg_params\u001b[0m\u001b[0;34m(\u001b[0m\u001b[0mK\u001b[0m\u001b[0;34m=\u001b[0m\u001b[0;36m30\u001b[0m\u001b[0;34m,\u001b[0m\u001b[0mmax_delta_k\u001b[0m\u001b[0;34m=\u001b[0m\u001b[0;36m4\u001b[0m\u001b[0;34m)\u001b[0m\u001b[0;34m\u001b[0m\u001b[0m\n\u001b[1;32m      3\u001b[0m \u001b[0mobjects\u001b[0m \u001b[0;34m=\u001b[0m \u001b[0;34m[\u001b[0m\u001b[0;34m]\u001b[0m\u001b[0;34m\u001b[0m\u001b[0m\n\u001b[1;32m      4\u001b[0m \u001b[0mecells\u001b[0m \u001b[0;34m=\u001b[0m \u001b[0;34m[\u001b[0m\u001b[0;34m]\u001b[0m\u001b[0;34m\u001b[0m\u001b[0m\n",
      "\u001b[0;31mNameError\u001b[0m: name 'Data4d' is not defined"
     ]
    }
   ],
   "source": [
    "data = Data4d( filenames, pixelsize=(1.,1.,5.), silent=False )\n",
    "data.set_seg_params(K=30,max_delta_k=4)\n",
    "objects = []\n",
    "ecells = []"
   ]
  },
  {
   "cell_type": "markdown",
   "metadata": {},
   "source": [
    "Min radius and max radius at which to look for cells (around center points (seed points))"
   ]
  },
  {
   "cell_type": "code",
   "execution_count": 4,
   "metadata": {
    "collapsed": true
   },
   "outputs": [],
   "source": [
    "max_rs = (data.images[0].shape[2] / 8,\n",
    "          data.images[0].shape[1] / 8,\n",
    "          data.images[0].shape[0] / 2)\n",
    "\n",
    "min_rs = (5,5,1)"
   ]
  },
  {
   "cell_type": "markdown",
   "metadata": {},
   "source": [
    "## adding E cells"
   ]
  },
  {
   "cell_type": "code",
   "execution_count": 5,
   "metadata": {
    "collapsed": true
   },
   "outputs": [],
   "source": [
    "Ea = data.init_object(\"Ea\")\n",
    "objects.append(Ea)\n",
    "ecells.append(Ea)\n",
    "\n",
    "Ep = data.init_object(\"Ep\")\n",
    "objects.append(Ep)\n",
    "ecells.append(Ep)\n",
    "\n",
    "Ea2 = data.init_object(\"Ea2\")\n",
    "objects.append(Ea2)\n",
    "ecells.append(Ea2)\n",
    "\n",
    "Ep2 = data.init_object(\"Ep2\")\n",
    "objects.append(Ep2)\n",
    "ecells.append(Ep2)"
   ]
  },
  {
   "cell_type": "code",
   "execution_count": 6,
   "metadata": {
    "collapsed": true
   },
   "outputs": [],
   "source": [
    "#For files 1 and 2\n",
    "#Ea:(165,405,13),Ep:(214,288,13), Ea1:(730,206,13), Ep1:(800,295,12)\n",
    "#For file 3\n",
    "#Ea:(177,413,19),Ep:(221,300,19), Ea1:(710,207,13), Ep1:(757,315,19)\n",
    "#For files 4"
   ]
  },
  {
   "cell_type": "code",
   "execution_count": 7,
   "metadata": {
    "scrolled": true
   },
   "outputs": [
    {
     "name": "stdout",
     "output_type": "stream",
     "text": [
      "Added appearance for \"Ea\" in frame 0 with seed coordinates [ 225.  600.    6.]\n",
      "      Optimum energy:  67902.0\n",
      "      Nodes in/out:  6773 8587\n",
      "Added appearance for \"Ea\" in frame 1 with seed coordinates [ 225.  600.    6.]\n",
      "      Optimum energy:  69901.0\n",
      "      Nodes in/out:  6019 9341\n",
      "    Updated center to [ 226.5         602.99023438    5.12695312]\n"
     ]
    }
   ],
   "source": [
    "#data.add_object_at( Ea, min_rs, max_rs, frame=0, seed=(110,300,12), frame_to=11, seed_to=(105,310,16), segment_it=True )\n",
    "data.add_object_at( Ea, min_rs, max_rs, frame=0, seed=(225,600,6), segment_it=True )\n",
    "data.track(Ea, seed_frame=0, target_frames=range(1,len(data.images)), recenter_iterations=1)"
   ]
  },
  {
   "cell_type": "code",
   "execution_count": 8,
   "metadata": {
    "scrolled": true
   },
   "outputs": [
    {
     "name": "stdout",
     "output_type": "stream",
     "text": [
      "Added appearance for \"Ep\" in frame 0 with seed coordinates [ 300.  640.   13.]\n",
      "      Optimum energy:  63436.0\n",
      "      Nodes in/out:  8581 6779\n",
      "Added appearance for \"Ep\" in frame 1 with seed coordinates [ 300.  640.   13.]\n",
      "      Optimum energy:  63565.0\n",
      "      Nodes in/out:  8385 6975\n",
      "    Updated center to [ 295.703125    633.1875       14.50195312]\n"
     ]
    }
   ],
   "source": [
    "#data.add_object_at( Ep, min_rs, max_rs, frame=0, seed=(110,350,12), frame_to=11, seed_to=(140,360,16), segment_it=True )\n",
    "data.add_object_at( Ep, min_rs, max_rs, frame=0, seed=(300,640,13), segment_it=True )\n",
    "data.track(Ep, seed_frame=0, target_frames=range(1,len(data.images)), recenter_iterations=1)"
   ]
  },
  {
   "cell_type": "code",
   "execution_count": 9,
   "metadata": {},
   "outputs": [
    {
     "name": "stdout",
     "output_type": "stream",
     "text": [
      "Added appearance for \"Ea2\" in frame 0 with seed coordinates [ 770.  580.   13.]\n",
      "      Optimum energy:  62991.0\n",
      "      Nodes in/out:  9792 5568\n",
      "Added appearance for \"Ea2\" in frame 1 with seed coordinates [ 770.  580.   13.]\n",
      "      Optimum energy:  65355.0\n",
      "      Nodes in/out:  8973 6387\n",
      "    Updated center to [ 779.890625    581.73242188   13.98046875]\n"
     ]
    }
   ],
   "source": [
    "#data.add_object_at( Ea, min_rs, max_rs, frame=0, seed=(110,300,12), frame_to=11, seed_to=(105,310,16), segment_it=True )\n",
    "data.add_object_at( Ea2, min_rs, max_rs, frame=0, seed=(770,580,13), segment_it=True )\n",
    "data.track(Ea2, seed_frame=0, target_frames=range(1,len(data.images)), recenter_iterations=1)"
   ]
  },
  {
   "cell_type": "code",
   "execution_count": 10,
   "metadata": {},
   "outputs": [
    {
     "name": "stdout",
     "output_type": "stream",
     "text": [
      "Added appearance for \"Ep2\" in frame 0 with seed coordinates [ 705.  475.   13.]\n",
      "      Optimum energy:  64916.0\n",
      "      Nodes in/out:  10112 5248\n",
      "Added appearance for \"Ep2\" in frame 1 with seed coordinates [ 705.  475.   13.]\n",
      "      Optimum energy:  81545.0\n",
      "      Nodes in/out:  6694 8666\n",
      "    Updated center to [ 725.15429688  475.41210938   14.703125  ]\n"
     ]
    }
   ],
   "source": [
    "#data.add_object_at( Ea, min_rs, max_rs, frame=0, seed=(110,300,12), frame_to=11, seed_to=(105,310,16), segment_it=True )\n",
    "data.add_object_at( Ep2, min_rs, max_rs, frame=0, seed=(705,475,13), segment_it=True )\n",
    "data.track(Ep2, seed_frame=0, target_frames=range(1,len(data.images)), recenter_iterations=1)"
   ]
  },
  {
   "cell_type": "markdown",
   "metadata": {},
   "source": [
    "# Visualisation stuff "
   ]
  },
  {
   "cell_type": "code",
   "execution_count": 11,
   "metadata": {},
   "outputs": [
    {
     "name": "stdout",
     "output_type": "stream",
     "text": [
      "Exporting frame  1 of 2\n"
     ]
    },
    {
     "name": "stderr",
     "output_type": "stream",
     "text": [
      "/Users/prakash/anaconda/lib/python3.6/site-packages/pyopencl/cffi_cl.py:1521: CompilerWarning: Non-empty compiler output encountered. Set the environment variable PYOPENCL_COMPILER_OUTPUT=1 to see more.\n",
      "  \"to see more.\", CompilerWarning)\n",
      "INFO:spimagine.gui.glwidget | saving frame as frame0.jpg\n",
      "INFO:spimagine.gui.glwidget | saving frame as frame1.jpg\n"
     ]
    },
    {
     "name": "stdout",
     "output_type": "stream",
     "text": [
      "Exporting frame  2 of 2\n"
     ]
    }
   ],
   "source": [
    "for f in range(len(data.images)):\n",
    "    print ('Exporting frame ',f+1,'of',len(data.images))\n",
    "    w = data.show_frame(f,stackUnits=[1.,1.,5.],raise_window=False)\n",
    "    data.show_objects(ecells, show_surfaces=True, show_centers=True, colors=data.colors_gold)\n",
    "    try:\n",
    "        data.show_objects(neighbors, show_surfaces=True, show_centers=True, colors=data.colors_green)\n",
    "        data.show_objects(others, show_surfaces=True, show_centers=True, colors=data.colors_blue)\n",
    "    except:\n",
    "        None\n",
    "    data.save_current_visualization( 'frame'+str(f)+'.jpg' )"
   ]
  },
  {
   "cell_type": "code",
   "execution_count": null,
   "metadata": {
    "collapsed": true
   },
   "outputs": [],
   "source": [
    "data.object_volumes[Ea]"
   ]
  },
  {
   "cell_type": "code",
   "execution_count": null,
   "metadata": {
    "collapsed": true
   },
   "outputs": [],
   "source": []
  }
 ],
 "metadata": {
  "kernelspec": {
   "display_name": "Python [default]",
   "language": "python",
   "name": "python3"
  },
  "language_info": {
   "codemirror_mode": {
    "name": "ipython",
    "version": 3
   },
   "file_extension": ".py",
   "mimetype": "text/x-python",
   "name": "python",
   "nbconvert_exporter": "python",
   "pygments_lexer": "ipython3",
   "version": "3.5.5"
  }
 },
 "nbformat": 4,
 "nbformat_minor": 1
}
