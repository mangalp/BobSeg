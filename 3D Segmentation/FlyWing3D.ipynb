{
 "cells": [
  {
   "cell_type": "code",
   "execution_count": 1,
   "metadata": {},
   "outputs": [
    {
     "name": "stdout",
     "output_type": "stream",
     "text": [
      "no scikit-tensor detected, so separable functions wont work\n",
      "This is a python3 issue and can be resolved by:\n",
      "\n",
      "git clone https://github.com/mnick/scikit-tensor.git\n",
      "pip3 install scikit-tensor\n"
     ]
    }
   ],
   "source": [
    "import time\n",
    "import copy\n",
    "import numpy as np\n",
    "from skimage.filters import gaussian_filter\n",
    "\n",
    "from tifffile import imread, imsave\n",
    "import pickle\n",
    "\n",
    "import matplotlib.pyplot as plt\n",
    "\n",
    "from spimagine import volfig, volshow\n",
    "from spimagine import EllipsoidMesh, Mesh\n",
    "\n",
    "%reload_ext autoreload\n",
    "%autoreload 2\n",
    "%matplotlib qt\n",
    "\n",
    "from netsurface3d import NetSurf3d\n",
    "from data4d import Data4d\n",
    "\n",
    "# import os\n",
    "# os.environ['PYOPENCL_COMPILER_OUTPUT'] = '1'"
   ]
  },
  {
   "cell_type": "code",
   "execution_count": 2,
   "metadata": {},
   "outputs": [],
   "source": [
    "filenames = ['/Users/prakash/Desktop/FlyWingData/ForPrakash/FlySegCropped.tif']"
   ]
  },
  {
   "cell_type": "code",
   "execution_count": 3,
   "metadata": {},
   "outputs": [
    {
     "name": "stdout",
     "output_type": "stream",
     "text": [
      "Dimensions of frame 0 :  (120, 1943, 1943)\n"
     ]
    }
   ],
   "source": [
    "data = Data4d( filenames, pixelsize=(1.,1.,5.), silent=False )\n",
    "data.set_seg_params(K=30,max_delta_k=4)\n",
    "objects = []\n",
    "ecells = []"
   ]
  },
  {
   "cell_type": "code",
   "execution_count": 4,
   "metadata": {},
   "outputs": [],
   "source": [
    "max_rs = (data.images[0].shape[2] / 3,\n",
    "          data.images[0].shape[1] / 3,\n",
    "          data.images[0].shape[0] / 2)\n",
    "\n",
    "min_rs = (5,5,1)"
   ]
  },
  {
   "cell_type": "markdown",
   "metadata": {},
   "source": [
    "## adding cells"
   ]
  },
  {
   "cell_type": "code",
   "execution_count": 5,
   "metadata": {},
   "outputs": [],
   "source": [
    "E1 = data.init_object(\"E1\")\n",
    "objects.append(E1)\n",
    "ecells.append(E1)\n",
    "\n",
    "E2 = data.init_object(\"E2\")\n",
    "objects.append(E2)\n",
    "ecells.append(E2)\n",
    "\n",
    "E3 = data.init_object(\"E3\")\n",
    "objects.append(E3)\n",
    "ecells.append(E3)\n",
    "\n",
    "E4 = data.init_object(\"E4\")\n",
    "objects.append(E4)\n",
    "ecells.append(E4)\n",
    "\n",
    "E5 = data.init_object(\"E5\")\n",
    "objects.append(E5)\n",
    "ecells.append(E5)"
   ]
  },
  {
   "cell_type": "code",
   "execution_count": 6,
   "metadata": {},
   "outputs": [
    {
     "name": "stdout",
     "output_type": "stream",
     "text": [
      "Added appearance for \"E1\" in frame 0 with seed coordinates [1051.  857.   40.]\n",
      "      Optimum energy:  27600893.0\n",
      "      Nodes in/out:  9380 5980\n",
      "Added appearance for \"E2\" in frame 0 with seed coordinates [362. 644. 113.]\n",
      "      Optimum energy:  28177070.0\n",
      "      Nodes in/out:  4748 10612\n",
      "Added appearance for \"E3\" in frame 0 with seed coordinates [795. 865.  96.]\n",
      "      Optimum energy:  27970702.0\n",
      "      Nodes in/out:  10143 5217\n",
      "Added appearance for \"E4\" in frame 0 with seed coordinates [ 84. 595.  96.]\n",
      "      Optimum energy:  30952392.0\n",
      "      Nodes in/out:  4122 11238\n",
      "Added appearance for \"E5\" in frame 0 with seed coordinates [1087.  499.   96.]\n",
      "      Optimum energy:  20202875.0\n",
      "      Nodes in/out:  6712 8648\n"
     ]
    }
   ],
   "source": [
    "#data.add_object_at( Ea, min_rs, max_rs, frame=0, seed=(110,300,12), frame_to=11, seed_to=(105,310,16), segment_it=True )\n",
    "data.add_object_at( E1, min_rs, max_rs, frame=0, seed=(1051,857,40), segment_it=True )\n",
    "data.track(E1, seed_frame=0, target_frames=range(1,len(data.images)), recenter_iterations=1)\n",
    "\n",
    "data.add_object_at( E2, min_rs, max_rs, frame=0, seed=(362,644,113), segment_it=True )\n",
    "data.track(E2, seed_frame=0, target_frames=range(1,len(data.images)), recenter_iterations=1)\n",
    "\n",
    "data.add_object_at( E3, min_rs, max_rs, frame=0, seed=(795,865,96), segment_it=True )\n",
    "data.track(E3, seed_frame=0, target_frames=range(1,len(data.images)), recenter_iterations=1)\n",
    "\n",
    "data.add_object_at( E4, min_rs, max_rs, frame=0, seed=(84,595,96), segment_it=True )\n",
    "data.track(E4, seed_frame=0, target_frames=range(1,len(data.images)), recenter_iterations=1)\n",
    "\n",
    "data.add_object_at( E5, min_rs, max_rs, frame=0, seed=(1087,499,96), segment_it=True )\n",
    "data.track(E5, seed_frame=0, target_frames=range(1,len(data.images)), recenter_iterations=1)"
   ]
  },
  {
   "cell_type": "code",
   "execution_count": 8,
   "metadata": {},
   "outputs": [
    {
     "name": "stdout",
     "output_type": "stream",
     "text": [
      "Exporting frame  1 of 1\n"
     ]
    },
    {
     "name": "stderr",
     "output_type": "stream",
     "text": [
      "INFO:spimagine.gui.glwidget | saving frame as frame0.jpg\n"
     ]
    },
    {
     "name": "stdout",
     "output_type": "stream",
     "text": [
      "/Users/prakash/Git-repos/BoBSeg3D/BobSeg\n"
     ]
    }
   ],
   "source": [
    "for f in range(len(data.images)):\n",
    "    print ('Exporting frame ',f+1,'of',len(data.images))\n",
    "    w = data.show_frame(f,stackUnits=[1.,1.,5.],raise_window=False)\n",
    "    data.show_objects(ecells, show_surfaces=True, show_centers=True, colors=data.colors_gold)\n",
    "    try:\n",
    "        data.show_objects(neighbors, show_surfaces=True, show_centers=True, colors=data.colors_green)\n",
    "        data.show_objects(others, show_surfaces=True, show_centers=True, colors=data.colors_blue)\n",
    "    except:\n",
    "        None\n",
    "    data.save_current_visualization( 'frame'+str(f)+'.jpg' )"
   ]
  },
  {
   "cell_type": "code",
   "execution_count": null,
   "metadata": {},
   "outputs": [],
   "source": []
  }
 ],
 "metadata": {
  "kernelspec": {
   "display_name": "Python [conda env:py35forBobSeg]",
   "language": "python",
   "name": "conda-env-py35forBobSeg-py"
  },
  "language_info": {
   "codemirror_mode": {
    "name": "ipython",
    "version": 3
   },
   "file_extension": ".py",
   "mimetype": "text/x-python",
   "name": "python",
   "nbconvert_exporter": "python",
   "pygments_lexer": "ipython3",
   "version": "3.5.5"
  }
 },
 "nbformat": 4,
 "nbformat_minor": 2
}
