{
 "cells": [
  {
   "cell_type": "code",
   "execution_count": 1,
   "metadata": {},
   "outputs": [
    {
     "name": "stdout",
     "output_type": "stream",
     "text": [
      "Populating the interactive namespace from numpy and matplotlib\n"
     ]
    },
    {
     "name": "stderr",
     "output_type": "stream",
     "text": [
      "/Users/prakash/anaconda/envs/Py35forBobSeg/lib/python3.5/site-packages/IPython/core/magics/pylab.py:160: UserWarning: pylab import has clobbered these variables: ['copy']\n",
      "`%matplotlib` prevents importing * from pylab and numpy\n",
      "  \"\\n`%matplotlib` prevents importing * from pylab and numpy\"\n"
     ]
    }
   ],
   "source": [
    "import time\n",
    "import copy\n",
    "import numpy as np\n",
    "from skimage.filters import gaussian\n",
    "import cv2 \n",
    "\n",
    "import matplotlib.pyplot as plt\n",
    "import pylab as pl\n",
    "\n",
    "\n",
    "\n",
    "%matplotlib inline\n",
    "%pylab inline\n",
    "pylab.rcParams['figure.figsize'] = (15, 10)\n",
    "\n",
    "from tifffile import imread, imsave\n",
    "import pickle\n",
    "import bobsegutils as bsu\n",
    "\n",
    "from skimage.draw import circle\n",
    "\n",
    "import csv\n",
    "\n",
    "from skimage import io\n",
    "\n",
    "import math\n"
   ]
  },
  {
   "cell_type": "raw",
   "metadata": {},
   "source": [
    "Select the myosin coordinates that need to be tracked and track them manually. Then, save the coordinates of the\n",
    "tracked myosin in a csv file. After that, run the following cell which picks out just the coordinates from the csv file and rewrites them as a new csv file."
   ]
  },
  {
   "cell_type": "code",
   "execution_count": 2,
   "metadata": {
    "collapsed": true
   },
   "outputs": [],
   "source": [
    "### Read the results csv file, delete all entries which are not coordinates and write it as a new csv file\n",
    "for i in range(1,20,1):\n",
    "    #with open(\"/Users/prakash/Desktop/BobSegDataAndResults/FlowQuantification/time\"+str(i)+\"-\"+str(i+1)+\"/time_00\"+str(i+1)+\".csv\",\"r\") as source:\n",
    "    with open(\"/Users/prakash/Desktop/FlowQuantification/time\"+str(i)+\"-\"+str(i+1)+\"/time_00\"+str(i+1)+\".csv\",\"r\") as source:\n",
    "        rdr= csv.reader( source )\n",
    "        with open(\"/Users/prakash/Desktop/FlowQuantification/time\"+str(i)+\"-\"+str(i+1)+\"/\"+\"Resultstime\"+str(i)+\"-\"+str(i+1)+\".csv\",\"w\") as result:\n",
    "        #with open(\"/Users/prakash/Desktop/BobSegDataAndResults/FlowQuantification/time\"+str(i)+\"-\"+str(i+1)+\"/\"+\"Resultstime\"+str(i)+\"-\"+str(i+1)+\".csv\",\"w\") as result:\n",
    "            wtr= csv.writer( result )\n",
    "            for r in rdr:\n",
    "                wtr.writerow( (r[5], r[6]) )"
   ]
  },
  {
   "cell_type": "markdown",
   "metadata": {},
   "source": [
    "### The manually tracked coordinates from Fiji are processed before plotting"
   ]
  },
  {
   "cell_type": "code",
   "execution_count": 3,
   "metadata": {
    "collapsed": true
   },
   "outputs": [],
   "source": [
    "def load_file(filename):\n",
    "    '''Make a list of tuples from a csv file\n",
    "    '''\n",
    "    fp = open(filename, 'Ur')\n",
    "    data_list = []\n",
    "    for line in fp:\n",
    "        data_list.append(tuple((line.strip().split(','))))\n",
    "    fp.close()\n",
    "    return data_list"
   ]
  },
  {
   "cell_type": "code",
   "execution_count": 4,
   "metadata": {
    "scrolled": true
   },
   "outputs": [
    {
     "name": "stderr",
     "output_type": "stream",
     "text": [
      "/Users/prakash/anaconda/envs/Py35forBobSeg/lib/python3.5/site-packages/ipykernel/__main__.py:4: DeprecationWarning: 'U' mode is deprecated\n"
     ]
    }
   ],
   "source": [
    "# The above created list elememts are string, we convert them to float below\n",
    "center_points = []\n",
    "manual_track_points = []\n",
    "for f in range(1,8,1):\n",
    "    #data_list = load_file(\"/Users/prakash/Desktop/BobSegDataAndResults/FlowQuantification/time\"+str(f)+\"-\"+str(f+1)+\"/Resultstime\"+str(f)+\"-\"+str(f+1)+\".csv\")\n",
    "    data_list = load_file(\"/Users/prakash/Desktop/FlowQuantification/time\"+str(f)+\"-\"+str(f+1)+\"/Resultstime\"+str(f)+\"-\"+str(f+1)+\".csv\")\n",
    "    datal = data_list[1:] # Ignoring the header row (first row of csv file)\n",
    "    half = int(len(datal)/2)\n",
    "    string_first_half = datal[0:half]\n",
    "    string_second_half = datal[half:]\n",
    "    float_first_half_list = []\n",
    "    float_second_half_list = []\n",
    "    for element in range(len(string_first_half)):\n",
    "        number_element_first_half = []\n",
    "        number_element_second_half = []\n",
    "        number_element_first_half.append((float(string_first_half[element][0])))\n",
    "        number_element_first_half.append((float(string_first_half[element][1])))\n",
    "        float_first_half_list.append(tuple(number_element_first_half))\n",
    "        number_element_second_half.append((float(string_second_half[element][0])))\n",
    "        number_element_second_half.append((float(string_second_half[element][1])))\n",
    "        float_second_half_list.append(tuple(number_element_second_half))\n",
    "    center_points.append(float_first_half_list)\n",
    "    manual_track_points.append(float_second_half_list)"
   ]
  },
  {
   "cell_type": "markdown",
   "metadata": {},
   "source": [
    "The cell below makes a flat list out of maunal_track_points and center_points"
   ]
  },
  {
   "cell_type": "code",
   "execution_count": 5,
   "metadata": {
    "collapsed": true,
    "scrolled": true
   },
   "outputs": [],
   "source": [
    "center_points_flat_list = [item for sublist in center_points for item in sublist]\n",
    "manual_track_points_flat_list = [item for sublist in manual_track_points for item in sublist]"
   ]
  },
  {
   "cell_type": "markdown",
   "metadata": {},
   "source": [
    "### Optical Flow computation "
   ]
  },
  {
   "cell_type": "code",
   "execution_count": 7,
   "metadata": {
    "scrolled": true
   },
   "outputs": [
    {
     "name": "stdout",
     "output_type": "stream",
     "text": [
      "Shape of stack: (61, 896, 1086)\n"
     ]
    }
   ],
   "source": [
    "filename = '/Users/prakash/Desktop/BobSegDataAndResults/GoodData/2018-06-05_fromMark/20180604_LP823_Control-03_Coupled/MyosinStack.tif'\n",
    "myosin_channel = imread(filename)\n",
    "\n",
    "print('Shape of stack:', myosin_channel.shape)\n",
    "sigma = [0.,2,2]\n",
    "myosin_channel_smooth = gaussian(myosin_channel,sigma)\n",
    "myosin_channel = myosin_channel.astype(double)"
   ]
  },
  {
   "cell_type": "code",
   "execution_count": 8,
   "metadata": {
    "collapsed": true
   },
   "outputs": [],
   "source": [
    "### Parameter dependent caorse2FineFlow"
   ]
  },
  {
   "cell_type": "code",
   "execution_count": 10,
   "metadata": {
    "collapsed": true
   },
   "outputs": [],
   "source": [
    "from pyflow import pyflow\n",
    "def parameter_dependent_compute_coarse2fineFlow(flowchannel,alpha,ratio,minWidth,nOuterFPIterations,nInnerFPIterations,nSORIterations):\n",
    "    '''Computes the Corse2Fine dense flow for the given movie\n",
    "    '''\n",
    "    flows = []\n",
    "    prvs = flowchannel[0]\n",
    "    prvs = prvs[:, :, np.newaxis]\n",
    "    colType = 1  # 0 or default:RGB, 1:GRAY (but pass gray image with shape (h,w,1))\n",
    "    \n",
    "    for f in range(flowchannel.shape[0]):\n",
    "        nxt = flowchannel[f]\n",
    "        nxt = nxt[:,:,np.newaxis]\n",
    "        \n",
    "        u, v, im2W = pyflow.coarse2fine_flow(prvs, nxt, alpha, ratio, minWidth, nOuterFPIterations, nInnerFPIterations,nSORIterations, colType)\n",
    "        flow = np.concatenate((u[..., None], v[..., None]), axis=2)\n",
    "\n",
    "        flows.append(flow)\n",
    "        prvs = nxt\n",
    "        \n",
    "    print(\"alpha:\", alpha, \"ratio:\", ratio, \"minWidth:\", minWidth, \"nOuterFP:\", nOuterFPIterations)\n",
    "    return flows"
   ]
  },
  {
   "cell_type": "code",
   "execution_count": 9,
   "metadata": {
    "collapsed": true
   },
   "outputs": [],
   "source": [
    "initial_alpha = 0.01\n",
    "initial_ratio = 0.55\n",
    "initial_minWidth = 10\n",
    "initial_nOuterFPIterations = 7\n",
    "initial_nInnerFPIterations = 1\n",
    "initial_nSORIterations = 20\n",
    "best_relative_offset = 1000000"
   ]
  },
  {
   "cell_type": "code",
   "execution_count": 11,
   "metadata": {},
   "outputs": [
    {
     "name": "stdout",
     "output_type": "stream",
     "text": [
      "Here!\n",
      "alpha: 0.01 ratio: 0.15 minWidth: 10 nOuterFP: 5\n",
      "Here!\n"
     ]
    },
    {
     "ename": "KeyboardInterrupt",
     "evalue": "",
     "output_type": "error",
     "traceback": [
      "\u001b[0;31m---------------------------------------------------------------------------\u001b[0m",
      "\u001b[0;31mKeyboardInterrupt\u001b[0m                         Traceback (most recent call last)",
      "\u001b[0;32m<ipython-input-11-fe65b9fee7e1>\u001b[0m in \u001b[0;36m<module>\u001b[0;34m()\u001b[0m\n\u001b[1;32m     13\u001b[0m                     \u001b[0;32mwhile\u001b[0m\u001b[0;34m(\u001b[0m\u001b[0mnSORIterations\u001b[0m\u001b[0;34m<=\u001b[0m\u001b[0;36m60\u001b[0m\u001b[0;34m)\u001b[0m\u001b[0;34m:\u001b[0m\u001b[0;34m\u001b[0m\u001b[0m\n\u001b[1;32m     14\u001b[0m                         \u001b[0mprint\u001b[0m\u001b[0;34m(\u001b[0m\u001b[0;34m\"Here!\"\u001b[0m\u001b[0;34m)\u001b[0m\u001b[0;34m\u001b[0m\u001b[0m\n\u001b[0;32m---> 15\u001b[0;31m                         \u001b[0mflows\u001b[0m \u001b[0;34m=\u001b[0m \u001b[0mparameter_dependent_compute_coarse2fineFlow\u001b[0m\u001b[0;34m(\u001b[0m \u001b[0mmyosin_channel\u001b[0m\u001b[0;34m,\u001b[0m\u001b[0malpha\u001b[0m\u001b[0;34m,\u001b[0m\u001b[0mratio\u001b[0m\u001b[0;34m,\u001b[0m\u001b[0mminWidth\u001b[0m\u001b[0;34m,\u001b[0m\u001b[0mnOuterFPIterations\u001b[0m\u001b[0;34m,\u001b[0m\u001b[0mnInnerFPIterations\u001b[0m\u001b[0;34m,\u001b[0m\u001b[0mnSORIterations\u001b[0m\u001b[0;34m)\u001b[0m\u001b[0;34m\u001b[0m\u001b[0m\n\u001b[0m\u001b[1;32m     16\u001b[0m                         \u001b[0mflow_x\u001b[0m\u001b[0;34m,\u001b[0m \u001b[0mflow_y\u001b[0m \u001b[0;34m=\u001b[0m \u001b[0mbsu\u001b[0m\u001b[0;34m.\u001b[0m\u001b[0msplit_flow_components\u001b[0m\u001b[0;34m(\u001b[0m \u001b[0mflows\u001b[0m \u001b[0;34m)\u001b[0m\u001b[0;34m\u001b[0m\u001b[0m\n\u001b[1;32m     17\u001b[0m                         \u001b[0mavg_flow_x\u001b[0m \u001b[0;34m=\u001b[0m \u001b[0mbsu\u001b[0m\u001b[0;34m.\u001b[0m\u001b[0mflow_average\u001b[0m\u001b[0;34m(\u001b[0m\u001b[0mflow_x\u001b[0m\u001b[0;34m,\u001b[0m \u001b[0;36m1\u001b[0m\u001b[0;34m)\u001b[0m\u001b[0;34m\u001b[0m\u001b[0m\n",
      "\u001b[0;32m<ipython-input-10-4897b81ab7ee>\u001b[0m in \u001b[0;36mparameter_dependent_compute_coarse2fineFlow\u001b[0;34m(flowchannel, alpha, ratio, minWidth, nOuterFPIterations, nInnerFPIterations, nSORIterations)\u001b[0m\n\u001b[1;32m     12\u001b[0m         \u001b[0mnxt\u001b[0m \u001b[0;34m=\u001b[0m \u001b[0mnxt\u001b[0m\u001b[0;34m[\u001b[0m\u001b[0;34m:\u001b[0m\u001b[0;34m,\u001b[0m\u001b[0;34m:\u001b[0m\u001b[0;34m,\u001b[0m\u001b[0mnp\u001b[0m\u001b[0;34m.\u001b[0m\u001b[0mnewaxis\u001b[0m\u001b[0;34m]\u001b[0m\u001b[0;34m\u001b[0m\u001b[0m\n\u001b[1;32m     13\u001b[0m \u001b[0;34m\u001b[0m\u001b[0m\n\u001b[0;32m---> 14\u001b[0;31m         \u001b[0mu\u001b[0m\u001b[0;34m,\u001b[0m \u001b[0mv\u001b[0m\u001b[0;34m,\u001b[0m \u001b[0mim2W\u001b[0m \u001b[0;34m=\u001b[0m \u001b[0mpyflow\u001b[0m\u001b[0;34m.\u001b[0m\u001b[0mcoarse2fine_flow\u001b[0m\u001b[0;34m(\u001b[0m\u001b[0mprvs\u001b[0m\u001b[0;34m,\u001b[0m \u001b[0mnxt\u001b[0m\u001b[0;34m,\u001b[0m \u001b[0malpha\u001b[0m\u001b[0;34m,\u001b[0m \u001b[0mratio\u001b[0m\u001b[0;34m,\u001b[0m \u001b[0mminWidth\u001b[0m\u001b[0;34m,\u001b[0m \u001b[0mnOuterFPIterations\u001b[0m\u001b[0;34m,\u001b[0m \u001b[0mnInnerFPIterations\u001b[0m\u001b[0;34m,\u001b[0m\u001b[0mnSORIterations\u001b[0m\u001b[0;34m,\u001b[0m \u001b[0mcolType\u001b[0m\u001b[0;34m)\u001b[0m\u001b[0;34m\u001b[0m\u001b[0m\n\u001b[0m\u001b[1;32m     15\u001b[0m         \u001b[0mflow\u001b[0m \u001b[0;34m=\u001b[0m \u001b[0mnp\u001b[0m\u001b[0;34m.\u001b[0m\u001b[0mconcatenate\u001b[0m\u001b[0;34m(\u001b[0m\u001b[0;34m(\u001b[0m\u001b[0mu\u001b[0m\u001b[0;34m[\u001b[0m\u001b[0;34m...\u001b[0m\u001b[0;34m,\u001b[0m \u001b[0;32mNone\u001b[0m\u001b[0;34m]\u001b[0m\u001b[0;34m,\u001b[0m \u001b[0mv\u001b[0m\u001b[0;34m[\u001b[0m\u001b[0;34m...\u001b[0m\u001b[0;34m,\u001b[0m \u001b[0;32mNone\u001b[0m\u001b[0;34m]\u001b[0m\u001b[0;34m)\u001b[0m\u001b[0;34m,\u001b[0m \u001b[0maxis\u001b[0m\u001b[0;34m=\u001b[0m\u001b[0;36m2\u001b[0m\u001b[0;34m)\u001b[0m\u001b[0;34m\u001b[0m\u001b[0m\n\u001b[1;32m     16\u001b[0m \u001b[0;34m\u001b[0m\u001b[0m\n",
      "\u001b[0;31mKeyboardInterrupt\u001b[0m: "
     ]
    }
   ],
   "source": [
    "alpha = initial_alpha\n",
    "ratio = initial_ratio \n",
    "minWidth = initial_minWidth\n",
    "nOuterFPIterations = initial_nOuterFPIterations\n",
    "nInnerFPIterations = initial_nInnerFPIterations\n",
    "nSORIterations = initial_nSORIterations\n",
    "\n",
    "while(alpha<=0.016):\n",
    "    while(ratio<=0.85):\n",
    "        while(minWidth<=30):\n",
    "            while(nOuterFPIterations<=7):\n",
    "                while(nInnerFPIterations<=1):\n",
    "                    while(nSORIterations<=40):\n",
    "                        \n",
    "                        flows = parameter_dependent_compute_coarse2fineFlow( myosin_channel,alpha,ratio,minWidth,nOuterFPIterations,nInnerFPIterations,nSORIterations)\n",
    "                        flow_x, flow_y = bsu.split_flow_components( flows )\n",
    "                        avg_flow_x = bsu.flow_average(flow_x, 1)\n",
    "                        avg_flow_y = bsu.flow_average(flow_y, 1)\n",
    "\n",
    "\n",
    "                        flow_points = []\n",
    "                        flow_points_flat_list = []\n",
    "                        for frame, points in enumerate(center_points):\n",
    "                            flow_points_per_frame = []\n",
    "                            for i in range(len(points)):\n",
    "                                position = bsu.update_pos(points[i], frame, avg_flow_x, avg_flow_y )\n",
    "                                flow_points_per_frame.append(position)\n",
    "                                flow_points.append(flow_points_per_frame)\n",
    "                        \n",
    "                        flow_points_flat_list = [item for sublist in flow_points for item in sublist]\n",
    "                        cumulative_relative_offset = 0\n",
    "                        relative_offset_list = []\n",
    "                        measure_list = []\n",
    "    \n",
    "                        for i in range(len(center_points_flat_list)):\n",
    "                            offset = bsu.euclid_dist(manual_track_points_flat_list[i], flow_points_flat_list[i])\n",
    "                            r = bsu.euclid_dist(manual_track_points_flat_list[i], center_points_flat_list[i])\n",
    "                            relative_offset = offset/r\n",
    "                            measure = abs(relative_offset-1)\n",
    "                            relative_offset_list.append(relative_offset)\n",
    "                            measure_list.append(measure)\n",
    "                            cumulative_relative_offset = cumulative_relative_offset + measure\n",
    "                        average_cumulative_relative_offset = cumulative_relative_offset / len(center_points_flat_list)\n",
    "                       \n",
    "                        if (average_cumulative_relative_offset<best_relative_offset):\n",
    "                            best_alpha = alpha\n",
    "                            best_ratio = ratio\n",
    "                            best_minWidth = minWidth\n",
    "                            best_nOuterFPIterations = nOuterFPIterations\n",
    "                            best_nInnerFPIterations = nInnerFPIterations\n",
    "                            best_nSORIterations = nSORIterations\n",
    "                            best_relative_offset = average_cumulative_relative_offset\n",
    "                            \n",
    "                        nSORIterations = nSORIterations + 10\n",
    "                        #print(polygons_sigma)\n",
    "                        \n",
    "                        \n",
    "                    nSORIterations = initial_nSORIterations\n",
    "                    nInnerFPIterations = nInnerFPIterations+1\n",
    "                    #print(polygons_n)\n",
    "                    \n",
    "                nInnerFPIterations = initial_nInnerFPIterations\n",
    "                nOuterFPIterations = nOuterFPIterations+2\n",
    "                #print(loops)\n",
    "                \n",
    "            nOuterFPIterations = initial_nOuterFPIterations\n",
    "            minWidth = minWidth+10\n",
    "            #print(window_size)\n",
    "            \n",
    "        minWidth = initial_minWidth\n",
    "        ratio = ratio +0.1\n",
    "        #print(pyramid_levels)\n",
    "        \n",
    "        \n",
    "    ratio =initial_ratio\n",
    "    alpha = alpha+0.002                       "
   ]
  },
  {
   "cell_type": "code",
   "execution_count": null,
   "metadata": {
    "collapsed": true
   },
   "outputs": [],
   "source": [
    "print(\"alpha:\", best_alpha)\n",
    "print(\"ratio:\", best_ratio)\n",
    "print(\"minWidth:\", best_minWidth)\n",
    "print(\"nOuterFPIterations\", best_nOuterFPIterations)\n",
    "print(\"nInnerFPIterations\", best_nInnerFPIterations)\n",
    "print(\"nSORIterations:\",best_nSORIterations )\n",
    "print(\"Relative offset measure:\", best_relative_offset)"
   ]
  },
  {
   "cell_type": "code",
   "execution_count": null,
   "metadata": {
    "collapsed": true
   },
   "outputs": [],
   "source": []
  },
  {
   "cell_type": "code",
   "execution_count": null,
   "metadata": {
    "collapsed": true
   },
   "outputs": [],
   "source": []
  },
  {
   "cell_type": "code",
   "execution_count": null,
   "metadata": {
    "collapsed": true
   },
   "outputs": [],
   "source": []
  },
  {
   "cell_type": "code",
   "execution_count": 7,
   "metadata": {
    "collapsed": true
   },
   "outputs": [],
   "source": [
    "#Initial parameters for starting the grid search for optimal flow parameters\n",
    "initial_pyramid_scale = 0.25\n",
    "initial_pyramid_level = 1\n",
    "initial_window_size = 3\n",
    "initial_loops = 1\n",
    "initial_polygons_n = 1\n",
    "initial_polygons_sigma = 1\n",
    "best_relative_offset = 1000000"
   ]
  },
  {
   "cell_type": "code",
   "execution_count": 8,
   "metadata": {
    "collapsed": true
   },
   "outputs": [],
   "source": [
    "def parameter_dependent_compute_flow( flowchannel, pyramid_scale, pyramid_levels, window_size, loops, polygons_n, polygons_sigma ):\n",
    "    '''Computes the Farneback dense flow for the given movie based on passed parameters\n",
    "    '''\n",
    "    flows = []\n",
    "    prvs = flowchannel[0]\n",
    "    for f in range(flowchannel.shape[0]):\n",
    "        nxt = flowchannel[f]\n",
    "        flow = cv2.calcOpticalFlowFarneback(prev=prvs,\n",
    "                                            next=nxt,\n",
    "                                            flow=None,\n",
    "                                            pyr_scale=pyramid_scale, \n",
    "                                            levels=pyramid_levels,\n",
    "                                            winsize=window_size,\n",
    "                                            iterations=loops,\n",
    "                                            poly_n=polygons_n, \n",
    "                                            poly_sigma=polygons_sigma, \n",
    "                                            flags=0)\n",
    "        flows.append(flow)\n",
    "        prvs = nxt\n",
    "        print ('.', end=\"\")\n",
    "    print (' ...done!')\n",
    "    return flows"
   ]
  },
  {
   "cell_type": "code",
   "execution_count": 9,
   "metadata": {
    "collapsed": true
   },
   "outputs": [],
   "source": [
    "###Parameter dependent Farneback Flow"
   ]
  },
  {
   "cell_type": "code",
   "execution_count": 10,
   "metadata": {
    "scrolled": true
   },
   "outputs": [
    {
     "name": "stdout",
     "output_type": "stream",
     "text": [
      "............................................................. ...done!\n",
      "............................................................. ...done!\n",
      "............................................................. ...done!\n",
      "............................................................. ...done!\n",
      "............................................................. ...done!\n",
      "............................................................. ...done!\n",
      "............................................................. ...done!\n",
      "............................................................. ...done!\n",
      "............................................................. ...done!\n",
      "............................................................. ...done!\n",
      "............................................................. ...done!\n",
      "............................................................. ...done!\n",
      "............................................................. ...done!\n",
      "............................................................. ...done!\n",
      "............................................................. ...done!\n",
      "............................................................. ...done!\n",
      "............................................................. ...done!\n",
      "............................................................. ...done!\n",
      "............................................................. ...done!\n",
      "............................................................. ...done!\n",
      "............................................................. ...done!\n",
      "............................................................. ...done!\n",
      "............................................................. ...done!\n",
      "............................................................. ...done!\n",
      "............................................................. ...done!\n",
      "............................................................. ...done!\n",
      "............................................................. ...done!\n",
      "............................................................. ...done!\n",
      "............................................................. ...done!\n",
      "............................................................. ...done!\n",
      "............................................................. ...done!\n",
      "............................................................. ...done!\n",
      "............................................................. ...done!\n",
      "............................................................. ...done!\n",
      "............................................................. ...done!\n",
      "............................................................. ...done!\n",
      "............................................................. ...done!\n",
      "............................................................. ...done!\n",
      "............................................................. ...done!\n",
      "............................................................. ...done!\n",
      "............................................................. ...done!\n",
      "............................................................. ...done!\n",
      "............................................................. ...done!\n",
      "............................................................. ...done!\n",
      "............................................................. ...done!\n",
      "............................................................. ...done!\n",
      "............................................................. ...done!\n",
      "............................................................. ...done!\n",
      "............................................................. ...done!\n",
      "............................................................. ...done!\n",
      "............................................................. ...done!\n",
      "............................................................. ...done!\n",
      "............................................................. ...done!\n",
      "............................................................. ...done!\n",
      "............................................................. ...done!\n",
      "............................................................. ...done!\n",
      "............................................................. ...done!\n",
      "............................................................. ...done!\n",
      "............................................................. ...done!\n",
      "............................................................. ...done!\n",
      "............................................................. ...done!\n",
      "............................................................. ...done!\n",
      "............................................................. ...done!\n",
      "............................................................. ...done!\n",
      "............................................................. ...done!\n",
      "............................................................. ...done!\n",
      "............................................................. ...done!\n",
      "............................................................. ...done!\n",
      "............................................................. ...done!\n",
      "............................................................. ...done!\n",
      "............................................................. ...done!\n",
      "............................................................. ...done!\n",
      "............................................................. ...done!\n",
      "............................................................. ...done!\n",
      "............................................................. ...done!\n",
      "............................................................. ...done!\n",
      "............................................................. ...done!\n",
      "............................................................. ...done!\n",
      "............................................................. ...done!\n",
      "............................................................. ...done!\n",
      "............................................................. ...done!\n",
      "............................................................. ...done!\n",
      "............................................................. ...done!\n",
      "............................................................. ...done!\n",
      "............................................................. ...done!\n",
      "............................................................. ...done!\n",
      "............................................................. ...done!\n",
      "............................................................. ...done!\n",
      "............................................................. ...done!\n",
      "............................................................. ...done!\n",
      "............................................................. ...done!\n",
      "............................................................. ...done!\n",
      "............................................................. ...done!\n",
      "............................................................. ...done!\n",
      "............................................................. ...done!\n",
      "............................................................. ...done!\n",
      "............................................................. ...done!\n",
      "............................................................. ...done!\n",
      "............................................................. ...done!\n",
      "............................................................. ...done!\n",
      "............................................................. ...done!\n",
      "............................................................. ...done!\n",
      "............................................................. ...done!\n",
      "............................................................. ...done!\n",
      "............................................................. ...done!\n",
      "............................................................. ...done!\n",
      "............................................................. ...done!\n",
      "............................................................. ...done!\n",
      "............................................................. ...done!\n",
      "............................................................. ...done!\n",
      "............................................................. ...done!\n",
      "............................................................. ...done!\n",
      "............................................................. ...done!\n",
      "............................................................. ...done!\n",
      "............................................................. ...done!\n",
      "............................................................. ...done!\n",
      "............................................................. ...done!\n",
      "............................................................. ...done!\n",
      "............................................................. ...done!\n",
      "............................................................. ...done!\n",
      "............................................................. ...done!\n",
      "............................................................. ...done!\n",
      "............................................................. ...done!\n",
      "............................................................. ...done!\n",
      "............................................................. ...done!\n",
      "............................................................. ...done!\n",
      "............................................................. ...done!\n",
      "............................................................. ...done!\n",
      "............................................................. ...done!\n",
      "............................................................. ...done!\n",
      "............................................................. ...done!\n",
      "............................................................. ...done!\n",
      "............................................................. ...done!\n",
      "............................................................. ...done!\n",
      "............................................................. ...done!\n",
      "............................................................. ...done!\n",
      "............................................................. ...done!\n",
      "............................................................. ...done!\n",
      "............................................................. ...done!\n",
      "............................................................. ...done!\n",
      "............................................................. ...done!\n",
      "............................................................. ...done!\n",
      "............................................................. ...done!\n",
      "............................................................. ...done!\n",
      "............................................................. ...done!\n",
      "............................................................. ...done!\n",
      "............................................................. ...done!\n",
      "............................................................. ...done!\n",
      "............................................................. ...done!\n",
      "............................................................. ...done!\n",
      "............................................................. ...done!\n",
      "............................................................. ...done!\n",
      "............................................................. ...done!\n",
      "............................................................. ...done!\n",
      "............................................................. ...done!\n",
      "............................................................. ...done!\n",
      "............................................................. ...done!\n",
      "....................................."
     ]
    },
    {
     "ename": "KeyboardInterrupt",
     "evalue": "",
     "output_type": "error",
     "traceback": [
      "\u001b[0;31m---------------------------------------------------------------------------\u001b[0m",
      "\u001b[0;31mKeyboardInterrupt\u001b[0m                         Traceback (most recent call last)",
      "\u001b[0;32m<ipython-input-10-44aeb1dc9392>\u001b[0m in \u001b[0;36m<module>\u001b[0;34m()\u001b[0m\n\u001b[1;32m     12\u001b[0m                 \u001b[0;32mwhile\u001b[0m\u001b[0;34m(\u001b[0m\u001b[0mpolygons_n\u001b[0m\u001b[0;34m<=\u001b[0m\u001b[0;36m5\u001b[0m\u001b[0;34m)\u001b[0m\u001b[0;34m:\u001b[0m\u001b[0;34m\u001b[0m\u001b[0m\n\u001b[1;32m     13\u001b[0m                     \u001b[0;32mwhile\u001b[0m\u001b[0;34m(\u001b[0m\u001b[0mpolygons_sigma\u001b[0m\u001b[0;34m<=\u001b[0m\u001b[0;36m2\u001b[0m\u001b[0;34m)\u001b[0m\u001b[0;34m:\u001b[0m\u001b[0;34m\u001b[0m\u001b[0m\n\u001b[0;32m---> 14\u001b[0;31m                         \u001b[0mflows\u001b[0m \u001b[0;34m=\u001b[0m \u001b[0mparameter_dependent_compute_flow\u001b[0m\u001b[0;34m(\u001b[0m \u001b[0mmyosin_channel\u001b[0m\u001b[0;34m,\u001b[0m \u001b[0mpyramid_scale\u001b[0m\u001b[0;34m,\u001b[0m \u001b[0mpyramid_levels\u001b[0m\u001b[0;34m,\u001b[0m \u001b[0mwindow_size\u001b[0m\u001b[0;34m,\u001b[0m \u001b[0mloops\u001b[0m\u001b[0;34m,\u001b[0m \u001b[0mpolygons_n\u001b[0m\u001b[0;34m,\u001b[0m \u001b[0mpolygons_sigma\u001b[0m \u001b[0;34m)\u001b[0m\u001b[0;34m\u001b[0m\u001b[0m\n\u001b[0m\u001b[1;32m     15\u001b[0m                         \u001b[0mflow_x\u001b[0m\u001b[0;34m,\u001b[0m \u001b[0mflow_y\u001b[0m \u001b[0;34m=\u001b[0m \u001b[0mbsu\u001b[0m\u001b[0;34m.\u001b[0m\u001b[0msplit_flow_components\u001b[0m\u001b[0;34m(\u001b[0m \u001b[0mflows\u001b[0m \u001b[0;34m)\u001b[0m\u001b[0;34m\u001b[0m\u001b[0m\n\u001b[1;32m     16\u001b[0m                         \u001b[0mavg_flow_x\u001b[0m \u001b[0;34m=\u001b[0m \u001b[0mbsu\u001b[0m\u001b[0;34m.\u001b[0m\u001b[0mflow_average\u001b[0m\u001b[0;34m(\u001b[0m\u001b[0mflow_x\u001b[0m\u001b[0;34m,\u001b[0m \u001b[0;36m1\u001b[0m\u001b[0;34m)\u001b[0m\u001b[0;34m\u001b[0m\u001b[0m\n",
      "\u001b[0;32m<ipython-input-8-6a85f75f457b>\u001b[0m in \u001b[0;36mparameter_dependent_compute_flow\u001b[0;34m(flowchannel, pyramid_scale, pyramid_levels, window_size, loops, polygons_n, polygons_sigma)\u001b[0m\n\u001b[1;32m     15\u001b[0m                                             \u001b[0mpoly_n\u001b[0m\u001b[0;34m=\u001b[0m\u001b[0mpolygons_n\u001b[0m\u001b[0;34m,\u001b[0m\u001b[0;34m\u001b[0m\u001b[0m\n\u001b[1;32m     16\u001b[0m                                             \u001b[0mpoly_sigma\u001b[0m\u001b[0;34m=\u001b[0m\u001b[0mpolygons_sigma\u001b[0m\u001b[0;34m,\u001b[0m\u001b[0;34m\u001b[0m\u001b[0m\n\u001b[0;32m---> 17\u001b[0;31m                                             flags=0)\n\u001b[0m\u001b[1;32m     18\u001b[0m         \u001b[0mflows\u001b[0m\u001b[0;34m.\u001b[0m\u001b[0mappend\u001b[0m\u001b[0;34m(\u001b[0m\u001b[0mflow\u001b[0m\u001b[0;34m)\u001b[0m\u001b[0;34m\u001b[0m\u001b[0m\n\u001b[1;32m     19\u001b[0m         \u001b[0mprvs\u001b[0m \u001b[0;34m=\u001b[0m \u001b[0mnxt\u001b[0m\u001b[0;34m\u001b[0m\u001b[0m\n",
      "\u001b[0;31mKeyboardInterrupt\u001b[0m: "
     ]
    }
   ],
   "source": [
    "pyramid_scale = initial_pyramid_scale\n",
    "pyramid_levels = initial_pyramid_level \n",
    "window_size = initial_window_size\n",
    "loops = initial_loops\n",
    "polygons_n = initial_polygons_n\n",
    "polygons_sigma = initial_polygons_sigma\n",
    "\n",
    "while(pyramid_scale<=0.75):\n",
    "    while(pyramid_levels<=3):\n",
    "        while(window_size<=7):\n",
    "            while(loops<=3):\n",
    "                while(polygons_n<=5):\n",
    "                    while(polygons_sigma<=2):\n",
    "                        flows = parameter_dependent_compute_flow( myosin_channel, pyramid_scale, pyramid_levels, window_size, loops, polygons_n, polygons_sigma )\n",
    "                        flow_x, flow_y = bsu.split_flow_components( flows )\n",
    "                        avg_flow_x = bsu.flow_average(flow_x, 1)\n",
    "                        avg_flow_y = bsu.flow_average(flow_y, 1)\n",
    "\n",
    "\n",
    "                        flow_points = []\n",
    "                        flow_points_flat_list = []\n",
    "                        for frame, points in enumerate(center_points):\n",
    "                            flow_points_per_frame = []\n",
    "                            for i in range(len(points)):\n",
    "                                position = bsu.update_pos(points[i], frame, avg_flow_x, avg_flow_y )\n",
    "                                flow_points_per_frame.append(position)\n",
    "                                flow_points.append(flow_points_per_frame)\n",
    "                        \n",
    "                        flow_points_flat_list = [item for sublist in flow_points for item in sublist]\n",
    "                        cumulative_relative_offset = 0\n",
    "                        relative_offset_list = []\n",
    "                        measure_list = []\n",
    "    \n",
    "                        for i in range(len(center_points_flat_list)):\n",
    "                            offset = bsu.euclid_dist(manual_track_points_flat_list[i], flow_points_flat_list[i])\n",
    "                            r = bsu.euclid_dist(manual_track_points_flat_list[i], center_points_flat_list[i])\n",
    "                            relative_offset = offset/r\n",
    "                            measure = abs(relative_offset-1)\n",
    "                            relative_offset_list.append(relative_offset)\n",
    "                            measure_list.append(measure)\n",
    "                            cumulative_relative_offset = cumulative_relative_offset + measure\n",
    "                        average_cumulative_relative_offset = cumulative_relative_offset / len(center_points_flat_list)\n",
    "                       \n",
    "                        if (average_cumulative_relative_offset<best_relative_offset):\n",
    "                            best_pyr_scale = pyramid_scale\n",
    "                            best_levels = pyramid_levels\n",
    "                            best_win_size = window_size\n",
    "                            best_iterations = loops\n",
    "                            best_poly_n = polygons_n\n",
    "                            best_poly_sigma = polygons_sigma\n",
    "                            best_relative_offset = average_cumulative_relative_offset\n",
    "                            \n",
    "                        polygons_sigma = polygons_sigma + 0.2\n",
    "                        #print(polygons_sigma)\n",
    "                        \n",
    "                        \n",
    "                    polygons_sigma = initial_polygons_sigma\n",
    "                    polygons_n = polygons_n+1\n",
    "                    #print(polygons_n)\n",
    "                    \n",
    "                polygons_n = initial_polygons_n\n",
    "                loops = loops+1\n",
    "                #print(loops)\n",
    "                \n",
    "            loops = initial_loops\n",
    "            window_size = window_size+2\n",
    "            #print(window_size)\n",
    "            \n",
    "        window_size = initial_window_size\n",
    "        pyramid_levels = pyramid_levels +1\n",
    "        #print(pyramid_levels)\n",
    "        \n",
    "        \n",
    "    pyramid_levels =initial_pyramid_level\n",
    "    pyramid_scale = pyramid_scale+0.1                        "
   ]
  },
  {
   "cell_type": "code",
   "execution_count": null,
   "metadata": {
    "collapsed": true
   },
   "outputs": [],
   "source": [
    "print(\"pyr_scale:\", best_pyr_scale)\n",
    "print(\"levels:\", best_levels)\n",
    "print(\"win_size:\", best_win_size)\n",
    "print(\"iterations:\", best_iterations)\n",
    "print(\"poly_n:\", best_poly_n)\n",
    "print(\"poly_sigma:\",best_poly_sigma )"
   ]
  },
  {
   "cell_type": "code",
   "execution_count": null,
   "metadata": {
    "collapsed": true
   },
   "outputs": [],
   "source": [
    "print(\"Relative offset measure:\", best_relative_offset)"
   ]
  },
  {
   "cell_type": "code",
   "execution_count": null,
   "metadata": {
    "collapsed": true
   },
   "outputs": [],
   "source": []
  }
 ],
 "metadata": {
  "kernelspec": {
   "display_name": "Python [default]",
   "language": "python",
   "name": "python3"
  },
  "language_info": {
   "codemirror_mode": {
    "name": "ipython",
    "version": 3
   },
   "file_extension": ".py",
   "mimetype": "text/x-python",
   "name": "python",
   "nbconvert_exporter": "python",
   "pygments_lexer": "ipython3",
   "version": "3.5.5"
  }
 },
 "nbformat": 4,
 "nbformat_minor": 2
}
