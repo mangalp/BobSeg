{
 "cells": [
  {
   "cell_type": "code",
   "execution_count": 6,
   "metadata": {},
   "outputs": [],
   "source": [
    "import bresenham as bham"
   ]
  },
  {
   "cell_type": "code",
   "execution_count": 7,
   "metadata": {},
   "outputs": [
    {
     "data": {
      "text/plain": [
       "array([[ 3,  1,  8],\n",
       "       [ 2,  1,  7],\n",
       "       [ 2,  0,  6],\n",
       "       [ 2,  0,  5],\n",
       "       [ 2,  0,  4],\n",
       "       [ 1,  0,  3],\n",
       "       [ 1,  0,  2],\n",
       "       [ 1,  0,  1],\n",
       "       [ 1, -1,  0],\n",
       "       [ 0, -1, -1],\n",
       "       [ 0, -1, -2]])"
      ]
     },
     "execution_count": 7,
     "metadata": {},
     "output_type": "execute_result"
    }
   ],
   "source": [
    "s = np.array([[3, 1, 9]])\n",
    "t = np.array([[0, -1, -2]])\n",
    "bham.bresenhamline(s, t, max_iter=-1)"
   ]
  },
  {
   "cell_type": "code",
   "execution_count": null,
   "metadata": {
    "collapsed": true
   },
   "outputs": [],
   "source": []
  }
 ],
 "metadata": {
  "kernelspec": {
   "display_name": "Python 3",
   "language": "python",
   "name": "python3"
  },
  "language_info": {
   "codemirror_mode": {
    "name": "ipython",
    "version": 3
   },
   "file_extension": ".py",
   "mimetype": "text/x-python",
   "name": "python",
   "nbconvert_exporter": "python",
   "pygments_lexer": "ipython3",
   "version": "3.6.1"
  }
 },
 "nbformat": 4,
 "nbformat_minor": 1
}
